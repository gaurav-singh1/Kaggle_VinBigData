{
 "cells": [
  {
   "cell_type": "markdown",
   "metadata": {
    "papermill": {
     "duration": 0.021363,
     "end_time": "2021-03-31T04:05:21.416548",
     "exception": false,
     "start_time": "2021-03-31T04:05:21.395185",
     "status": "completed"
    },
    "tags": []
   },
   "source": [
    "The trained model is present with the name : CascadeRCNN_X101 VinBigData 20Ep MMDET in the datasets. "
   ]
  },
  {
   "cell_type": "code",
   "execution_count": 1,
   "metadata": {
    "_cell_guid": "b1076dfc-b9ad-4769-8c92-a6c4dae69d19",
    "_uuid": "8f2839f25d086af736a60e9eeb907d3b93b6e0e5",
    "execution": {
     "iopub.execute_input": "2021-03-31T04:05:21.461347Z",
     "iopub.status.busy": "2021-03-31T04:05:21.460758Z",
     "iopub.status.idle": "2021-03-31T04:05:21.644847Z",
     "shell.execute_reply": "2021-03-31T04:05:21.644303Z"
    },
    "papermill": {
     "duration": 0.207948,
     "end_time": "2021-03-31T04:05:21.645009",
     "exception": false,
     "start_time": "2021-03-31T04:05:21.437061",
     "status": "completed"
    },
    "tags": []
   },
   "outputs": [],
   "source": [
    "import os\n",
    "import cv2\n",
    "import random\n"
   ]
  },
  {
   "cell_type": "code",
   "execution_count": 2,
   "metadata": {
    "execution": {
     "iopub.execute_input": "2021-03-31T04:05:21.690333Z",
     "iopub.status.busy": "2021-03-31T04:05:21.689746Z",
     "iopub.status.idle": "2021-03-31T04:05:22.970959Z",
     "shell.execute_reply": "2021-03-31T04:05:22.970527Z"
    },
    "papermill": {
     "duration": 1.305386,
     "end_time": "2021-03-31T04:05:22.971082",
     "exception": false,
     "start_time": "2021-03-31T04:05:21.665696",
     "status": "completed"
    },
    "tags": []
   },
   "outputs": [
    {
     "name": "stdout",
     "output_type": "stream",
     "text": [
      "nvcc: NVIDIA (R) Cuda compiler driver\r\n",
      "Copyright (c) 2005-2019 NVIDIA Corporation\r\n",
      "Built on Wed_Oct_23_19:24:38_PDT_2019\r\n",
      "Cuda compilation tools, release 10.2, V10.2.89\r\n",
      "gcc (Ubuntu 7.5.0-3ubuntu1~18.04) 7.5.0\r\n",
      "Copyright (C) 2017 Free Software Foundation, Inc.\r\n",
      "This is free software; see the source for copying conditions.  There is NO\r\n",
      "warranty; not even for MERCHANTABILITY or FITNESS FOR A PARTICULAR PURPOSE.\r\n",
      "\r\n"
     ]
    }
   ],
   "source": [
    "# Check nvcc version\n",
    "!nvcc -V\n",
    "# Check GCC version\n",
    "!gcc --version"
   ]
  },
  {
   "cell_type": "code",
   "execution_count": 3,
   "metadata": {
    "execution": {
     "iopub.execute_input": "2021-03-31T04:05:23.025204Z",
     "iopub.status.busy": "2021-03-31T04:05:23.024317Z",
     "iopub.status.idle": "2021-03-31T04:13:56.609002Z",
     "shell.execute_reply": "2021-03-31T04:13:56.608528Z"
    },
    "papermill": {
     "duration": 513.615863,
     "end_time": "2021-03-31T04:13:56.609183",
     "exception": false,
     "start_time": "2021-03-31T04:05:22.993320",
     "status": "completed"
    },
    "tags": []
   },
   "outputs": [
    {
     "name": "stdout",
     "output_type": "stream",
     "text": [
      "this will take around 10 mins\n",
      "Collecting mmcv-full\r\n",
      "  Downloading mmcv-full-1.2.7.tar.gz (231 kB)\r\n",
      "\u001b[K     |████████████████████████████████| 231 kB 865 kB/s \r\n",
      "\u001b[?25hCollecting addict\r\n",
      "  Downloading addict-2.4.0-py3-none-any.whl (3.8 kB)\r\n",
      "Requirement already satisfied: numpy in /opt/conda/lib/python3.7/site-packages (from mmcv-full) (1.19.5)\r\n",
      "Requirement already satisfied: Pillow in /opt/conda/lib/python3.7/site-packages (from mmcv-full) (7.2.0)\r\n",
      "Requirement already satisfied: pyyaml in /opt/conda/lib/python3.7/site-packages (from mmcv-full) (5.3.1)\r\n",
      "Collecting yapf\r\n",
      "  Downloading yapf-0.31.0-py2.py3-none-any.whl (185 kB)\r\n",
      "\u001b[K     |████████████████████████████████| 185 kB 3.3 MB/s \r\n",
      "\u001b[?25hBuilding wheels for collected packages: mmcv-full\r\n",
      "  Building wheel for mmcv-full (setup.py) ... \u001b[?25l-\b \b\\\b \b|\b \b/\b \b-\b \b\\\b \b|\b \b/\b \b-\b \b\\\b \b|\b \b/\b \b-\b \b\\\b \b|\b \b/\b \b-\b \b\\\b \b|\b \b/\b \b-\b \b\\\b \b|\b \b/\b \b-\b \b\\\b \b|\b \b/\b \b-\b \b\\\b \b|\b \b/\b \b-\b \b\\\b \b|\b \b/\b \b-\b \b\\\b \b|\b \b/\b \b-\b \b\\\b \b|\b \b/\b \b-\b \bdone\r\n",
      "\u001b[?25h  Created wheel for mmcv-full: filename=mmcv_full-1.2.7-cp37-cp37m-linux_x86_64.whl size=20707359 sha256=9594dc1f21fb1aa6931ff884c2b473a450603ac7a9e7586fe585dc4f0f11ae9c\r\n",
      "  Stored in directory: /root/.cache/pip/wheels/3f/3d/5e/dbc82b2ea5f1e14d4fe044aea9aeb02a8a9402c051529659c2\r\n",
      "Successfully built mmcv-full\r\n",
      "Installing collected packages: yapf, addict, mmcv-full\r\n",
      "Successfully installed addict-2.4.0 mmcv-full-1.2.7 yapf-0.31.0\r\n",
      "CPU times: user 7.87 s, sys: 1.22 s, total: 9.1 s\n",
      "Wall time: 8min 33s\n"
     ]
    }
   ],
   "source": [
    "%%time\n",
    "\n",
    "print(\"this will take around 10 mins\")\n",
    "# install dependencies: (use cu101 because colab has CUDA 10.1)\n",
    "# !pip install -U torch==1.7.0+cu101 torchvision==0.6.1+cu101 -f https://download.pytorch.org/whl/torch_stable.html\n",
    "\n",
    "# install mmcv-full thus we could use CUDA operators\n",
    "!pip install mmcv-full\n"
   ]
  },
  {
   "cell_type": "code",
   "execution_count": 4,
   "metadata": {
    "execution": {
     "iopub.execute_input": "2021-03-31T04:13:56.695320Z",
     "iopub.status.busy": "2021-03-31T04:13:56.691506Z",
     "iopub.status.idle": "2021-03-31T04:14:27.923850Z",
     "shell.execute_reply": "2021-03-31T04:14:27.923382Z"
    },
    "papermill": {
     "duration": 31.27764,
     "end_time": "2021-03-31T04:14:27.923997",
     "exception": false,
     "start_time": "2021-03-31T04:13:56.646357",
     "status": "completed"
    },
    "tags": []
   },
   "outputs": [
    {
     "name": "stdout",
     "output_type": "stream",
     "text": [
      "Cloning into 'mmdetection'...\r\n",
      "remote: Enumerating objects: 135, done.\u001b[K\r\n",
      "remote: Counting objects: 100% (135/135), done.\u001b[K\r\n",
      "remote: Compressing objects: 100% (131/131), done.\u001b[K\r\n",
      "remote: Total 16664 (delta 28), reused 14 (delta 4), pack-reused 16529\u001b[K\r\n",
      "Receiving objects: 100% (16664/16664), 20.33 MiB | 22.48 MiB/s, done.\r\n",
      "Resolving deltas: 100% (11475/11475), done.\r\n",
      "Note: checking out '3e902c3afc62693a71d672edab9b22e35f7d4776'.\r\n",
      "\r\n",
      "You are in 'detached HEAD' state. You can look around, make experimental\r\n",
      "changes and commit them, and you can discard any commits you make in this\r\n",
      "state without impacting any branches by performing another checkout.\r\n",
      "\r\n",
      "If you want to create a new branch to retain commits you create, you may\r\n",
      "do so (now or later) by using -b with the checkout command again. Example:\r\n",
      "\r\n",
      "  git checkout -b <new-branch-name>\r\n",
      "\r\n",
      "/kaggle/working/mmdetection\n",
      "Obtaining file:///kaggle/working/mmdetection\r\n",
      "Requirement already satisfied: matplotlib in /opt/conda/lib/python3.7/site-packages (from mmdet==2.7.0) (3.3.3)\r\n",
      "Collecting mmpycocotools\r\n",
      "  Downloading mmpycocotools-12.0.3.tar.gz (23 kB)\r\n",
      "Requirement already satisfied: numpy in /opt/conda/lib/python3.7/site-packages (from mmdet==2.7.0) (1.19.5)\r\n",
      "Requirement already satisfied: six in /opt/conda/lib/python3.7/site-packages (from mmdet==2.7.0) (1.15.0)\r\n",
      "Requirement already satisfied: terminaltables in /opt/conda/lib/python3.7/site-packages (from mmdet==2.7.0) (3.1.0)\r\n",
      "Requirement already satisfied: pillow>=6.2.0 in /opt/conda/lib/python3.7/site-packages (from matplotlib->mmdet==2.7.0) (7.2.0)\r\n",
      "Requirement already satisfied: kiwisolver>=1.0.1 in /opt/conda/lib/python3.7/site-packages (from matplotlib->mmdet==2.7.0) (1.3.1)\r\n",
      "Requirement already satisfied: cycler>=0.10 in /opt/conda/lib/python3.7/site-packages (from matplotlib->mmdet==2.7.0) (0.10.0)\r\n",
      "Requirement already satisfied: python-dateutil>=2.1 in /opt/conda/lib/python3.7/site-packages (from matplotlib->mmdet==2.7.0) (2.8.1)\r\n",
      "Requirement already satisfied: pyparsing!=2.0.4,!=2.1.2,!=2.1.6,>=2.0.3 in /opt/conda/lib/python3.7/site-packages (from matplotlib->mmdet==2.7.0) (2.4.7)\r\n",
      "Requirement already satisfied: setuptools>=18.0 in /opt/conda/lib/python3.7/site-packages (from mmpycocotools->mmdet==2.7.0) (49.6.0.post20201009)\r\n",
      "Requirement already satisfied: cython>=0.27.3 in /opt/conda/lib/python3.7/site-packages (from mmpycocotools->mmdet==2.7.0) (0.29.21)\r\n",
      "Building wheels for collected packages: mmpycocotools\r\n",
      "  Building wheel for mmpycocotools (setup.py) ... \u001b[?25l-\b \b\\\b \b|\b \b/\b \b-\b \b\\\b \b|\b \bdone\r\n",
      "\u001b[?25h  Created wheel for mmpycocotools: filename=mmpycocotools-12.0.3-cp37-cp37m-linux_x86_64.whl size=272902 sha256=db2fd07384bf9e91e0827d1932e32362135bdfd4d36c06e86b12427565541df5\r\n",
      "  Stored in directory: /root/.cache/pip/wheels/cc/fa/4a/067979eccddf6a22b46722493df8e07b0541956a5ab5bac8b1\r\n",
      "Successfully built mmpycocotools\r\n",
      "Installing collected packages: mmpycocotools, mmdet\r\n",
      "  Running setup.py develop for mmdet\r\n",
      "Successfully installed mmdet mmpycocotools-12.0.3\r\n",
      "Collecting Pillow==7.0.0\r\n",
      "  Downloading Pillow-7.0.0-cp37-cp37m-manylinux1_x86_64.whl (2.1 MB)\r\n",
      "\u001b[K     |████████████████████████████████| 2.1 MB 865 kB/s \r\n",
      "\u001b[?25hInstalling collected packages: Pillow\r\n",
      "  Attempting uninstall: Pillow\r\n",
      "    Found existing installation: Pillow 7.2.0\r\n",
      "    Uninstalling Pillow-7.2.0:\r\n",
      "      Successfully uninstalled Pillow-7.2.0\r\n",
      "\u001b[31mERROR: pip's dependency resolver does not currently take into account all the packages that are installed. This behaviour is the source of the following dependency conflicts.\r\n",
      "bokeh 2.2.3 requires pillow>=7.1.0, but you have pillow 7.0.0 which is incompatible.\r\n",
      "bokeh 2.2.3 requires tornado>=5.1, but you have tornado 5.0.2 which is incompatible.\u001b[0m\r\n",
      "Successfully installed Pillow-7.0.0\r\n"
     ]
    }
   ],
   "source": [
    "!rm -rf mmdetection\n",
    "!git clone --branch v2.7.0 https://github.com/open-mmlab/mmdetection.git\n",
    "%cd mmdetection\n",
    "\n",
    "!pip install -e .\n",
    "\n",
    "# install Pillow 7.0.0 back in order to avoid bug in colab\n",
    "!pip install Pillow==7.0.0"
   ]
  },
  {
   "cell_type": "code",
   "execution_count": 5,
   "metadata": {
    "execution": {
     "iopub.execute_input": "2021-03-31T04:14:28.039324Z",
     "iopub.status.busy": "2021-03-31T04:14:28.038518Z",
     "iopub.status.idle": "2021-03-31T04:14:29.880587Z",
     "shell.execute_reply": "2021-03-31T04:14:29.879961Z"
    },
    "papermill": {
     "duration": 1.901893,
     "end_time": "2021-03-31T04:14:29.880752",
     "exception": false,
     "start_time": "2021-03-31T04:14:27.978859",
     "status": "completed"
    },
    "tags": []
   },
   "outputs": [
    {
     "name": "stdout",
     "output_type": "stream",
     "text": [
      "1.7.0 True\n",
      "2.7.0\n",
      "10.2\n",
      "GCC 7.5\n"
     ]
    }
   ],
   "source": [
    "# Check Pytorch installation\n",
    "import torch, torchvision\n",
    "print(torch.__version__, torch.cuda.is_available())\n",
    "\n",
    "# Check MMDetection installation\n",
    "import mmdet\n",
    "print(mmdet.__version__)\n",
    "\n",
    "# Check mmcv installation\n",
    "from mmcv.ops import get_compiling_cuda_version, get_compiler_version\n",
    "print(get_compiling_cuda_version())\n",
    "print(get_compiler_version())"
   ]
  },
  {
   "cell_type": "markdown",
   "metadata": {
    "papermill": {
     "duration": 0.053831,
     "end_time": "2021-03-31T04:14:29.989687",
     "exception": false,
     "start_time": "2021-03-31T04:14:29.935856",
     "status": "completed"
    },
    "tags": []
   },
   "source": [
    "# CascadeRNN101X Pretrained"
   ]
  },
  {
   "cell_type": "code",
   "execution_count": 6,
   "metadata": {
    "execution": {
     "iopub.execute_input": "2021-03-31T04:14:30.105239Z",
     "iopub.status.busy": "2021-03-31T04:14:30.104553Z",
     "iopub.status.idle": "2021-03-31T04:15:03.703678Z",
     "shell.execute_reply": "2021-03-31T04:15:03.703026Z"
    },
    "papermill": {
     "duration": 33.65938,
     "end_time": "2021-03-31T04:15:03.703822",
     "exception": false,
     "start_time": "2021-03-31T04:14:30.044442",
     "status": "completed"
    },
    "tags": []
   },
   "outputs": [
    {
     "name": "stdout",
     "output_type": "stream",
     "text": [
      "--2021-03-31 04:14:31--  https://s3.ap-northeast-2.amazonaws.com/open-mmlab/mmdetection/models/cascade_rcnn_x101_32x4d_fpn_1x_20190501-af628be5.pth\r\n",
      "Resolving s3.ap-northeast-2.amazonaws.com (s3.ap-northeast-2.amazonaws.com)... 52.219.58.117\r\n",
      "Connecting to s3.ap-northeast-2.amazonaws.com (s3.ap-northeast-2.amazonaws.com)|52.219.58.117|:443... connected.\r\n",
      "HTTP request sent, awaiting response... 200 OK\r\n",
      "Length: 352728209 (336M) [application/x-www-form-urlencoded]\r\n",
      "Saving to: ‘checkpoints/cascade_rcnn_x101_32x4d_fpn_1x_20190501-af628be5.pth’\r\n",
      "\r\n",
      "checkpoints/cascade 100%[===================>] 336.39M  11.5MB/s    in 31s     \r\n",
      "\r\n",
      "2021-03-31 04:15:03 (10.8 MB/s) - ‘checkpoints/cascade_rcnn_x101_32x4d_fpn_1x_20190501-af628be5.pth’ saved [352728209/352728209]\r\n",
      "\r\n"
     ]
    }
   ],
   "source": [
    "!mkdir checkpoints\n",
    "# !wget -c http://download.openmmlab.com/mmdetection/v2.0/mask_rcnn/mask_rcnn_r50_caffe_fpn_mstrain-poly_3x_coco/mask_rcnn_r50_caffe_fpn_mstrain-poly_3x_coco_bbox_mAP-0.408__segm_mAP-0.37_20200504_163245-42aa3d00.pth \\\n",
    "#       -O checkpoints/mask_rcnn_r50_caffe_fpn_mstrain-poly_3x_coco_bbox_mAP-0.408__segm_mAP-0.37_20200504_163245-42aa3d00.pth\n",
    "\n",
    "\n",
    "!wget -c https://s3.ap-northeast-2.amazonaws.com/open-mmlab/mmdetection/models/cascade_rcnn_x101_32x4d_fpn_1x_20190501-af628be5.pth \\\n",
    "      -O checkpoints/cascade_rcnn_x101_32x4d_fpn_1x_20190501-af628be5.pth\n"
   ]
  },
  {
   "cell_type": "code",
   "execution_count": 7,
   "metadata": {
    "execution": {
     "iopub.execute_input": "2021-03-31T04:15:04.313554Z",
     "iopub.status.busy": "2021-03-31T04:15:04.312949Z",
     "iopub.status.idle": "2021-03-31T04:15:04.516077Z",
     "shell.execute_reply": "2021-03-31T04:15:04.515597Z"
    },
    "papermill": {
     "duration": 0.722352,
     "end_time": "2021-03-31T04:15:04.516236",
     "exception": false,
     "start_time": "2021-03-31T04:15:03.793884",
     "status": "completed"
    },
    "tags": []
   },
   "outputs": [],
   "source": [
    "test_anno = \"../../input/vinbigdata-1024-image-dataset/vinbigdata/test\"\n",
    "\n",
    "ids = os.listdir(test_anno)"
   ]
  },
  {
   "cell_type": "code",
   "execution_count": 8,
   "metadata": {
    "execution": {
     "iopub.execute_input": "2021-03-31T04:15:04.695914Z",
     "iopub.status.busy": "2021-03-31T04:15:04.695389Z",
     "iopub.status.idle": "2021-03-31T04:15:04.700503Z",
     "shell.execute_reply": "2021-03-31T04:15:04.700910Z"
    },
    "papermill": {
     "duration": 0.098478,
     "end_time": "2021-03-31T04:15:04.701041",
     "exception": false,
     "start_time": "2021-03-31T04:15:04.602563",
     "status": "completed"
    },
    "tags": []
   },
   "outputs": [
    {
     "data": {
      "text/plain": [
       "3000"
      ]
     },
     "execution_count": 8,
     "metadata": {},
     "output_type": "execute_result"
    }
   ],
   "source": [
    "len(ids)"
   ]
  },
  {
   "cell_type": "code",
   "execution_count": null,
   "metadata": {
    "papermill": {
     "duration": 0.086467,
     "end_time": "2021-03-31T04:15:04.881559",
     "exception": false,
     "start_time": "2021-03-31T04:15:04.795092",
     "status": "completed"
    },
    "tags": []
   },
   "outputs": [],
   "source": []
  },
  {
   "cell_type": "markdown",
   "metadata": {
    "papermill": {
     "duration": 0.086183,
     "end_time": "2021-03-31T04:15:05.053835",
     "exception": false,
     "start_time": "2021-03-31T04:15:04.967652",
     "status": "completed"
    },
    "tags": []
   },
   "source": [
    "# Preparing Test Annotation file"
   ]
  },
  {
   "cell_type": "markdown",
   "metadata": {
    "papermill": {
     "duration": 0.086084,
     "end_time": "2021-03-31T04:15:05.226069",
     "exception": false,
     "start_time": "2021-03-31T04:15:05.139985",
     "status": "completed"
    },
    "tags": []
   },
   "source": []
  },
  {
   "cell_type": "code",
   "execution_count": 9,
   "metadata": {
    "execution": {
     "iopub.execute_input": "2021-03-31T04:15:05.408384Z",
     "iopub.status.busy": "2021-03-31T04:15:05.407511Z",
     "iopub.status.idle": "2021-03-31T04:15:05.409957Z",
     "shell.execute_reply": "2021-03-31T04:15:05.410353Z"
    },
    "papermill": {
     "duration": 0.098308,
     "end_time": "2021-03-31T04:15:05.410495",
     "exception": false,
     "start_time": "2021-03-31T04:15:05.312187",
     "status": "completed"
    },
    "tags": []
   },
   "outputs": [],
   "source": [
    "img_infos = []\n",
    "for i, _id in enumerate(ids):\n",
    "    if '.png' in _id:\n",
    "        img_infos.append({\n",
    "                    \"license\": 0,\n",
    "                    \"url\": 'null',\n",
    "                    \"file_name\": _id,\n",
    "                    \"height\": 1024,\n",
    "                    \"width\": 1024,\n",
    "                    \"date_captured\": 'null',\n",
    "                    \"id\": _id\n",
    "                })"
   ]
  },
  {
   "cell_type": "code",
   "execution_count": 10,
   "metadata": {
    "execution": {
     "iopub.execute_input": "2021-03-31T04:15:05.588561Z",
     "iopub.status.busy": "2021-03-31T04:15:05.587968Z",
     "iopub.status.idle": "2021-03-31T04:15:05.593419Z",
     "shell.execute_reply": "2021-03-31T04:15:05.592570Z"
    },
    "papermill": {
     "duration": 0.096355,
     "end_time": "2021-03-31T04:15:05.593539",
     "exception": false,
     "start_time": "2021-03-31T04:15:05.497184",
     "status": "completed"
    },
    "tags": []
   },
   "outputs": [
    {
     "data": {
      "text/plain": [
       "{'license': 0,\n",
       " 'url': 'null',\n",
       " 'file_name': 'b3f67ac077531f44dd06275af31edbd9.png',\n",
       " 'height': 1024,\n",
       " 'width': 1024,\n",
       " 'date_captured': 'null',\n",
       " 'id': 'b3f67ac077531f44dd06275af31edbd9.png'}"
      ]
     },
     "execution_count": 10,
     "metadata": {},
     "output_type": "execute_result"
    }
   ],
   "source": [
    "img_infos[0]"
   ]
  },
  {
   "cell_type": "code",
   "execution_count": 11,
   "metadata": {
    "execution": {
     "iopub.execute_input": "2021-03-31T04:15:05.771898Z",
     "iopub.status.busy": "2021-03-31T04:15:05.771394Z",
     "iopub.status.idle": "2021-03-31T04:15:05.878019Z",
     "shell.execute_reply": "2021-03-31T04:15:05.877544Z"
    },
    "papermill": {
     "duration": 0.198181,
     "end_time": "2021-03-31T04:15:05.878320",
     "exception": false,
     "start_time": "2021-03-31T04:15:05.680139",
     "status": "completed"
    },
    "tags": []
   },
   "outputs": [],
   "source": [
    "import json\n",
    "val_anno = '../../input/vinbigdata-coco-dataset-with-wbf-3x-downscaled/vinbigdata-coco-dataset-with-wbf-3x-downscaled/val_annotations.json'\n",
    "\n",
    "with open(val_anno) as f:\n",
    "    dd = json.load(f)\n",
    "\n",
    "dd.keys()\n",
    "dd['annotations']=[]\n",
    "dd['images']\n",
    "dd['images'] = img_infos\n",
    "with open('./test_ann.json', 'w') as outfile:\n",
    "    json.dump(dd, outfile)"
   ]
  },
  {
   "cell_type": "code",
   "execution_count": 12,
   "metadata": {
    "execution": {
     "iopub.execute_input": "2021-03-31T04:15:06.069924Z",
     "iopub.status.busy": "2021-03-31T04:15:06.069384Z",
     "iopub.status.idle": "2021-03-31T04:15:06.279913Z",
     "shell.execute_reply": "2021-03-31T04:15:06.278878Z"
    },
    "papermill": {
     "duration": 0.307885,
     "end_time": "2021-03-31T04:15:06.280068",
     "exception": false,
     "start_time": "2021-03-31T04:15:05.972183",
     "status": "completed"
    },
    "tags": []
   },
   "outputs": [],
   "source": [
    "val_ids = os.listdir('../../input/vinbigdata-coco-dataset-with-wbf-3x-downscaled/vinbigdata-coco-dataset-with-wbf-3x-downscaled/val_images')"
   ]
  },
  {
   "cell_type": "code",
   "execution_count": 13,
   "metadata": {
    "execution": {
     "iopub.execute_input": "2021-03-31T04:15:06.460798Z",
     "iopub.status.busy": "2021-03-31T04:15:06.459966Z",
     "iopub.status.idle": "2021-03-31T04:15:06.462823Z",
     "shell.execute_reply": "2021-03-31T04:15:06.462418Z"
    },
    "papermill": {
     "duration": 0.094888,
     "end_time": "2021-03-31T04:15:06.462940",
     "exception": false,
     "start_time": "2021-03-31T04:15:06.368052",
     "status": "completed"
    },
    "tags": []
   },
   "outputs": [],
   "source": [
    "_classes = (\"Aortic_enlargement\", \"Atelectasis\", \"Calcification\", \"Cardiomegaly\", \"Consolidation\", \"ILD\", \"Infiltration\", \"Lung_Opacity\", \"Nodule/Mass\", \"Other_lesion\", \"Pleural_effusion\", \"Pleural_thickening\", \"Pneumothorax\", \"Pulmonary_fibrosis\")"
   ]
  },
  {
   "cell_type": "code",
   "execution_count": null,
   "metadata": {
    "papermill": {
     "duration": 0.087601,
     "end_time": "2021-03-31T04:15:06.638489",
     "exception": false,
     "start_time": "2021-03-31T04:15:06.550888",
     "status": "completed"
    },
    "tags": []
   },
   "outputs": [],
   "source": []
  },
  {
   "cell_type": "markdown",
   "metadata": {
    "papermill": {
     "duration": 0.087197,
     "end_time": "2021-03-31T04:15:06.814394",
     "exception": false,
     "start_time": "2021-03-31T04:15:06.727197",
     "status": "completed"
    },
    "tags": []
   },
   "source": [
    "# Custom Config Options"
   ]
  },
  {
   "cell_type": "code",
   "execution_count": 14,
   "metadata": {
    "execution": {
     "iopub.execute_input": "2021-03-31T04:15:06.998576Z",
     "iopub.status.busy": "2021-03-31T04:15:06.997859Z",
     "iopub.status.idle": "2021-03-31T04:15:07.001411Z",
     "shell.execute_reply": "2021-03-31T04:15:07.001942Z"
    },
    "papermill": {
     "duration": 0.100224,
     "end_time": "2021-03-31T04:15:07.002150",
     "exception": false,
     "start_time": "2021-03-31T04:15:06.901926",
     "status": "completed"
    },
    "tags": []
   },
   "outputs": [
    {
     "name": "stdout",
     "output_type": "stream",
     "text": [
      "dataset_type='CocoDataset' classes='(\"Aortic_enlargement\", \"Atelectasis\", \"Calcification\", \"Cardiomegaly\", \"Consolidation\", \"ILD\", \"Infiltration\", \"Lung_Opacity\", \"Nodule/Mass\", \"Other_lesion\", \"Pleural_effusion\", \"Pleural_thickening\", \"Pneumothorax\", \"Pulmonary_fibrosis\")' data.train.img_prefix='../../input/vinbigdata-coco-dataset-with-wbf-3x-downscaled/vinbigdata-coco-dataset-with-wbf-3x-downscaled/' data.train.classes='(\"Aortic_enlargement\", \"Atelectasis\", \"Calcification\", \"Cardiomegaly\", \"Consolidation\", \"ILD\", \"Infiltration\", \"Lung_Opacity\", \"Nodule/Mass\", \"Other_lesion\", \"Pleural_effusion\", \"Pleural_thickening\", \"Pneumothorax\", \"Pulmonary_fibrosis\")' data.train.ann_file='../../input/vinbigdata-coco-dataset-with-wbf-3x-downscaled/vinbigdata-coco-dataset-with-wbf-3x-downscaled/train_annotations.json' data.train.type='CocoDataset' data.val.img_prefix='../../input/vinbigdata-coco-dataset-with-wbf-3x-downscaled/vinbigdata-coco-dataset-with-wbf-3x-downscaled/' data.val.classes='(\"Aortic_enlargement\", \"Atelectasis\", \"Calcification\", \"Cardiomegaly\", \"Consolidation\", \"ILD\", \"Infiltration\", \"Lung_Opacity\", \"Nodule/Mass\", \"Other_lesion\", \"Pleural_effusion\", \"Pleural_thickening\", \"Pneumothorax\", \"Pulmonary_fibrosis\")' data.val.ann_file='../../input/vinbigdata-coco-dataset-with-wbf-3x-downscaled/vinbigdata-coco-dataset-with-wbf-3x-downscaled/val_annotations.json' data.val.type='CocoDataset' data.test.img_prefix='../../input/vinbigdata-1024-image-dataset/vinbigdata/test/' data.test.classes='(\"Aortic_enlargement\", \"Atelectasis\", \"Calcification\", \"Cardiomegaly\", \"Consolidation\", \"ILD\", \"Infiltration\", \"Lung_Opacity\", \"Nodule/Mass\", \"Other_lesion\", \"Pleural_effusion\", \"Pleural_thickening\", \"Pneumothorax\", \"Pulmonary_fibrosis\")' data.test.ann_file='./test_ann.json' data.test.type='CocoDataset' log_config.interval='10' evaluation.metric='bbox' load_from='./checkpoints/cascade_rcnn_x101_32x4d_fpn_1x_20190501-af628be5.pth' work_dir='../vinbig_output' total_epochs='21' \n"
     ]
    }
   ],
   "source": [
    "_cfg_options = {\"dataset_type\" : 'CocoDataset',\n",
    "\"classes\" : '''(\"Aortic_enlargement\", \"Atelectasis\", \"Calcification\", \"Cardiomegaly\", \"Consolidation\", \"ILD\", \"Infiltration\", \"Lung_Opacity\", \"Nodule/Mass\", \"Other_lesion\", \"Pleural_effusion\", \"Pleural_thickening\", \"Pneumothorax\", \"Pulmonary_fibrosis\")''',\n",
    "\"data.train.img_prefix\" : '../../input/vinbigdata-coco-dataset-with-wbf-3x-downscaled/vinbigdata-coco-dataset-with-wbf-3x-downscaled/',\n",
    "\"data.train.classes\" : '''(\"Aortic_enlargement\", \"Atelectasis\", \"Calcification\", \"Cardiomegaly\", \"Consolidation\", \"ILD\", \"Infiltration\", \"Lung_Opacity\", \"Nodule/Mass\", \"Other_lesion\", \"Pleural_effusion\", \"Pleural_thickening\", \"Pneumothorax\", \"Pulmonary_fibrosis\")''',\n",
    "\"data.train.ann_file\" : '../../input/vinbigdata-coco-dataset-with-wbf-3x-downscaled/vinbigdata-coco-dataset-with-wbf-3x-downscaled/train_annotations.json',\n",
    "\"data.train.type\" : 'CocoDataset',\n",
    "\"data.val.img_prefix\" : '../../input/vinbigdata-coco-dataset-with-wbf-3x-downscaled/vinbigdata-coco-dataset-with-wbf-3x-downscaled/',\n",
    "\"data.val.classes\" : '''(\"Aortic_enlargement\", \"Atelectasis\", \"Calcification\", \"Cardiomegaly\", \"Consolidation\", \"ILD\", \"Infiltration\", \"Lung_Opacity\", \"Nodule/Mass\", \"Other_lesion\", \"Pleural_effusion\", \"Pleural_thickening\", \"Pneumothorax\", \"Pulmonary_fibrosis\")''',\n",
    "\"data.val.ann_file\" : '../../input/vinbigdata-coco-dataset-with-wbf-3x-downscaled/vinbigdata-coco-dataset-with-wbf-3x-downscaled/val_annotations.json',\n",
    "\"data.val.type\" : 'CocoDataset',\n",
    "\"data.test.img_prefix\" : '../../input/vinbigdata-1024-image-dataset/vinbigdata/test/',\n",
    "\"data.test.classes\" : '''(\"Aortic_enlargement\", \"Atelectasis\", \"Calcification\", \"Cardiomegaly\", \"Consolidation\", \"ILD\", \"Infiltration\", \"Lung_Opacity\", \"Nodule/Mass\", \"Other_lesion\", \"Pleural_effusion\", \"Pleural_thickening\", \"Pneumothorax\", \"Pulmonary_fibrosis\")''',\n",
    "\"data.test.ann_file\" : './test_ann.json',\n",
    "\"data.test.type\":'CocoDataset',\n",
    "\"data.train.type\" : 'CocoDataset',\n",
    "\"data.val.type\" : 'CocoDataset',\n",
    "\"data.test.type\" : 'CocoDataset',\n",
    "\"log_config.interval\" : 10,\n",
    "\"evaluation.metric\" : 'bbox',\n",
    "\"load_from\" : './checkpoints/cascade_rcnn_x101_32x4d_fpn_1x_20190501-af628be5.pth',\n",
    "\"work_dir\" : \"../vinbig_output\",\n",
    "\"total_epochs\" : '21'}\n",
    "\n",
    "\n",
    "# \"model.roi_head.bbox_head[0].num_classes\" : '14',\n",
    "# \"model.roi_head.bbox_head[1].num_classes\" : '14',\n",
    "# \"model.roi_head.bbox_head[2].num_classes\" : '14',\n",
    "\n",
    "cfg_op = \"\"\n",
    "for k, v in _cfg_options.items():\n",
    "    cfg_op+=f\"{k}='{v}' \"\n",
    "print(cfg_op)\n"
   ]
  },
  {
   "cell_type": "markdown",
   "metadata": {
    "papermill": {
     "duration": 0.087967,
     "end_time": "2021-03-31T04:15:07.180227",
     "exception": false,
     "start_time": "2021-03-31T04:15:07.092260",
     "status": "completed"
    },
    "tags": []
   },
   "source": [
    "# Loading the 20ep trained model"
   ]
  },
  {
   "cell_type": "code",
   "execution_count": 15,
   "metadata": {
    "execution": {
     "iopub.execute_input": "2021-03-31T04:15:07.362701Z",
     "iopub.status.busy": "2021-03-31T04:15:07.361717Z",
     "iopub.status.idle": "2021-03-31T04:15:22.877426Z",
     "shell.execute_reply": "2021-03-31T04:15:22.877856Z"
    },
    "papermill": {
     "duration": 15.609756,
     "end_time": "2021-03-31T04:15:22.878022",
     "exception": false,
     "start_time": "2021-03-31T04:15:07.268266",
     "status": "completed"
    },
    "tags": []
   },
   "outputs": [
    {
     "name": "stdout",
     "output_type": "stream",
     "text": [
      "Use load_from_local loader\n"
     ]
    },
    {
     "name": "stderr",
     "output_type": "stream",
     "text": [
      "/kaggle/working/mmdetection/mmdet/apis/inference.py:46: UserWarning: Class names are not saved in the checkpoint's meta data, use COCO classes by default.\n",
      "  warnings.warn('Class names are not saved in the checkpoint\\'s '\n"
     ]
    }
   ],
   "source": [
    "from mmdet.apis import inference_detector, init_detector, show_result_pyplot\n",
    "from mmcv import Config\n",
    "\n",
    "# Choose to use a config and initialize the detector\n",
    "# config = 'configs/faster_rcnn/faster_rcnn_r50_caffe_fpn_mstrain_1x_coco.py'\n",
    "config = Config.fromfile('./configs/cascade_rcnn/cascade_rcnn_x101_32x4d_fpn_1x_coco.py')\n",
    "config.model.roi_head.bbox_head[0].num_classes = 14\n",
    "config.model.roi_head.bbox_head[1].num_classes = 14\n",
    "config.model.roi_head.bbox_head[2].num_classes = 14\n",
    "checkpoint = '../../input/cascadercnnx-vinbigdata-20ep-1024/epoch_20.pth'\n",
    "# initialize the detector\n",
    "\n",
    "model = init_detector(config, checkpoint, device='cuda:0', cfg_options=_cfg_options)\n",
    "model.CLASSES = _classes\n"
   ]
  },
  {
   "cell_type": "markdown",
   "metadata": {
    "papermill": {
     "duration": 0.087938,
     "end_time": "2021-03-31T04:15:23.053643",
     "exception": false,
     "start_time": "2021-03-31T04:15:22.965705",
     "status": "completed"
    },
    "tags": []
   },
   "source": [
    "# Option 1 for inference - Using only 10 images for demo\n"
   ]
  },
  {
   "cell_type": "code",
   "execution_count": 16,
   "metadata": {
    "execution": {
     "iopub.execute_input": "2021-03-31T04:15:23.236440Z",
     "iopub.status.busy": "2021-03-31T04:15:23.235855Z",
     "iopub.status.idle": "2021-03-31T04:24:06.347884Z",
     "shell.execute_reply": "2021-03-31T04:24:06.348715Z"
    },
    "papermill": {
     "duration": 523.206555,
     "end_time": "2021-03-31T04:24:06.348908",
     "exception": false,
     "start_time": "2021-03-31T04:15:23.142353",
     "status": "completed"
    },
    "tags": []
   },
   "outputs": [
    {
     "name": "stderr",
     "output_type": "stream",
     "text": [
      "/opt/conda/lib/python3.7/site-packages/ipykernel/ipkernel.py:281: DeprecationWarning: `should_run_async` will not call `transform_cell` automatically in the future. Please pass the result to `transformed_cell` argument and any exception that happen during thetransform in `preprocessing_exc_tuple` in IPython 7.17 and above.\n",
      "  and should_run_async(code)\n",
      "100%|██████████| 3000/3000 [08:43<00:00,  5.74it/s]\n"
     ]
    }
   ],
   "source": [
    "_id = random.randint(1,1098)\n",
    "# Use the detector to do inference\n",
    "# img = f'../../input/vinbigdata-coco-dataset-with-wbf-3x-downscaled/vinbigdata-coco-dataset-with-wbf-3x-downscaled/val_images/{val_ids[_id]}'\n",
    "from tqdm import tqdm\n",
    "test_img_ids = os.listdir(\"../../input/vinbigdata-1024-image-dataset/vinbigdata/test\")\n",
    "result = {}\n",
    "for _id in tqdm(test_img_ids, total=len(test_img_ids)):\n",
    "    img_path = \"../../input/vinbigdata-1024-image-dataset/vinbigdata/test/\" + f\"{_id}\"\n",
    "    pred = inference_detector(model, img_path)\n",
    "    result[_id] = pred\n",
    "# img = \"../../input/vinbigdata-1024-image-dataset/vinbigdata/test/002a34c58c5b758217ed1f584ccbcfe9.png\"\n",
    "# result = inference_detector(model, img)\n",
    "# show_result_pyplot(model, img, result, score_thr=0.3)"
   ]
  },
  {
   "cell_type": "markdown",
   "metadata": {
    "papermill": {
     "duration": 0.834474,
     "end_time": "2021-03-31T04:24:08.035607",
     "exception": false,
     "start_time": "2021-03-31T04:24:07.201133",
     "status": "completed"
    },
    "tags": []
   },
   "source": [
    "# Option 2 for inference"
   ]
  },
  {
   "cell_type": "code",
   "execution_count": 17,
   "metadata": {
    "execution": {
     "iopub.execute_input": "2021-03-31T04:24:10.005604Z",
     "iopub.status.busy": "2021-03-31T04:24:10.003772Z",
     "iopub.status.idle": "2021-03-31T04:24:10.006244Z",
     "shell.execute_reply": "2021-03-31T04:24:10.006637Z"
    },
    "papermill": {
     "duration": 0.960891,
     "end_time": "2021-03-31T04:24:10.006846",
     "exception": false,
     "start_time": "2021-03-31T04:24:09.045955",
     "status": "completed"
    },
    "tags": []
   },
   "outputs": [],
   "source": [
    "# !python tools/test.py ./configs/cascade_rcnn/cascade_rcnn_x101_32x4d_fpn_1x_coco.py ../../input/cascadercnnx-vinbigdata-20ep-1024/epoch_20.pth --cfg-options dataset_type='CocoDataset' classes='(\"Aortic_enlargement\", \"Atelectasis\", \"Calcification\", \"Cardiomegaly\", \"Consolidation\", \"ILD\", \"Infiltration\", \"Lung_Opacity\", \"Nodule/Mass\", \"Other_lesion\", \"Pleural_effusion\", \"Pleural_thickening\", \"Pneumothorax\", \"Pulmonary_fibrosis\")' data.train.img_prefix='../../input/vinbigdata-coco-dataset-with-wbf-3x-downscaled/vinbigdata-coco-dataset-with-wbf-3x-downscaled/' data.train.classes='(\"Aortic_enlargement\", \"Atelectasis\", \"Calcification\", \"Cardiomegaly\", \"Consolidation\", \"ILD\", \"Infiltration\", \"Lung_Opacity\", \"Nodule/Mass\", \"Other_lesion\", \"Pleural_effusion\", \"Pleural_thickening\", \"Pneumothorax\", \"Pulmonary_fibrosis\")' data.train.ann_file='../../input/vinbigdata-coco-dataset-with-wbf-3x-downscaled/vinbigdata-coco-dataset-with-wbf-3x-downscaled/train_annotations.json' data.train.type='CocoDataset' data.val.img_prefix='../../input/vinbigdata-coco-dataset-with-wbf-3x-downscaled/vinbigdata-coco-dataset-with-wbf-3x-downscaled/' data.val.classes='(\"Aortic_enlargement\", \"Atelectasis\", \"Calcification\", \"Cardiomegaly\", \"Consolidation\", \"ILD\", \"Infiltration\", \"Lung_Opacity\", \"Nodule/Mass\", \"Other_lesion\", \"Pleural_effusion\", \"Pleural_thickening\", \"Pneumothorax\", \"Pulmonary_fibrosis\")' data.val.ann_file='../../input/vinbigdata-coco-dataset-with-wbf-3x-downscaled/vinbigdata-coco-dataset-with-wbf-3x-downscaled/val_annotations.json' data.val.type='CocoDataset' data.test.img_prefix='../../input/vinbigdata-1024-image-dataset/vinbigdata/test/' data.test.classes='(\"Aortic_enlargement\", \"Atelectasis\", \"Calcification\", \"Cardiomegaly\", \"Consolidation\", \"ILD\", \"Infiltration\", \"Lung_Opacity\", \"Nodule/Mass\", \"Other_lesion\", \"Pleural_effusion\", \"Pleural_thickening\", \"Pneumothorax\", \"Pulmonary_fibrosis\")' data.test.ann_file='./test_ann.json' data.test.type='CocoDataset' log_config.interval='10' evaluation.metric='bbox' load_from='./checkpoints/cascade_rcnn_x101_32x4d_fpn_1x_20190501-af628be5.pth' work_dir='../vinbig_output' total_epochs='21' --out preds_cascadex.pkl"
   ]
  },
  {
   "cell_type": "code",
   "execution_count": 18,
   "metadata": {
    "execution": {
     "iopub.execute_input": "2021-03-31T04:24:11.671740Z",
     "iopub.status.busy": "2021-03-31T04:24:11.670876Z",
     "iopub.status.idle": "2021-03-31T04:24:11.675727Z",
     "shell.execute_reply": "2021-03-31T04:24:11.676146Z"
    },
    "papermill": {
     "duration": 0.83993,
     "end_time": "2021-03-31T04:24:11.676293",
     "exception": false,
     "start_time": "2021-03-31T04:24:10.836363",
     "status": "completed"
    },
    "tags": []
   },
   "outputs": [
    {
     "data": {
      "text/plain": [
       "['mmdet',\n",
       " 'README.md',\n",
       " 'resources',\n",
       " 'setup.cfg',\n",
       " '.git',\n",
       " 'tests',\n",
       " '.gitignore',\n",
       " 'requirements',\n",
       " '.github',\n",
       " 'configs',\n",
       " 'setup.py',\n",
       " 'docs',\n",
       " '.dev_scripts',\n",
       " 'test_ann.json',\n",
       " 'pytest.ini',\n",
       " '.readthedocs.yml',\n",
       " 'requirements.txt',\n",
       " 'checkpoints',\n",
       " '.pre-commit-config.yaml',\n",
       " 'LICENSE',\n",
       " 'tools',\n",
       " 'docker',\n",
       " 'mmdet.egg-info',\n",
       " 'demo']"
      ]
     },
     "execution_count": 18,
     "metadata": {},
     "output_type": "execute_result"
    }
   ],
   "source": [
    "os.listdir(\"./\")"
   ]
  },
  {
   "cell_type": "code",
   "execution_count": 19,
   "metadata": {
    "execution": {
     "iopub.execute_input": "2021-03-31T04:24:13.342829Z",
     "iopub.status.busy": "2021-03-31T04:24:13.342011Z",
     "iopub.status.idle": "2021-03-31T04:24:13.344847Z",
     "shell.execute_reply": "2021-03-31T04:24:13.344444Z"
    },
    "papermill": {
     "duration": 0.837802,
     "end_time": "2021-03-31T04:24:13.344965",
     "exception": false,
     "start_time": "2021-03-31T04:24:12.507163",
     "status": "completed"
    },
    "tags": []
   },
   "outputs": [],
   "source": [
    "# import pickle\n",
    "\n",
    "# with open('./preds_cascadex.pkl', 'rb') as f:\n",
    "#     data = pickle.load(f)"
   ]
  },
  {
   "cell_type": "code",
   "execution_count": 20,
   "metadata": {
    "execution": {
     "iopub.execute_input": "2021-03-31T04:24:15.070470Z",
     "iopub.status.busy": "2021-03-31T04:24:15.069685Z",
     "iopub.status.idle": "2021-03-31T04:24:15.082164Z",
     "shell.execute_reply": "2021-03-31T04:24:15.081737Z"
    },
    "papermill": {
     "duration": 0.907246,
     "end_time": "2021-03-31T04:24:15.082294",
     "exception": false,
     "start_time": "2021-03-31T04:24:14.175048",
     "status": "completed"
    },
    "tags": []
   },
   "outputs": [],
   "source": [
    "\n",
    "import json\n",
    "with open('./test_ann.json', 'rb') as f:\n",
    "    ann = json.load(f)"
   ]
  },
  {
   "cell_type": "code",
   "execution_count": 21,
   "metadata": {
    "execution": {
     "iopub.execute_input": "2021-03-31T04:24:16.750736Z",
     "iopub.status.busy": "2021-03-31T04:24:16.749923Z",
     "iopub.status.idle": "2021-03-31T04:24:16.752398Z",
     "shell.execute_reply": "2021-03-31T04:24:16.752773Z"
    },
    "papermill": {
     "duration": 0.841174,
     "end_time": "2021-03-31T04:24:16.752914",
     "exception": false,
     "start_time": "2021-03-31T04:24:15.911740",
     "status": "completed"
    },
    "tags": []
   },
   "outputs": [],
   "source": [
    "# file_ids = [file_name.get('file_name').split('.png')[0] for file_name in ann.get('images')]"
   ]
  },
  {
   "cell_type": "code",
   "execution_count": 22,
   "metadata": {
    "execution": {
     "iopub.execute_input": "2021-03-31T04:24:18.445008Z",
     "iopub.status.busy": "2021-03-31T04:24:18.444478Z",
     "iopub.status.idle": "2021-03-31T04:24:24.345762Z",
     "shell.execute_reply": "2021-03-31T04:24:24.345249Z"
    },
    "papermill": {
     "duration": 6.741141,
     "end_time": "2021-03-31T04:24:24.345893",
     "exception": false,
     "start_time": "2021-03-31T04:24:17.604752",
     "status": "completed"
    },
    "tags": []
   },
   "outputs": [
    {
     "name": "stdout",
     "output_type": "stream",
     "text": [
      "Collecting ensemble_boxes\r\n",
      "  Downloading ensemble_boxes-1.0.6-py3-none-any.whl (20 kB)\r\n",
      "Requirement already satisfied: pandas in /opt/conda/lib/python3.7/site-packages (from ensemble_boxes) (1.1.5)\r\n",
      "Requirement already satisfied: numba in /opt/conda/lib/python3.7/site-packages (from ensemble_boxes) (0.52.0)\r\n",
      "Requirement already satisfied: numpy in /opt/conda/lib/python3.7/site-packages (from ensemble_boxes) (1.19.5)\r\n",
      "Requirement already satisfied: setuptools in /opt/conda/lib/python3.7/site-packages (from numba->ensemble_boxes) (49.6.0.post20201009)\r\n",
      "Requirement already satisfied: llvmlite<0.36,>=0.35.0 in /opt/conda/lib/python3.7/site-packages (from numba->ensemble_boxes) (0.35.0)\r\n",
      "Requirement already satisfied: python-dateutil>=2.7.3 in /opt/conda/lib/python3.7/site-packages (from pandas->ensemble_boxes) (2.8.1)\r\n",
      "Requirement already satisfied: pytz>=2017.2 in /opt/conda/lib/python3.7/site-packages (from pandas->ensemble_boxes) (2020.5)\r\n",
      "Requirement already satisfied: six>=1.5 in /opt/conda/lib/python3.7/site-packages (from python-dateutil>=2.7.3->pandas->ensemble_boxes) (1.15.0)\r\n",
      "Installing collected packages: ensemble-boxes\r\n",
      "Successfully installed ensemble-boxes-1.0.6\r\n"
     ]
    }
   ],
   "source": [
    "!pip install ensemble_boxes"
   ]
  },
  {
   "cell_type": "code",
   "execution_count": 23,
   "metadata": {
    "execution": {
     "iopub.execute_input": "2021-03-31T04:24:26.286025Z",
     "iopub.status.busy": "2021-03-31T04:24:26.285226Z",
     "iopub.status.idle": "2021-03-31T04:24:26.308416Z",
     "shell.execute_reply": "2021-03-31T04:24:26.309415Z"
    },
    "papermill": {
     "duration": 1.099453,
     "end_time": "2021-03-31T04:24:26.309616",
     "exception": false,
     "start_time": "2021-03-31T04:24:25.210163",
     "status": "completed"
    },
    "tags": []
   },
   "outputs": [],
   "source": [
    "import pandas as pd\n",
    "test_df = pd.read_csv('../../input/vinbigdata-original-image-dataset/vinbigdata/test.csv')"
   ]
  },
  {
   "cell_type": "code",
   "execution_count": 24,
   "metadata": {
    "execution": {
     "iopub.execute_input": "2021-03-31T04:24:28.197011Z",
     "iopub.status.busy": "2021-03-31T04:24:28.196196Z",
     "iopub.status.idle": "2021-03-31T04:24:29.014226Z",
     "shell.execute_reply": "2021-03-31T04:24:29.013487Z"
    },
    "papermill": {
     "duration": 1.658411,
     "end_time": "2021-03-31T04:24:29.014386",
     "exception": false,
     "start_time": "2021-03-31T04:24:27.355975",
     "status": "completed"
    },
    "tags": []
   },
   "outputs": [],
   "source": [
    "from ensemble_boxes import *"
   ]
  },
  {
   "cell_type": "code",
   "execution_count": 25,
   "metadata": {
    "execution": {
     "iopub.execute_input": "2021-03-31T04:24:30.734454Z",
     "iopub.status.busy": "2021-03-31T04:24:30.733557Z",
     "iopub.status.idle": "2021-03-31T04:24:37.127977Z",
     "shell.execute_reply": "2021-03-31T04:24:37.127536Z"
    },
    "papermill": {
     "duration": 7.245982,
     "end_time": "2021-03-31T04:24:37.128123",
     "exception": false,
     "start_time": "2021-03-31T04:24:29.882141",
     "status": "completed"
    },
    "tags": []
   },
   "outputs": [],
   "source": [
    "# ann_with_pred = zip(file_ids, data)\n",
    "submission_vals = []\n",
    "# for _id, preds in ann_with_pred\n",
    "\n",
    "\n",
    "# this method is for option1\n",
    "for _id, preds in result.items():\n",
    "    boxes = []\n",
    "    scores = []\n",
    "    labels = []\n",
    "    _id = _id.split('.png')[0]\n",
    "    width = test_df[test_df.image_id==_id]['width'].iloc[0]\n",
    "    height = test_df[test_df.image_id==_id]['height'].iloc[0]  \n",
    "    for i, pred in enumerate(preds):\n",
    "        if len(pred):\n",
    "            for p in pred:\n",
    "                box = p[:4]/1024\n",
    "                boxes.append(box)\n",
    "                score = p[4].astype(float)\n",
    "                scores.append(score)\n",
    "                labels.append(i)\n",
    "    boxes, scores, labels = weighted_boxes_fusion([boxes], [scores], [labels], iou_thr=0.4, skip_box_thr=0.4)\n",
    "    boxes[:, 0] = boxes[:, 0]*height\n",
    "    boxes[:, 2] = boxes[:, 2]*height\n",
    "    boxes[:, 1] = boxes[:, 1]*width\n",
    "    boxes[:, 3] = boxes[:, 3]*width\n",
    "    \n",
    "    scaled_boxes = boxes.astype(int)\n",
    "    labels = labels.astype(int)\n",
    "    _id_preds = []\n",
    "    if len(scaled_boxes):\n",
    "        for i in range(len(scaled_boxes)):\n",
    "            _id_preds.append(str(labels[i]))\n",
    "            _id_preds.append(str(scores[i].round(2)))\n",
    "            _id_preds.append(str(scaled_boxes[i][0]))\n",
    "            _id_preds.append(str(scaled_boxes[i][1]))\n",
    "            _id_preds.append(str(scaled_boxes[i][2]))\n",
    "            _id_preds.append(str(scaled_boxes[i][3]))\n",
    "        pred_str = \" \".join(_id_preds)\n",
    "    else:\n",
    "        pred_str = '14 1 0 0 1 1'\n",
    "    submission_vals.append([_id, pred_str])\n",
    "\n"
   ]
  },
  {
   "cell_type": "code",
   "execution_count": 26,
   "metadata": {
    "execution": {
     "iopub.execute_input": "2021-03-31T04:24:38.824098Z",
     "iopub.status.busy": "2021-03-31T04:24:38.823575Z",
     "iopub.status.idle": "2021-03-31T04:24:38.829099Z",
     "shell.execute_reply": "2021-03-31T04:24:38.828499Z"
    },
    "papermill": {
     "duration": 0.849958,
     "end_time": "2021-03-31T04:24:38.829271",
     "exception": false,
     "start_time": "2021-03-31T04:24:37.979313",
     "status": "completed"
    },
    "tags": []
   },
   "outputs": [
    {
     "name": "stderr",
     "output_type": "stream",
     "text": [
      "/opt/conda/lib/python3.7/site-packages/ipykernel/ipkernel.py:281: DeprecationWarning: `should_run_async` will not call `transform_cell` automatically in the future. Please pass the result to `transformed_cell` argument and any exception that happen during thetransform in `preprocessing_exc_tuple` in IPython 7.17 and above.\n",
      "  and should_run_async(code)\n"
     ]
    }
   ],
   "source": [
    "df = pd.DataFrame(submission_vals, columns = ['image_id','PredictionString'])"
   ]
  },
  {
   "cell_type": "code",
   "execution_count": 27,
   "metadata": {
    "execution": {
     "iopub.execute_input": "2021-03-31T04:24:40.530147Z",
     "iopub.status.busy": "2021-03-31T04:24:40.529372Z",
     "iopub.status.idle": "2021-03-31T04:24:40.533053Z",
     "shell.execute_reply": "2021-03-31T04:24:40.532652Z"
    },
    "papermill": {
     "duration": 0.855366,
     "end_time": "2021-03-31T04:24:40.533188",
     "exception": false,
     "start_time": "2021-03-31T04:24:39.677822",
     "status": "completed"
    },
    "tags": []
   },
   "outputs": [
    {
     "data": {
      "text/plain": [
       "[array([[5.4652924e+02, 2.5355429e+02, 6.4508380e+02, 3.7259195e+02,\n",
       "         9.8796332e-01],\n",
       "        [5.6558691e+02, 2.5726105e+02, 6.4021991e+02, 3.3424710e+02,\n",
       "         7.7831805e-02]], dtype=float32),\n",
       " array([], shape=(0, 5), dtype=float32),\n",
       " array([], shape=(0, 5), dtype=float32),\n",
       " array([[4.3461157e+02, 5.7348163e+02, 8.2128790e+02, 7.3016461e+02,\n",
       "         7.2105485e-01]], dtype=float32),\n",
       " array([], shape=(0, 5), dtype=float32),\n",
       " array([], shape=(0, 5), dtype=float32),\n",
       " array([], shape=(0, 5), dtype=float32),\n",
       " array([], shape=(0, 5), dtype=float32),\n",
       " array([], shape=(0, 5), dtype=float32),\n",
       " array([], shape=(0, 5), dtype=float32),\n",
       " array([[1.1172021e+02, 7.9010846e+02, 1.4882402e+02, 8.4127545e+02,\n",
       "         2.1870145e-01]], dtype=float32),\n",
       " array([[1.1283211e+02, 7.9126276e+02, 1.4906384e+02, 8.4167542e+02,\n",
       "         2.9732403e-01]], dtype=float32),\n",
       " array([], shape=(0, 5), dtype=float32),\n",
       " array([], shape=(0, 5), dtype=float32)]"
      ]
     },
     "execution_count": 27,
     "metadata": {},
     "output_type": "execute_result"
    }
   ],
   "source": [
    "result['e94fde220360e4b769921e16059cc6af.png']"
   ]
  },
  {
   "cell_type": "code",
   "execution_count": 28,
   "metadata": {
    "execution": {
     "iopub.execute_input": "2021-03-31T04:24:42.523301Z",
     "iopub.status.busy": "2021-03-31T04:24:42.522431Z",
     "iopub.status.idle": "2021-03-31T04:24:42.525915Z",
     "shell.execute_reply": "2021-03-31T04:24:42.526383Z"
    },
    "papermill": {
     "duration": 1.132021,
     "end_time": "2021-03-31T04:24:42.526584",
     "exception": false,
     "start_time": "2021-03-31T04:24:41.394563",
     "status": "completed"
    },
    "tags": []
   },
   "outputs": [
    {
     "data": {
      "text/plain": [
       "[array([], shape=(0, 5), dtype=float32),\n",
       " array([], shape=(0, 5), dtype=float32),\n",
       " array([], shape=(0, 5), dtype=float32),\n",
       " array([], shape=(0, 5), dtype=float32),\n",
       " array([], shape=(0, 5), dtype=float32),\n",
       " array([], shape=(0, 5), dtype=float32),\n",
       " array([], shape=(0, 5), dtype=float32),\n",
       " array([], shape=(0, 5), dtype=float32),\n",
       " array([], shape=(0, 5), dtype=float32),\n",
       " array([], shape=(0, 5), dtype=float32),\n",
       " array([], shape=(0, 5), dtype=float32),\n",
       " array([[6.55316956e+02, 1.03516174e+02, 7.81057434e+02, 1.33637192e+02,\n",
       "         6.88432038e-01],\n",
       "        [3.56639923e+02, 1.13535706e+02, 4.47455872e+02, 1.29955215e+02,\n",
       "         1.39796942e-01],\n",
       "        [6.60883423e+02, 1.05171867e+02, 7.66113586e+02, 1.21728271e+02,\n",
       "         8.53050575e-02]], dtype=float32),\n",
       " array([], shape=(0, 5), dtype=float32),\n",
       " array([[7.2755298e+02, 6.3622113e+02, 7.9987531e+02, 6.7070123e+02,\n",
       "         4.0024024e-01],\n",
       "        [7.2495068e+02, 5.7403680e+02, 8.0462994e+02, 6.7946912e+02,\n",
       "         7.2166771e-02],\n",
       "        [7.1844189e+02, 5.4661102e+02, 8.7107263e+02, 6.7900000e+02,\n",
       "         5.7815619e-02]], dtype=float32)]"
      ]
     },
     "execution_count": 28,
     "metadata": {},
     "output_type": "execute_result"
    }
   ],
   "source": [
    "\n",
    "\n",
    "result['b3f67ac077531f44dd06275af31edbd9.png']\n",
    "\n"
   ]
  },
  {
   "cell_type": "code",
   "execution_count": 29,
   "metadata": {
    "execution": {
     "iopub.execute_input": "2021-03-31T04:24:44.311308Z",
     "iopub.status.busy": "2021-03-31T04:24:44.310687Z",
     "iopub.status.idle": "2021-03-31T04:24:44.320477Z",
     "shell.execute_reply": "2021-03-31T04:24:44.320047Z"
    },
    "papermill": {
     "duration": 0.893849,
     "end_time": "2021-03-31T04:24:44.320598",
     "exception": false,
     "start_time": "2021-03-31T04:24:43.426749",
     "status": "completed"
    },
    "tags": []
   },
   "outputs": [
    {
     "data": {
      "text/html": [
       "<div>\n",
       "<style scoped>\n",
       "    .dataframe tbody tr th:only-of-type {\n",
       "        vertical-align: middle;\n",
       "    }\n",
       "\n",
       "    .dataframe tbody tr th {\n",
       "        vertical-align: top;\n",
       "    }\n",
       "\n",
       "    .dataframe thead th {\n",
       "        text-align: right;\n",
       "    }\n",
       "</style>\n",
       "<table border=\"1\" class=\"dataframe\">\n",
       "  <thead>\n",
       "    <tr style=\"text-align: right;\">\n",
       "      <th></th>\n",
       "      <th>image_id</th>\n",
       "      <th>PredictionString</th>\n",
       "    </tr>\n",
       "  </thead>\n",
       "  <tbody>\n",
       "    <tr>\n",
       "      <th>0</th>\n",
       "      <td>b3f67ac077531f44dd06275af31edbd9</td>\n",
       "      <td>11 0.69 1965 310 2343 400 13 0.4 2182 1908 239...</td>\n",
       "    </tr>\n",
       "    <tr>\n",
       "      <th>1</th>\n",
       "      <td>e94fde220360e4b769921e16059cc6af</td>\n",
       "      <td>0 0.99 1296 493 1530 725 3 0.72 1031 1116 1948...</td>\n",
       "    </tr>\n",
       "    <tr>\n",
       "      <th>2</th>\n",
       "      <td>d2993271d0a49d1d821db1174861629a</td>\n",
       "      <td>0 0.99 1349 671 1685 939 4 0.49 456 715 1004 9...</td>\n",
       "    </tr>\n",
       "    <tr>\n",
       "      <th>3</th>\n",
       "      <td>99732e844196448b90e50973d6ba5224</td>\n",
       "      <td>3 0.99 1249 1399 2294 1799 0 0.99 1617 684 188...</td>\n",
       "    </tr>\n",
       "    <tr>\n",
       "      <th>4</th>\n",
       "      <td>3c6f70f56258cad13d74e7f17da1c7c5</td>\n",
       "      <td>3 0.99 1164 1292 2361 1609 0 0.98 1555 712 189...</td>\n",
       "    </tr>\n",
       "  </tbody>\n",
       "</table>\n",
       "</div>"
      ],
      "text/plain": [
       "                           image_id  \\\n",
       "0  b3f67ac077531f44dd06275af31edbd9   \n",
       "1  e94fde220360e4b769921e16059cc6af   \n",
       "2  d2993271d0a49d1d821db1174861629a   \n",
       "3  99732e844196448b90e50973d6ba5224   \n",
       "4  3c6f70f56258cad13d74e7f17da1c7c5   \n",
       "\n",
       "                                    PredictionString  \n",
       "0  11 0.69 1965 310 2343 400 13 0.4 2182 1908 239...  \n",
       "1  0 0.99 1296 493 1530 725 3 0.72 1031 1116 1948...  \n",
       "2  0 0.99 1349 671 1685 939 4 0.49 456 715 1004 9...  \n",
       "3  3 0.99 1249 1399 2294 1799 0 0.99 1617 684 188...  \n",
       "4  3 0.99 1164 1292 2361 1609 0 0.98 1555 712 189...  "
      ]
     },
     "execution_count": 29,
     "metadata": {},
     "output_type": "execute_result"
    }
   ],
   "source": [
    "df.head()"
   ]
  },
  {
   "cell_type": "code",
   "execution_count": 30,
   "metadata": {
    "execution": {
     "iopub.execute_input": "2021-03-31T04:24:46.085753Z",
     "iopub.status.busy": "2021-03-31T04:24:46.084771Z",
     "iopub.status.idle": "2021-03-31T04:24:46.090431Z",
     "shell.execute_reply": "2021-03-31T04:24:46.091149Z"
    },
    "papermill": {
     "duration": 0.873654,
     "end_time": "2021-03-31T04:24:46.091337",
     "exception": false,
     "start_time": "2021-03-31T04:24:45.217683",
     "status": "completed"
    },
    "tags": []
   },
   "outputs": [
    {
     "name": "stderr",
     "output_type": "stream",
     "text": [
      "/opt/conda/lib/python3.7/site-packages/ipykernel/ipkernel.py:281: DeprecationWarning: `should_run_async` will not call `transform_cell` automatically in the future. Please pass the result to `transformed_cell` argument and any exception that happen during thetransform in `preprocessing_exc_tuple` in IPython 7.17 and above.\n",
      "  and should_run_async(code)\n"
     ]
    },
    {
     "data": {
      "text/plain": [
       "3000"
      ]
     },
     "execution_count": 30,
     "metadata": {},
     "output_type": "execute_result"
    }
   ],
   "source": [
    "len(df)"
   ]
  },
  {
   "cell_type": "code",
   "execution_count": 31,
   "metadata": {
    "execution": {
     "iopub.execute_input": "2021-03-31T04:24:47.829397Z",
     "iopub.status.busy": "2021-03-31T04:24:47.828724Z",
     "iopub.status.idle": "2021-03-31T04:24:47.834618Z",
     "shell.execute_reply": "2021-03-31T04:24:47.834076Z"
    },
    "papermill": {
     "duration": 0.852763,
     "end_time": "2021-03-31T04:24:47.834766",
     "exception": false,
     "start_time": "2021-03-31T04:24:46.982003",
     "status": "completed"
    },
    "tags": []
   },
   "outputs": [
    {
     "data": {
      "text/plain": [
       "image_id            424\n",
       "PredictionString    424\n",
       "dtype: int64"
      ]
     },
     "execution_count": 31,
     "metadata": {},
     "output_type": "execute_result"
    }
   ],
   "source": [
    "df[df.PredictionString==\"14 1 0 0 1 1\"].count()\n",
    "                                             "
   ]
  },
  {
   "cell_type": "code",
   "execution_count": 32,
   "metadata": {
    "execution": {
     "iopub.execute_input": "2021-03-31T04:24:49.555363Z",
     "iopub.status.busy": "2021-03-31T04:24:49.554773Z",
     "iopub.status.idle": "2021-03-31T04:24:49.557564Z",
     "shell.execute_reply": "2021-03-31T04:24:49.557956Z"
    },
    "papermill": {
     "duration": 0.853366,
     "end_time": "2021-03-31T04:24:49.558095",
     "exception": false,
     "start_time": "2021-03-31T04:24:48.704729",
     "status": "completed"
    },
    "tags": []
   },
   "outputs": [
    {
     "data": {
      "text/html": [
       "<div>\n",
       "<style scoped>\n",
       "    .dataframe tbody tr th:only-of-type {\n",
       "        vertical-align: middle;\n",
       "    }\n",
       "\n",
       "    .dataframe tbody tr th {\n",
       "        vertical-align: top;\n",
       "    }\n",
       "\n",
       "    .dataframe thead th {\n",
       "        text-align: right;\n",
       "    }\n",
       "</style>\n",
       "<table border=\"1\" class=\"dataframe\">\n",
       "  <thead>\n",
       "    <tr style=\"text-align: right;\">\n",
       "      <th></th>\n",
       "      <th>image_id</th>\n",
       "      <th>PredictionString</th>\n",
       "    </tr>\n",
       "  </thead>\n",
       "  <tbody>\n",
       "    <tr>\n",
       "      <th>2990</th>\n",
       "      <td>269af0bfa0e3246aa7b7330a3c510030</td>\n",
       "      <td>3 0.94 875 1144 2168 1649 0 0.79 1439 569 1770...</td>\n",
       "    </tr>\n",
       "    <tr>\n",
       "      <th>2991</th>\n",
       "      <td>e06e6af1b1ae040355e80dc109d8406d</td>\n",
       "      <td>3 0.97 1218 1539 2211 1945 0 0.96 1522 779 179...</td>\n",
       "    </tr>\n",
       "    <tr>\n",
       "      <th>2992</th>\n",
       "      <td>80f3da71b6af9134388dee22f0d386d9</td>\n",
       "      <td>0 0.73 1039 740 1260 1051</td>\n",
       "    </tr>\n",
       "    <tr>\n",
       "      <th>2993</th>\n",
       "      <td>0403dda5a9bf46457517b604869d530d</td>\n",
       "      <td>14 1 0 0 1 1</td>\n",
       "    </tr>\n",
       "    <tr>\n",
       "      <th>2994</th>\n",
       "      <td>edb0b27fb3602ffb157e5a022e6b5a70</td>\n",
       "      <td>14 1 0 0 1 1</td>\n",
       "    </tr>\n",
       "    <tr>\n",
       "      <th>2995</th>\n",
       "      <td>e71ff456b51d655f9b70ecbc6fe2572f</td>\n",
       "      <td>8 0.85 374 755 437 812 3 0.81 902 997 2444 152...</td>\n",
       "    </tr>\n",
       "    <tr>\n",
       "      <th>2996</th>\n",
       "      <td>9c39e251d5c438f0320cbb39fa33b351</td>\n",
       "      <td>0 0.88 1372 609 1601 805</td>\n",
       "    </tr>\n",
       "    <tr>\n",
       "      <th>2997</th>\n",
       "      <td>71c75db6da20e3320fb90ca9b018ab31</td>\n",
       "      <td>3 0.83 975 1145 1932 1487</td>\n",
       "    </tr>\n",
       "    <tr>\n",
       "      <th>2998</th>\n",
       "      <td>2e2f4e832dc3bd12ddd8d405cbf7fdf5</td>\n",
       "      <td>0 0.98 1221 510 1486 737 3 0.86 864 1027 1860 ...</td>\n",
       "    </tr>\n",
       "    <tr>\n",
       "      <th>2999</th>\n",
       "      <td>69aae4076223158f2e0cfe8f6f74ce68</td>\n",
       "      <td>3 0.44 1062 995 2025 1284</td>\n",
       "    </tr>\n",
       "  </tbody>\n",
       "</table>\n",
       "</div>"
      ],
      "text/plain": [
       "                              image_id  \\\n",
       "2990  269af0bfa0e3246aa7b7330a3c510030   \n",
       "2991  e06e6af1b1ae040355e80dc109d8406d   \n",
       "2992  80f3da71b6af9134388dee22f0d386d9   \n",
       "2993  0403dda5a9bf46457517b604869d530d   \n",
       "2994  edb0b27fb3602ffb157e5a022e6b5a70   \n",
       "2995  e71ff456b51d655f9b70ecbc6fe2572f   \n",
       "2996  9c39e251d5c438f0320cbb39fa33b351   \n",
       "2997  71c75db6da20e3320fb90ca9b018ab31   \n",
       "2998  2e2f4e832dc3bd12ddd8d405cbf7fdf5   \n",
       "2999  69aae4076223158f2e0cfe8f6f74ce68   \n",
       "\n",
       "                                       PredictionString  \n",
       "2990  3 0.94 875 1144 2168 1649 0 0.79 1439 569 1770...  \n",
       "2991  3 0.97 1218 1539 2211 1945 0 0.96 1522 779 179...  \n",
       "2992                          0 0.73 1039 740 1260 1051  \n",
       "2993                                       14 1 0 0 1 1  \n",
       "2994                                       14 1 0 0 1 1  \n",
       "2995  8 0.85 374 755 437 812 3 0.81 902 997 2444 152...  \n",
       "2996                           0 0.88 1372 609 1601 805  \n",
       "2997                          3 0.83 975 1145 1932 1487  \n",
       "2998  0 0.98 1221 510 1486 737 3 0.86 864 1027 1860 ...  \n",
       "2999                          3 0.44 1062 995 2025 1284  "
      ]
     },
     "execution_count": 32,
     "metadata": {},
     "output_type": "execute_result"
    }
   ],
   "source": [
    "df.tail(10)"
   ]
  },
  {
   "cell_type": "code",
   "execution_count": 33,
   "metadata": {
    "execution": {
     "iopub.execute_input": "2021-03-31T04:24:51.238974Z",
     "iopub.status.busy": "2021-03-31T04:24:51.238068Z",
     "iopub.status.idle": "2021-03-31T04:24:51.243193Z",
     "shell.execute_reply": "2021-03-31T04:24:51.242769Z"
    },
    "papermill": {
     "duration": 0.846026,
     "end_time": "2021-03-31T04:24:51.243323",
     "exception": false,
     "start_time": "2021-03-31T04:24:50.397297",
     "status": "completed"
    },
    "tags": []
   },
   "outputs": [
    {
     "name": "stderr",
     "output_type": "stream",
     "text": [
      "/opt/conda/lib/python3.7/site-packages/ipykernel/ipkernel.py:281: DeprecationWarning: `should_run_async` will not call `transform_cell` automatically in the future. Please pass the result to `transformed_cell` argument and any exception that happen during thetransform in `preprocessing_exc_tuple` in IPython 7.17 and above.\n",
      "  and should_run_async(code)\n"
     ]
    },
    {
     "data": {
      "text/plain": [
       "'0 0.98 1343 573 1650 904'"
      ]
     },
     "execution_count": 33,
     "metadata": {},
     "output_type": "execute_result"
    }
   ],
   "source": [
    "df.iloc[2222]['PredictionString']"
   ]
  },
  {
   "cell_type": "code",
   "execution_count": 34,
   "metadata": {
    "execution": {
     "iopub.execute_input": "2021-03-31T04:24:53.080276Z",
     "iopub.status.busy": "2021-03-31T04:24:53.078685Z",
     "iopub.status.idle": "2021-03-31T04:24:53.299933Z",
     "shell.execute_reply": "2021-03-31T04:24:53.300578Z"
    },
    "papermill": {
     "duration": 1.214187,
     "end_time": "2021-03-31T04:24:53.300835",
     "exception": false,
     "start_time": "2021-03-31T04:24:52.086648",
     "status": "completed"
    },
    "tags": []
   },
   "outputs": [],
   "source": [
    "df.to_csv('submission.csv', header=True, index=False)"
   ]
  },
  {
   "cell_type": "code",
   "execution_count": null,
   "metadata": {
    "papermill": {
     "duration": 0.84257,
     "end_time": "2021-03-31T04:24:55.032004",
     "exception": false,
     "start_time": "2021-03-31T04:24:54.189434",
     "status": "completed"
    },
    "tags": []
   },
   "outputs": [],
   "source": []
  }
 ],
 "metadata": {
  "kernelspec": {
   "display_name": "Python 3",
   "language": "python",
   "name": "python3"
  },
  "language_info": {
   "codemirror_mode": {
    "name": "ipython",
    "version": 3
   },
   "file_extension": ".py",
   "mimetype": "text/x-python",
   "name": "python",
   "nbconvert_exporter": "python",
   "pygments_lexer": "ipython3",
   "version": "3.7.9"
  },
  "papermill": {
   "default_parameters": {},
   "duration": 1181.574065,
   "end_time": "2021-03-31T04:24:58.060395",
   "environment_variables": {},
   "exception": null,
   "input_path": "__notebook__.ipynb",
   "output_path": "__notebook__.ipynb",
   "parameters": {},
   "start_time": "2021-03-31T04:05:16.486330",
   "version": "2.2.2"
  }
 },
 "nbformat": 4,
 "nbformat_minor": 4
}
