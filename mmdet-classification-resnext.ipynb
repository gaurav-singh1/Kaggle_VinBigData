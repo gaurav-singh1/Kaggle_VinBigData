{
 "cells": [
  {
   "cell_type": "code",
   "execution_count": 1,
   "metadata": {
    "_cell_guid": "b1076dfc-b9ad-4769-8c92-a6c4dae69d19",
    "_uuid": "8f2839f25d086af736a60e9eeb907d3b93b6e0e5",
    "execution": {
     "iopub.execute_input": "2021-03-28T06:23:42.911039Z",
     "iopub.status.busy": "2021-03-28T06:23:42.910337Z",
     "iopub.status.idle": "2021-03-28T06:33:18.000470Z",
     "shell.execute_reply": "2021-03-28T06:33:17.999089Z"
    },
    "papermill": {
     "duration": 575.122975,
     "end_time": "2021-03-28T06:33:18.000724",
     "exception": false,
     "start_time": "2021-03-28T06:23:42.877749",
     "status": "completed"
    },
    "tags": []
   },
   "outputs": [
    {
     "name": "stdout",
     "output_type": "stream",
     "text": [
      "Collecting mmcv-full\r\n",
      "  Downloading mmcv-full-1.2.7.tar.gz (231 kB)\r\n",
      "\u001b[K     |████████████████████████████████| 231 kB 2.9 MB/s \r\n",
      "\u001b[?25hCollecting addict\r\n",
      "  Downloading addict-2.4.0-py3-none-any.whl (3.8 kB)\r\n",
      "Requirement already satisfied: numpy in /opt/conda/lib/python3.7/site-packages (from mmcv-full) (1.19.5)\r\n",
      "Requirement already satisfied: Pillow in /opt/conda/lib/python3.7/site-packages (from mmcv-full) (7.2.0)\r\n",
      "Requirement already satisfied: pyyaml in /opt/conda/lib/python3.7/site-packages (from mmcv-full) (5.3.1)\r\n",
      "Collecting yapf\r\n",
      "  Downloading yapf-0.31.0-py2.py3-none-any.whl (185 kB)\r\n",
      "\u001b[K     |████████████████████████████████| 185 kB 12.5 MB/s \r\n",
      "\u001b[?25hBuilding wheels for collected packages: mmcv-full\r\n",
      "  Building wheel for mmcv-full (setup.py) ... \u001b[?25l-\b \b\\\b \b|\b \b/\b \b-\b \b\\\b \b|\b \b/\b \b-\b \b\\\b \b|\b \b/\b \b-\b \b\\\b \b|\b \b/\b \b-\b \b\\\b \b|\b \b/\b \b-\b \b\\\b \b|\b \b/\b \b-\b \b\\\b \b|\b \b/\b \b-\b \b\\\b \b|\b \b/\b \b-\b \b\\\b \b|\b \b/\b \b-\b \b\\\b \b|\b \b/\b \b-\b \b\\\b \b|\b \b/\b \b-\b \bdone\r\n",
      "\u001b[?25h  Created wheel for mmcv-full: filename=mmcv_full-1.2.7-cp37-cp37m-linux_x86_64.whl size=20707526 sha256=25be0a183425aa762426fa2724484f3212e3e45faa1fd7af83c2e8d648a22232\r\n",
      "  Stored in directory: /root/.cache/pip/wheels/3f/3d/5e/dbc82b2ea5f1e14d4fe044aea9aeb02a8a9402c051529659c2\r\n",
      "Successfully built mmcv-full\r\n",
      "Installing collected packages: yapf, addict, mmcv-full\r\n",
      "Successfully installed addict-2.4.0 mmcv-full-1.2.7 yapf-0.31.0\r\n"
     ]
    }
   ],
   "source": [
    "# !pip install iterative-stratification\n",
    "!pip install mmcv-full"
   ]
  },
  {
   "cell_type": "code",
   "execution_count": 2,
   "metadata": {
    "execution": {
     "iopub.execute_input": "2021-03-28T06:33:18.112816Z",
     "iopub.status.busy": "2021-03-28T06:33:18.112038Z",
     "iopub.status.idle": "2021-03-28T06:33:28.734968Z",
     "shell.execute_reply": "2021-03-28T06:33:28.733816Z"
    },
    "papermill": {
     "duration": 10.691065,
     "end_time": "2021-03-28T06:33:28.735138",
     "exception": false,
     "start_time": "2021-03-28T06:33:18.044073",
     "status": "completed"
    },
    "tags": []
   },
   "outputs": [
    {
     "name": "stdout",
     "output_type": "stream",
     "text": [
      "Cloning into 'mmclassification'...\r\n",
      "remote: Enumerating objects: 43, done.\u001b[K\r\n",
      "remote: Counting objects: 100% (43/43), done.\u001b[K\r\n",
      "remote: Compressing objects: 100% (37/37), done.\u001b[K\r\n",
      "remote: Total 1971 (delta 13), reused 15 (delta 6), pack-reused 1928\u001b[K\r\n",
      "Receiving objects: 100% (1971/1971), 1.94 MiB | 12.91 MiB/s, done.\r\n",
      "Resolving deltas: 100% (1193/1193), done.\r\n",
      "/kaggle/working/mmclassification\n",
      "Obtaining file:///kaggle/working/mmclassification\r\n",
      "Requirement already satisfied: matplotlib in /opt/conda/lib/python3.7/site-packages (from mmcls==0.9.0) (3.3.3)\r\n",
      "Requirement already satisfied: numpy in /opt/conda/lib/python3.7/site-packages (from mmcls==0.9.0) (1.19.5)\r\n",
      "Requirement already satisfied: pillow>=6.2.0 in /opt/conda/lib/python3.7/site-packages (from matplotlib->mmcls==0.9.0) (7.2.0)\r\n",
      "Requirement already satisfied: kiwisolver>=1.0.1 in /opt/conda/lib/python3.7/site-packages (from matplotlib->mmcls==0.9.0) (1.3.1)\r\n",
      "Requirement already satisfied: python-dateutil>=2.1 in /opt/conda/lib/python3.7/site-packages (from matplotlib->mmcls==0.9.0) (2.8.1)\r\n",
      "Requirement already satisfied: pyparsing!=2.0.4,!=2.1.2,!=2.1.6,>=2.0.3 in /opt/conda/lib/python3.7/site-packages (from matplotlib->mmcls==0.9.0) (2.4.7)\r\n",
      "Requirement already satisfied: cycler>=0.10 in /opt/conda/lib/python3.7/site-packages (from matplotlib->mmcls==0.9.0) (0.10.0)\r\n",
      "Requirement already satisfied: six in /opt/conda/lib/python3.7/site-packages (from cycler>=0.10->matplotlib->mmcls==0.9.0) (1.15.0)\r\n",
      "Installing collected packages: mmcls\r\n",
      "  Running setup.py develop for mmcls\r\n",
      "Successfully installed mmcls\r\n"
     ]
    }
   ],
   "source": [
    "# Install mmcls\n",
    "!git clone https://github.com/open-mmlab/mmclassification.git\n",
    "%cd mmclassification\n",
    "!pip install -e ."
   ]
  },
  {
   "cell_type": "code",
   "execution_count": 3,
   "metadata": {
    "execution": {
     "iopub.execute_input": "2021-03-28T06:33:28.895918Z",
     "iopub.status.busy": "2021-03-28T06:33:28.895025Z",
     "iopub.status.idle": "2021-03-28T06:33:30.029364Z",
     "shell.execute_reply": "2021-03-28T06:33:30.030024Z"
    },
    "papermill": {
     "duration": 1.215687,
     "end_time": "2021-03-28T06:33:30.030243",
     "exception": false,
     "start_time": "2021-03-28T06:33:28.814556",
     "status": "completed"
    },
    "tags": []
   },
   "outputs": [
    {
     "name": "stdout",
     "output_type": "stream",
     "text": [
      "1.7.0 True\n",
      "0.9.0\n"
     ]
    }
   ],
   "source": [
    "# Check Pytorch installation\n",
    "import torch, torchvision\n",
    "print(torch.__version__, torch.cuda.is_available())\n",
    "\n",
    "# Check MMClassification installation\n",
    "import mmcls\n",
    "print(mmcls.__version__)"
   ]
  },
  {
   "cell_type": "code",
   "execution_count": 4,
   "metadata": {
    "execution": {
     "iopub.execute_input": "2021-03-28T06:33:30.128650Z",
     "iopub.status.busy": "2021-03-28T06:33:30.126579Z",
     "iopub.status.idle": "2021-03-28T06:33:44.553470Z",
     "shell.execute_reply": "2021-03-28T06:33:44.552964Z"
    },
    "papermill": {
     "duration": 14.479257,
     "end_time": "2021-03-28T06:33:44.553654",
     "exception": false,
     "start_time": "2021-03-28T06:33:30.074397",
     "status": "completed"
    },
    "tags": []
   },
   "outputs": [
    {
     "name": "stdout",
     "output_type": "stream",
     "text": [
      "--2021-03-28 06:33:31--  https://download.openmmlab.com/mmclassification/v0/resnext/resnext50_32x4d_batch256_imagenet_20200708-c07adbb7.pth\r\n",
      "Resolving download.openmmlab.com (download.openmmlab.com)... 47.252.96.35\r\n",
      "Connecting to download.openmmlab.com (download.openmmlab.com)|47.252.96.35|:443... connected.\r\n",
      "HTTP request sent, awaiting response... 200 OK\r\n",
      "Length: 100439164 (96M) [application/octet-stream]\r\n",
      "Saving to: ‘checkpoints/resnext50_32x4d_batch256_imagenet_20200708-c07adbb7.pth’\r\n",
      "\r\n",
      "resnext50_32x4d_bat 100%[===================>]  95.79M  8.43MB/s    in 11s     \r\n",
      "\r\n",
      "2021-03-28 06:33:44 (8.40 MB/s) - ‘checkpoints/resnext50_32x4d_batch256_imagenet_20200708-c07adbb7.pth’ saved [100439164/100439164]\r\n",
      "\r\n"
     ]
    }
   ],
   "source": [
    "!mkdir checkpoints\n",
    "# !wget https://download.openmmlab.com/mmclassification/v0/resnet/resnet50_batch256_imagenet_20200708-cfb998bf.pth -P checkpoints\n",
    "!wget https://download.openmmlab.com/mmclassification/v0/resnext/resnext50_32x4d_batch256_imagenet_20200708-c07adbb7.pth -P checkpoints"
   ]
  },
  {
   "cell_type": "code",
   "execution_count": 5,
   "metadata": {
    "execution": {
     "iopub.execute_input": "2021-03-28T06:33:44.687570Z",
     "iopub.status.busy": "2021-03-28T06:33:44.682666Z",
     "iopub.status.idle": "2021-03-28T06:33:49.536735Z",
     "shell.execute_reply": "2021-03-28T06:33:49.536164Z"
    },
    "papermill": {
     "duration": 4.919869,
     "end_time": "2021-03-28T06:33:49.536868",
     "exception": false,
     "start_time": "2021-03-28T06:33:44.616999",
     "status": "completed"
    },
    "tags": []
   },
   "outputs": [
    {
     "name": "stderr",
     "output_type": "stream",
     "text": [
      "/kaggle/working/mmclassification/mmcls/apis/train.py:17: UserWarning: DeprecationWarning: EvalHook and DistEvalHook from mmcls will be deprecated.Please install mmcv through master branch.\n",
      "  warnings.warn('DeprecationWarning: EvalHook and DistEvalHook from mmcls '\n"
     ]
    },
    {
     "name": "stdout",
     "output_type": "stream",
     "text": [
      "Use load_from_local loader\n"
     ]
    },
    {
     "ename": "OSError",
     "evalue": "checkpoints/resnet50_batch256_imagenet_20200708-cfb998bf.pth is not a checkpoint file",
     "output_type": "error",
     "traceback": [
      "\u001b[0;31m---------------------------------------------------------------------------\u001b[0m",
      "\u001b[0;31mOSError\u001b[0m                                   Traceback (most recent call last)",
      "\u001b[0;32m<ipython-input-5-2fe268170bda>\u001b[0m in \u001b[0;36m<module>\u001b[0;34m\u001b[0m\n\u001b[1;32m      7\u001b[0m \u001b[0mdevice\u001b[0m \u001b[0;34m=\u001b[0m \u001b[0;34m'cuda:0'\u001b[0m\u001b[0;34m\u001b[0m\u001b[0;34m\u001b[0m\u001b[0m\n\u001b[1;32m      8\u001b[0m \u001b[0;31m# Build the model from a config file and a checkpoint file\u001b[0m\u001b[0;34m\u001b[0m\u001b[0;34m\u001b[0m\u001b[0;34m\u001b[0m\u001b[0m\n\u001b[0;32m----> 9\u001b[0;31m \u001b[0mmodel\u001b[0m \u001b[0;34m=\u001b[0m \u001b[0minit_model\u001b[0m\u001b[0;34m(\u001b[0m\u001b[0mconfig_file\u001b[0m\u001b[0;34m,\u001b[0m \u001b[0mcheckpoint_file\u001b[0m\u001b[0;34m,\u001b[0m \u001b[0mdevice\u001b[0m\u001b[0;34m=\u001b[0m\u001b[0mdevice\u001b[0m\u001b[0;34m)\u001b[0m\u001b[0;34m\u001b[0m\u001b[0;34m\u001b[0m\u001b[0m\n\u001b[0m",
      "\u001b[0;32m/kaggle/working/mmclassification/mmcls/apis/inference.py\u001b[0m in \u001b[0;36minit_model\u001b[0;34m(config, checkpoint, device, options)\u001b[0m\n\u001b[1;32m     36\u001b[0m     \u001b[0;32mif\u001b[0m \u001b[0mcheckpoint\u001b[0m \u001b[0;32mis\u001b[0m \u001b[0;32mnot\u001b[0m \u001b[0;32mNone\u001b[0m\u001b[0;34m:\u001b[0m\u001b[0;34m\u001b[0m\u001b[0;34m\u001b[0m\u001b[0m\n\u001b[1;32m     37\u001b[0m         \u001b[0mmap_loc\u001b[0m \u001b[0;34m=\u001b[0m \u001b[0;34m'cpu'\u001b[0m \u001b[0;32mif\u001b[0m \u001b[0mdevice\u001b[0m \u001b[0;34m==\u001b[0m \u001b[0;34m'cpu'\u001b[0m \u001b[0;32melse\u001b[0m \u001b[0;32mNone\u001b[0m\u001b[0;34m\u001b[0m\u001b[0;34m\u001b[0m\u001b[0m\n\u001b[0;32m---> 38\u001b[0;31m         \u001b[0mcheckpoint\u001b[0m \u001b[0;34m=\u001b[0m \u001b[0mload_checkpoint\u001b[0m\u001b[0;34m(\u001b[0m\u001b[0mmodel\u001b[0m\u001b[0;34m,\u001b[0m \u001b[0mcheckpoint\u001b[0m\u001b[0;34m,\u001b[0m \u001b[0mmap_location\u001b[0m\u001b[0;34m=\u001b[0m\u001b[0mmap_loc\u001b[0m\u001b[0;34m)\u001b[0m\u001b[0;34m\u001b[0m\u001b[0;34m\u001b[0m\u001b[0m\n\u001b[0m\u001b[1;32m     39\u001b[0m         \u001b[0;32mif\u001b[0m \u001b[0;34m'CLASSES'\u001b[0m \u001b[0;32min\u001b[0m \u001b[0mcheckpoint\u001b[0m\u001b[0;34m[\u001b[0m\u001b[0;34m'meta'\u001b[0m\u001b[0;34m]\u001b[0m\u001b[0;34m:\u001b[0m\u001b[0;34m\u001b[0m\u001b[0;34m\u001b[0m\u001b[0m\n\u001b[1;32m     40\u001b[0m             \u001b[0mmodel\u001b[0m\u001b[0;34m.\u001b[0m\u001b[0mCLASSES\u001b[0m \u001b[0;34m=\u001b[0m \u001b[0mcheckpoint\u001b[0m\u001b[0;34m[\u001b[0m\u001b[0;34m'meta'\u001b[0m\u001b[0;34m]\u001b[0m\u001b[0;34m[\u001b[0m\u001b[0;34m'CLASSES'\u001b[0m\u001b[0;34m]\u001b[0m\u001b[0;34m\u001b[0m\u001b[0;34m\u001b[0m\u001b[0m\n",
      "\u001b[0;32m/opt/conda/lib/python3.7/site-packages/mmcv/runner/checkpoint.py\u001b[0m in \u001b[0;36mload_checkpoint\u001b[0;34m(model, filename, map_location, strict, logger)\u001b[0m\n\u001b[1;32m    520\u001b[0m         \u001b[0mdict\u001b[0m \u001b[0;32mor\u001b[0m \u001b[0mOrderedDict\u001b[0m\u001b[0;34m:\u001b[0m \u001b[0mThe\u001b[0m \u001b[0mloaded\u001b[0m \u001b[0mcheckpoint\u001b[0m\u001b[0;34m.\u001b[0m\u001b[0;34m\u001b[0m\u001b[0;34m\u001b[0m\u001b[0m\n\u001b[1;32m    521\u001b[0m     \"\"\"\n\u001b[0;32m--> 522\u001b[0;31m     \u001b[0mcheckpoint\u001b[0m \u001b[0;34m=\u001b[0m \u001b[0m_load_checkpoint\u001b[0m\u001b[0;34m(\u001b[0m\u001b[0mfilename\u001b[0m\u001b[0;34m,\u001b[0m \u001b[0mmap_location\u001b[0m\u001b[0;34m,\u001b[0m \u001b[0mlogger\u001b[0m\u001b[0;34m)\u001b[0m\u001b[0;34m\u001b[0m\u001b[0;34m\u001b[0m\u001b[0m\n\u001b[0m\u001b[1;32m    523\u001b[0m     \u001b[0;31m# OrderedDict is a subclass of dict\u001b[0m\u001b[0;34m\u001b[0m\u001b[0;34m\u001b[0m\u001b[0;34m\u001b[0m\u001b[0m\n\u001b[1;32m    524\u001b[0m     \u001b[0;32mif\u001b[0m \u001b[0;32mnot\u001b[0m \u001b[0misinstance\u001b[0m\u001b[0;34m(\u001b[0m\u001b[0mcheckpoint\u001b[0m\u001b[0;34m,\u001b[0m \u001b[0mdict\u001b[0m\u001b[0;34m)\u001b[0m\u001b[0;34m:\u001b[0m\u001b[0;34m\u001b[0m\u001b[0;34m\u001b[0m\u001b[0m\n",
      "\u001b[0;32m/opt/conda/lib/python3.7/site-packages/mmcv/runner/checkpoint.py\u001b[0m in \u001b[0;36m_load_checkpoint\u001b[0;34m(filename, map_location, logger)\u001b[0m\n\u001b[1;32m    464\u001b[0m            \u001b[0minformation\u001b[0m\u001b[0;34m,\u001b[0m \u001b[0mwhich\u001b[0m \u001b[0mdepends\u001b[0m \u001b[0mon\u001b[0m \u001b[0mthe\u001b[0m \u001b[0mcheckpoint\u001b[0m\u001b[0;34m.\u001b[0m\u001b[0;34m\u001b[0m\u001b[0;34m\u001b[0m\u001b[0m\n\u001b[1;32m    465\u001b[0m     \"\"\"\n\u001b[0;32m--> 466\u001b[0;31m     \u001b[0;32mreturn\u001b[0m \u001b[0mCheckpointLoader\u001b[0m\u001b[0;34m.\u001b[0m\u001b[0mload_checkpoint\u001b[0m\u001b[0;34m(\u001b[0m\u001b[0mfilename\u001b[0m\u001b[0;34m,\u001b[0m \u001b[0mmap_location\u001b[0m\u001b[0;34m,\u001b[0m \u001b[0mlogger\u001b[0m\u001b[0;34m)\u001b[0m\u001b[0;34m\u001b[0m\u001b[0;34m\u001b[0m\u001b[0m\n\u001b[0m\u001b[1;32m    467\u001b[0m \u001b[0;34m\u001b[0m\u001b[0m\n\u001b[1;32m    468\u001b[0m \u001b[0;34m\u001b[0m\u001b[0m\n",
      "\u001b[0;32m/opt/conda/lib/python3.7/site-packages/mmcv/runner/checkpoint.py\u001b[0m in \u001b[0;36mload_checkpoint\u001b[0;34m(cls, filename, map_location, logger)\u001b[0m\n\u001b[1;32m    241\u001b[0m         \u001b[0mclass_name\u001b[0m \u001b[0;34m=\u001b[0m \u001b[0mcheckpoint_loader\u001b[0m\u001b[0;34m.\u001b[0m\u001b[0m__name__\u001b[0m\u001b[0;34m\u001b[0m\u001b[0;34m\u001b[0m\u001b[0m\n\u001b[1;32m    242\u001b[0m         \u001b[0mmmcv\u001b[0m\u001b[0;34m.\u001b[0m\u001b[0mprint_log\u001b[0m\u001b[0;34m(\u001b[0m\u001b[0;34mf'Use {class_name} loader'\u001b[0m\u001b[0;34m,\u001b[0m \u001b[0mlogger\u001b[0m\u001b[0;34m)\u001b[0m\u001b[0;34m\u001b[0m\u001b[0;34m\u001b[0m\u001b[0m\n\u001b[0;32m--> 243\u001b[0;31m         \u001b[0;32mreturn\u001b[0m \u001b[0mcheckpoint_loader\u001b[0m\u001b[0;34m(\u001b[0m\u001b[0mfilename\u001b[0m\u001b[0;34m,\u001b[0m \u001b[0mmap_location\u001b[0m\u001b[0;34m)\u001b[0m\u001b[0;34m\u001b[0m\u001b[0;34m\u001b[0m\u001b[0m\n\u001b[0m\u001b[1;32m    244\u001b[0m \u001b[0;34m\u001b[0m\u001b[0m\n\u001b[1;32m    245\u001b[0m \u001b[0;34m\u001b[0m\u001b[0m\n",
      "\u001b[0;32m/opt/conda/lib/python3.7/site-packages/mmcv/runner/checkpoint.py\u001b[0m in \u001b[0;36mload_from_local\u001b[0;34m(filename, map_location)\u001b[0m\n\u001b[1;32m    257\u001b[0m \u001b[0;34m\u001b[0m\u001b[0m\n\u001b[1;32m    258\u001b[0m     \u001b[0;32mif\u001b[0m \u001b[0;32mnot\u001b[0m \u001b[0mosp\u001b[0m\u001b[0;34m.\u001b[0m\u001b[0misfile\u001b[0m\u001b[0;34m(\u001b[0m\u001b[0mfilename\u001b[0m\u001b[0;34m)\u001b[0m\u001b[0;34m:\u001b[0m\u001b[0;34m\u001b[0m\u001b[0;34m\u001b[0m\u001b[0m\n\u001b[0;32m--> 259\u001b[0;31m         \u001b[0;32mraise\u001b[0m \u001b[0mIOError\u001b[0m\u001b[0;34m(\u001b[0m\u001b[0;34mf'{filename} is not a checkpoint file'\u001b[0m\u001b[0;34m)\u001b[0m\u001b[0;34m\u001b[0m\u001b[0;34m\u001b[0m\u001b[0m\n\u001b[0m\u001b[1;32m    260\u001b[0m     \u001b[0mcheckpoint\u001b[0m \u001b[0;34m=\u001b[0m \u001b[0mtorch\u001b[0m\u001b[0;34m.\u001b[0m\u001b[0mload\u001b[0m\u001b[0;34m(\u001b[0m\u001b[0mfilename\u001b[0m\u001b[0;34m,\u001b[0m \u001b[0mmap_location\u001b[0m\u001b[0;34m=\u001b[0m\u001b[0mmap_location\u001b[0m\u001b[0;34m)\u001b[0m\u001b[0;34m\u001b[0m\u001b[0;34m\u001b[0m\u001b[0m\n\u001b[1;32m    261\u001b[0m     \u001b[0;32mreturn\u001b[0m \u001b[0mcheckpoint\u001b[0m\u001b[0;34m\u001b[0m\u001b[0;34m\u001b[0m\u001b[0m\n",
      "\u001b[0;31mOSError\u001b[0m: checkpoints/resnet50_batch256_imagenet_20200708-cfb998bf.pth is not a checkpoint file"
     ]
    }
   ],
   "source": [
    "from mmcls.apis import inference_model, init_model, show_result_pyplot\n",
    "# Specify the path to config file and checkpoint file\n",
    "config_file = 'configs/resnext/resnext101_32x4d_b32x8_imagenet.py'\n",
    "checkpoint_file = 'checkpoints/resnet50_batch256_imagenet_20200708-cfb998bf.pth'\n",
    "# checkpoint_file = 'checkpoints/resnext50_32x4d_batch256_imagenet_20200708-c07adbb7.pth'\n",
    "# Specify the device. You may also use cpu by `device='cpu'`.\n",
    "device = 'cuda:0'\n",
    "# Build the model from a config file and a checkpoint file\n",
    "model = init_model(config_file, checkpoint_file, device=device)"
   ]
  },
  {
   "cell_type": "code",
   "execution_count": 6,
   "metadata": {
    "execution": {
     "iopub.execute_input": "2021-03-28T06:33:49.677150Z",
     "iopub.status.busy": "2021-03-28T06:33:49.676232Z",
     "iopub.status.idle": "2021-03-28T06:33:49.680495Z",
     "shell.execute_reply": "2021-03-28T06:33:49.679907Z"
    },
    "papermill": {
     "duration": 0.080766,
     "end_time": "2021-03-28T06:33:49.680642",
     "exception": false,
     "start_time": "2021-03-28T06:33:49.599876",
     "status": "completed"
    },
    "tags": []
   },
   "outputs": [
    {
     "ename": "NameError",
     "evalue": "name 'model' is not defined",
     "output_type": "error",
     "traceback": [
      "\u001b[0;31m---------------------------------------------------------------------------\u001b[0m",
      "\u001b[0;31mNameError\u001b[0m                                 Traceback (most recent call last)",
      "\u001b[0;32m<ipython-input-6-9658deb4f11d>\u001b[0m in \u001b[0;36m<module>\u001b[0;34m\u001b[0m\n\u001b[1;32m      1\u001b[0m \u001b[0;31m# Test a single image\u001b[0m\u001b[0;34m\u001b[0m\u001b[0;34m\u001b[0m\u001b[0;34m\u001b[0m\u001b[0m\n\u001b[1;32m      2\u001b[0m \u001b[0mimg\u001b[0m \u001b[0;34m=\u001b[0m \u001b[0;34m'demo/demo.JPEG'\u001b[0m\u001b[0;34m\u001b[0m\u001b[0;34m\u001b[0m\u001b[0m\n\u001b[0;32m----> 3\u001b[0;31m \u001b[0mresult\u001b[0m \u001b[0;34m=\u001b[0m \u001b[0minference_model\u001b[0m\u001b[0;34m(\u001b[0m\u001b[0mmodel\u001b[0m\u001b[0;34m,\u001b[0m \u001b[0mimg\u001b[0m\u001b[0;34m)\u001b[0m\u001b[0;34m\u001b[0m\u001b[0;34m\u001b[0m\u001b[0m\n\u001b[0m",
      "\u001b[0;31mNameError\u001b[0m: name 'model' is not defined"
     ]
    }
   ],
   "source": [
    "# Test a single image\n",
    "img = 'demo/demo.JPEG'\n",
    "result = inference_model(model, img)"
   ]
  },
  {
   "cell_type": "code",
   "execution_count": 7,
   "metadata": {
    "execution": {
     "iopub.execute_input": "2021-03-28T06:33:49.818768Z",
     "iopub.status.busy": "2021-03-28T06:33:49.817104Z",
     "iopub.status.idle": "2021-03-28T06:33:49.822374Z",
     "shell.execute_reply": "2021-03-28T06:33:49.822981Z"
    },
    "papermill": {
     "duration": 0.080625,
     "end_time": "2021-03-28T06:33:49.823143",
     "exception": false,
     "start_time": "2021-03-28T06:33:49.742518",
     "status": "completed"
    },
    "tags": []
   },
   "outputs": [
    {
     "ename": "NameError",
     "evalue": "name 'model' is not defined",
     "output_type": "error",
     "traceback": [
      "\u001b[0;31m---------------------------------------------------------------------------\u001b[0m",
      "\u001b[0;31mNameError\u001b[0m                                 Traceback (most recent call last)",
      "\u001b[0;32m<ipython-input-7-3ebd0f4fea9d>\u001b[0m in \u001b[0;36m<module>\u001b[0;34m\u001b[0m\n\u001b[1;32m      1\u001b[0m \u001b[0;31m# Show the results\u001b[0m\u001b[0;34m\u001b[0m\u001b[0;34m\u001b[0m\u001b[0;34m\u001b[0m\u001b[0m\n\u001b[0;32m----> 2\u001b[0;31m \u001b[0mshow_result_pyplot\u001b[0m\u001b[0;34m(\u001b[0m\u001b[0mmodel\u001b[0m\u001b[0;34m,\u001b[0m \u001b[0mimg\u001b[0m\u001b[0;34m,\u001b[0m \u001b[0mresult\u001b[0m\u001b[0;34m)\u001b[0m\u001b[0;34m\u001b[0m\u001b[0;34m\u001b[0m\u001b[0m\n\u001b[0m",
      "\u001b[0;31mNameError\u001b[0m: name 'model' is not defined"
     ]
    }
   ],
   "source": [
    "# Show the results\n",
    "show_result_pyplot(model, img, result)"
   ]
  },
  {
   "cell_type": "code",
   "execution_count": 8,
   "metadata": {
    "execution": {
     "iopub.execute_input": "2021-03-28T06:33:49.952270Z",
     "iopub.status.busy": "2021-03-28T06:33:49.951388Z",
     "iopub.status.idle": "2021-03-28T06:33:49.953805Z",
     "shell.execute_reply": "2021-03-28T06:33:49.954235Z"
    },
    "papermill": {
     "duration": 0.070657,
     "end_time": "2021-03-28T06:33:49.954371",
     "exception": false,
     "start_time": "2021-03-28T06:33:49.883714",
     "status": "completed"
    },
    "tags": []
   },
   "outputs": [],
   "source": [
    "import pandas as pd"
   ]
  },
  {
   "cell_type": "code",
   "execution_count": 9,
   "metadata": {
    "execution": {
     "iopub.execute_input": "2021-03-28T06:33:50.085254Z",
     "iopub.status.busy": "2021-03-28T06:33:50.084699Z",
     "iopub.status.idle": "2021-03-28T06:33:50.304238Z",
     "shell.execute_reply": "2021-03-28T06:33:50.302664Z"
    },
    "papermill": {
     "duration": 0.28938,
     "end_time": "2021-03-28T06:33:50.304375",
     "exception": false,
     "start_time": "2021-03-28T06:33:50.014995",
     "status": "completed"
    },
    "tags": []
   },
   "outputs": [],
   "source": [
    "df = pd.read_csv(\"../../input/vinbigdata-chest-xray-abnormalities-detection/train.csv\")"
   ]
  },
  {
   "cell_type": "code",
   "execution_count": 10,
   "metadata": {
    "execution": {
     "iopub.execute_input": "2021-03-28T06:33:50.516208Z",
     "iopub.status.busy": "2021-03-28T06:33:50.514496Z",
     "iopub.status.idle": "2021-03-28T06:33:50.545425Z",
     "shell.execute_reply": "2021-03-28T06:33:50.546792Z"
    },
    "papermill": {
     "duration": 0.146229,
     "end_time": "2021-03-28T06:33:50.547035",
     "exception": false,
     "start_time": "2021-03-28T06:33:50.400806",
     "status": "completed"
    },
    "tags": []
   },
   "outputs": [
    {
     "data": {
      "text/html": [
       "<div>\n",
       "<style scoped>\n",
       "    .dataframe tbody tr th:only-of-type {\n",
       "        vertical-align: middle;\n",
       "    }\n",
       "\n",
       "    .dataframe tbody tr th {\n",
       "        vertical-align: top;\n",
       "    }\n",
       "\n",
       "    .dataframe thead th {\n",
       "        text-align: right;\n",
       "    }\n",
       "</style>\n",
       "<table border=\"1\" class=\"dataframe\">\n",
       "  <thead>\n",
       "    <tr style=\"text-align: right;\">\n",
       "      <th></th>\n",
       "      <th>image_id</th>\n",
       "      <th>class_name</th>\n",
       "      <th>class_id</th>\n",
       "      <th>rad_id</th>\n",
       "      <th>x_min</th>\n",
       "      <th>y_min</th>\n",
       "      <th>x_max</th>\n",
       "      <th>y_max</th>\n",
       "    </tr>\n",
       "  </thead>\n",
       "  <tbody>\n",
       "    <tr>\n",
       "      <th>0</th>\n",
       "      <td>50a418190bc3fb1ef1633bf9678929b3</td>\n",
       "      <td>No finding</td>\n",
       "      <td>14</td>\n",
       "      <td>R11</td>\n",
       "      <td>NaN</td>\n",
       "      <td>NaN</td>\n",
       "      <td>NaN</td>\n",
       "      <td>NaN</td>\n",
       "    </tr>\n",
       "    <tr>\n",
       "      <th>1</th>\n",
       "      <td>21a10246a5ec7af151081d0cd6d65dc9</td>\n",
       "      <td>No finding</td>\n",
       "      <td>14</td>\n",
       "      <td>R7</td>\n",
       "      <td>NaN</td>\n",
       "      <td>NaN</td>\n",
       "      <td>NaN</td>\n",
       "      <td>NaN</td>\n",
       "    </tr>\n",
       "    <tr>\n",
       "      <th>2</th>\n",
       "      <td>9a5094b2563a1ef3ff50dc5c7ff71345</td>\n",
       "      <td>Cardiomegaly</td>\n",
       "      <td>3</td>\n",
       "      <td>R10</td>\n",
       "      <td>691.0</td>\n",
       "      <td>1375.0</td>\n",
       "      <td>1653.0</td>\n",
       "      <td>1831.0</td>\n",
       "    </tr>\n",
       "    <tr>\n",
       "      <th>3</th>\n",
       "      <td>051132a778e61a86eb147c7c6f564dfe</td>\n",
       "      <td>Aortic enlargement</td>\n",
       "      <td>0</td>\n",
       "      <td>R10</td>\n",
       "      <td>1264.0</td>\n",
       "      <td>743.0</td>\n",
       "      <td>1611.0</td>\n",
       "      <td>1019.0</td>\n",
       "    </tr>\n",
       "    <tr>\n",
       "      <th>4</th>\n",
       "      <td>063319de25ce7edb9b1c6b8881290140</td>\n",
       "      <td>No finding</td>\n",
       "      <td>14</td>\n",
       "      <td>R10</td>\n",
       "      <td>NaN</td>\n",
       "      <td>NaN</td>\n",
       "      <td>NaN</td>\n",
       "      <td>NaN</td>\n",
       "    </tr>\n",
       "  </tbody>\n",
       "</table>\n",
       "</div>"
      ],
      "text/plain": [
       "                           image_id          class_name  class_id rad_id  \\\n",
       "0  50a418190bc3fb1ef1633bf9678929b3          No finding        14    R11   \n",
       "1  21a10246a5ec7af151081d0cd6d65dc9          No finding        14     R7   \n",
       "2  9a5094b2563a1ef3ff50dc5c7ff71345        Cardiomegaly         3    R10   \n",
       "3  051132a778e61a86eb147c7c6f564dfe  Aortic enlargement         0    R10   \n",
       "4  063319de25ce7edb9b1c6b8881290140          No finding        14    R10   \n",
       "\n",
       "    x_min   y_min   x_max   y_max  \n",
       "0     NaN     NaN     NaN     NaN  \n",
       "1     NaN     NaN     NaN     NaN  \n",
       "2   691.0  1375.0  1653.0  1831.0  \n",
       "3  1264.0   743.0  1611.0  1019.0  \n",
       "4     NaN     NaN     NaN     NaN  "
      ]
     },
     "execution_count": 10,
     "metadata": {},
     "output_type": "execute_result"
    }
   ],
   "source": [
    "df.head()"
   ]
  },
  {
   "cell_type": "code",
   "execution_count": 11,
   "metadata": {
    "execution": {
     "iopub.execute_input": "2021-03-28T06:33:50.794242Z",
     "iopub.status.busy": "2021-03-28T06:33:50.793358Z",
     "iopub.status.idle": "2021-03-28T06:33:50.804747Z",
     "shell.execute_reply": "2021-03-28T06:33:50.805137Z"
    },
    "papermill": {
     "duration": 0.137733,
     "end_time": "2021-03-28T06:33:50.805296",
     "exception": false,
     "start_time": "2021-03-28T06:33:50.667563",
     "status": "completed"
    },
    "tags": []
   },
   "outputs": [
    {
     "data": {
      "text/plain": [
       "15000"
      ]
     },
     "execution_count": 11,
     "metadata": {},
     "output_type": "execute_result"
    }
   ],
   "source": [
    "df.image_id.nunique()"
   ]
  },
  {
   "cell_type": "code",
   "execution_count": 12,
   "metadata": {
    "execution": {
     "iopub.execute_input": "2021-03-28T06:33:50.951410Z",
     "iopub.status.busy": "2021-03-28T06:33:50.950043Z",
     "iopub.status.idle": "2021-03-28T06:33:50.954626Z",
     "shell.execute_reply": "2021-03-28T06:33:50.954116Z"
    },
    "papermill": {
     "duration": 0.08511,
     "end_time": "2021-03-28T06:33:50.954748",
     "exception": false,
     "start_time": "2021-03-28T06:33:50.869638",
     "status": "completed"
    },
    "tags": []
   },
   "outputs": [
    {
     "data": {
      "text/plain": [
       "67914"
      ]
     },
     "execution_count": 12,
     "metadata": {},
     "output_type": "execute_result"
    }
   ],
   "source": [
    "len(df)"
   ]
  },
  {
   "cell_type": "code",
   "execution_count": 13,
   "metadata": {
    "execution": {
     "iopub.execute_input": "2021-03-28T06:33:51.111256Z",
     "iopub.status.busy": "2021-03-28T06:33:51.107740Z",
     "iopub.status.idle": "2021-03-28T06:33:51.533035Z",
     "shell.execute_reply": "2021-03-28T06:33:51.532491Z"
    },
    "papermill": {
     "duration": 0.505587,
     "end_time": "2021-03-28T06:33:51.533197",
     "exception": false,
     "start_time": "2021-03-28T06:33:51.027610",
     "status": "completed"
    },
    "tags": []
   },
   "outputs": [],
   "source": [
    "df_new = df.groupby('image_id')['class_id'].apply(list).reset_index()"
   ]
  },
  {
   "cell_type": "code",
   "execution_count": 14,
   "metadata": {
    "execution": {
     "iopub.execute_input": "2021-03-28T06:33:51.674091Z",
     "iopub.status.busy": "2021-03-28T06:33:51.673305Z",
     "iopub.status.idle": "2021-03-28T06:33:51.676879Z",
     "shell.execute_reply": "2021-03-28T06:33:51.677325Z"
    },
    "papermill": {
     "duration": 0.078852,
     "end_time": "2021-03-28T06:33:51.677467",
     "exception": false,
     "start_time": "2021-03-28T06:33:51.598615",
     "status": "completed"
    },
    "tags": []
   },
   "outputs": [
    {
     "data": {
      "text/html": [
       "<div>\n",
       "<style scoped>\n",
       "    .dataframe tbody tr th:only-of-type {\n",
       "        vertical-align: middle;\n",
       "    }\n",
       "\n",
       "    .dataframe tbody tr th {\n",
       "        vertical-align: top;\n",
       "    }\n",
       "\n",
       "    .dataframe thead th {\n",
       "        text-align: right;\n",
       "    }\n",
       "</style>\n",
       "<table border=\"1\" class=\"dataframe\">\n",
       "  <thead>\n",
       "    <tr style=\"text-align: right;\">\n",
       "      <th></th>\n",
       "      <th>image_id</th>\n",
       "      <th>class_id</th>\n",
       "    </tr>\n",
       "  </thead>\n",
       "  <tbody>\n",
       "    <tr>\n",
       "      <th>0</th>\n",
       "      <td>000434271f63a053c4128a0ba6352c7f</td>\n",
       "      <td>[14, 14, 14]</td>\n",
       "    </tr>\n",
       "    <tr>\n",
       "      <th>1</th>\n",
       "      <td>00053190460d56c53cc3e57321387478</td>\n",
       "      <td>[14, 14, 14]</td>\n",
       "    </tr>\n",
       "    <tr>\n",
       "      <th>2</th>\n",
       "      <td>0005e8e3701dfb1dd93d53e2ff537b6e</td>\n",
       "      <td>[7, 8, 6, 7, 4]</td>\n",
       "    </tr>\n",
       "    <tr>\n",
       "      <th>3</th>\n",
       "      <td>0006e0a85696f6bb578e84fafa9a5607</td>\n",
       "      <td>[14, 14, 14]</td>\n",
       "    </tr>\n",
       "    <tr>\n",
       "      <th>4</th>\n",
       "      <td>0007d316f756b3fa0baea2ff514ce945</td>\n",
       "      <td>[13, 11, 3, 11, 13, 0, 5, 5, 0, 11, 13]</td>\n",
       "    </tr>\n",
       "  </tbody>\n",
       "</table>\n",
       "</div>"
      ],
      "text/plain": [
       "                           image_id                                 class_id\n",
       "0  000434271f63a053c4128a0ba6352c7f                             [14, 14, 14]\n",
       "1  00053190460d56c53cc3e57321387478                             [14, 14, 14]\n",
       "2  0005e8e3701dfb1dd93d53e2ff537b6e                          [7, 8, 6, 7, 4]\n",
       "3  0006e0a85696f6bb578e84fafa9a5607                             [14, 14, 14]\n",
       "4  0007d316f756b3fa0baea2ff514ce945  [13, 11, 3, 11, 13, 0, 5, 5, 0, 11, 13]"
      ]
     },
     "execution_count": 14,
     "metadata": {},
     "output_type": "execute_result"
    }
   ],
   "source": [
    "df_new.head()"
   ]
  },
  {
   "cell_type": "code",
   "execution_count": 15,
   "metadata": {
    "execution": {
     "iopub.execute_input": "2021-03-28T06:33:51.828448Z",
     "iopub.status.busy": "2021-03-28T06:33:51.827468Z",
     "iopub.status.idle": "2021-03-28T06:33:51.831233Z",
     "shell.execute_reply": "2021-03-28T06:33:51.830787Z"
    },
    "papermill": {
     "duration": 0.088781,
     "end_time": "2021-03-28T06:33:51.831361",
     "exception": false,
     "start_time": "2021-03-28T06:33:51.742580",
     "status": "completed"
    },
    "tags": []
   },
   "outputs": [],
   "source": [
    "df_new['class_id'] = df_new['class_id'].apply(lambda x: list(set(x)))"
   ]
  },
  {
   "cell_type": "code",
   "execution_count": 16,
   "metadata": {
    "execution": {
     "iopub.execute_input": "2021-03-28T06:33:51.973079Z",
     "iopub.status.busy": "2021-03-28T06:33:51.972112Z",
     "iopub.status.idle": "2021-03-28T06:33:51.975867Z",
     "shell.execute_reply": "2021-03-28T06:33:51.976244Z"
    },
    "papermill": {
     "duration": 0.080833,
     "end_time": "2021-03-28T06:33:51.976385",
     "exception": false,
     "start_time": "2021-03-28T06:33:51.895552",
     "status": "completed"
    },
    "tags": []
   },
   "outputs": [
    {
     "data": {
      "text/html": [
       "<div>\n",
       "<style scoped>\n",
       "    .dataframe tbody tr th:only-of-type {\n",
       "        vertical-align: middle;\n",
       "    }\n",
       "\n",
       "    .dataframe tbody tr th {\n",
       "        vertical-align: top;\n",
       "    }\n",
       "\n",
       "    .dataframe thead th {\n",
       "        text-align: right;\n",
       "    }\n",
       "</style>\n",
       "<table border=\"1\" class=\"dataframe\">\n",
       "  <thead>\n",
       "    <tr style=\"text-align: right;\">\n",
       "      <th></th>\n",
       "      <th>image_id</th>\n",
       "      <th>class_id</th>\n",
       "    </tr>\n",
       "  </thead>\n",
       "  <tbody>\n",
       "    <tr>\n",
       "      <th>0</th>\n",
       "      <td>000434271f63a053c4128a0ba6352c7f</td>\n",
       "      <td>[14]</td>\n",
       "    </tr>\n",
       "    <tr>\n",
       "      <th>1</th>\n",
       "      <td>00053190460d56c53cc3e57321387478</td>\n",
       "      <td>[14]</td>\n",
       "    </tr>\n",
       "    <tr>\n",
       "      <th>2</th>\n",
       "      <td>0005e8e3701dfb1dd93d53e2ff537b6e</td>\n",
       "      <td>[8, 4, 6, 7]</td>\n",
       "    </tr>\n",
       "    <tr>\n",
       "      <th>3</th>\n",
       "      <td>0006e0a85696f6bb578e84fafa9a5607</td>\n",
       "      <td>[14]</td>\n",
       "    </tr>\n",
       "    <tr>\n",
       "      <th>4</th>\n",
       "      <td>0007d316f756b3fa0baea2ff514ce945</td>\n",
       "      <td>[0, 3, 5, 11, 13]</td>\n",
       "    </tr>\n",
       "  </tbody>\n",
       "</table>\n",
       "</div>"
      ],
      "text/plain": [
       "                           image_id           class_id\n",
       "0  000434271f63a053c4128a0ba6352c7f               [14]\n",
       "1  00053190460d56c53cc3e57321387478               [14]\n",
       "2  0005e8e3701dfb1dd93d53e2ff537b6e       [8, 4, 6, 7]\n",
       "3  0006e0a85696f6bb578e84fafa9a5607               [14]\n",
       "4  0007d316f756b3fa0baea2ff514ce945  [0, 3, 5, 11, 13]"
      ]
     },
     "execution_count": 16,
     "metadata": {},
     "output_type": "execute_result"
    }
   ],
   "source": [
    "df_new.head()"
   ]
  },
  {
   "cell_type": "code",
   "execution_count": 17,
   "metadata": {
    "execution": {
     "iopub.execute_input": "2021-03-28T06:33:52.116719Z",
     "iopub.status.busy": "2021-03-28T06:33:52.116064Z",
     "iopub.status.idle": "2021-03-28T06:33:52.120363Z",
     "shell.execute_reply": "2021-03-28T06:33:52.119941Z"
    },
    "papermill": {
     "duration": 0.074726,
     "end_time": "2021-03-28T06:33:52.120472",
     "exception": false,
     "start_time": "2021-03-28T06:33:52.045746",
     "status": "completed"
    },
    "tags": []
   },
   "outputs": [],
   "source": [
    "df['label'] = 0"
   ]
  },
  {
   "cell_type": "code",
   "execution_count": 18,
   "metadata": {
    "execution": {
     "iopub.execute_input": "2021-03-28T06:33:52.265385Z",
     "iopub.status.busy": "2021-03-28T06:33:52.264233Z",
     "iopub.status.idle": "2021-03-28T06:33:52.269711Z",
     "shell.execute_reply": "2021-03-28T06:33:52.269221Z"
    },
    "papermill": {
     "duration": 0.084555,
     "end_time": "2021-03-28T06:33:52.269833",
     "exception": false,
     "start_time": "2021-03-28T06:33:52.185278",
     "status": "completed"
    },
    "tags": []
   },
   "outputs": [],
   "source": [
    "df.loc[df.class_name!='No finding', ['label']] = 1"
   ]
  },
  {
   "cell_type": "code",
   "execution_count": 19,
   "metadata": {
    "execution": {
     "iopub.execute_input": "2021-03-28T06:33:52.413820Z",
     "iopub.status.busy": "2021-03-28T06:33:52.412868Z",
     "iopub.status.idle": "2021-03-28T06:33:52.416740Z",
     "shell.execute_reply": "2021-03-28T06:33:52.417257Z"
    },
    "papermill": {
     "duration": 0.083795,
     "end_time": "2021-03-28T06:33:52.417412",
     "exception": false,
     "start_time": "2021-03-28T06:33:52.333617",
     "status": "completed"
    },
    "tags": []
   },
   "outputs": [
    {
     "data": {
      "text/html": [
       "<div>\n",
       "<style scoped>\n",
       "    .dataframe tbody tr th:only-of-type {\n",
       "        vertical-align: middle;\n",
       "    }\n",
       "\n",
       "    .dataframe tbody tr th {\n",
       "        vertical-align: top;\n",
       "    }\n",
       "\n",
       "    .dataframe thead th {\n",
       "        text-align: right;\n",
       "    }\n",
       "</style>\n",
       "<table border=\"1\" class=\"dataframe\">\n",
       "  <thead>\n",
       "    <tr style=\"text-align: right;\">\n",
       "      <th></th>\n",
       "      <th>image_id</th>\n",
       "      <th>class_name</th>\n",
       "      <th>class_id</th>\n",
       "      <th>rad_id</th>\n",
       "      <th>x_min</th>\n",
       "      <th>y_min</th>\n",
       "      <th>x_max</th>\n",
       "      <th>y_max</th>\n",
       "      <th>label</th>\n",
       "    </tr>\n",
       "  </thead>\n",
       "  <tbody>\n",
       "    <tr>\n",
       "      <th>0</th>\n",
       "      <td>50a418190bc3fb1ef1633bf9678929b3</td>\n",
       "      <td>No finding</td>\n",
       "      <td>14</td>\n",
       "      <td>R11</td>\n",
       "      <td>NaN</td>\n",
       "      <td>NaN</td>\n",
       "      <td>NaN</td>\n",
       "      <td>NaN</td>\n",
       "      <td>0</td>\n",
       "    </tr>\n",
       "    <tr>\n",
       "      <th>1</th>\n",
       "      <td>21a10246a5ec7af151081d0cd6d65dc9</td>\n",
       "      <td>No finding</td>\n",
       "      <td>14</td>\n",
       "      <td>R7</td>\n",
       "      <td>NaN</td>\n",
       "      <td>NaN</td>\n",
       "      <td>NaN</td>\n",
       "      <td>NaN</td>\n",
       "      <td>0</td>\n",
       "    </tr>\n",
       "    <tr>\n",
       "      <th>2</th>\n",
       "      <td>9a5094b2563a1ef3ff50dc5c7ff71345</td>\n",
       "      <td>Cardiomegaly</td>\n",
       "      <td>3</td>\n",
       "      <td>R10</td>\n",
       "      <td>691.0</td>\n",
       "      <td>1375.0</td>\n",
       "      <td>1653.0</td>\n",
       "      <td>1831.0</td>\n",
       "      <td>1</td>\n",
       "    </tr>\n",
       "    <tr>\n",
       "      <th>3</th>\n",
       "      <td>051132a778e61a86eb147c7c6f564dfe</td>\n",
       "      <td>Aortic enlargement</td>\n",
       "      <td>0</td>\n",
       "      <td>R10</td>\n",
       "      <td>1264.0</td>\n",
       "      <td>743.0</td>\n",
       "      <td>1611.0</td>\n",
       "      <td>1019.0</td>\n",
       "      <td>1</td>\n",
       "    </tr>\n",
       "    <tr>\n",
       "      <th>4</th>\n",
       "      <td>063319de25ce7edb9b1c6b8881290140</td>\n",
       "      <td>No finding</td>\n",
       "      <td>14</td>\n",
       "      <td>R10</td>\n",
       "      <td>NaN</td>\n",
       "      <td>NaN</td>\n",
       "      <td>NaN</td>\n",
       "      <td>NaN</td>\n",
       "      <td>0</td>\n",
       "    </tr>\n",
       "  </tbody>\n",
       "</table>\n",
       "</div>"
      ],
      "text/plain": [
       "                           image_id          class_name  class_id rad_id  \\\n",
       "0  50a418190bc3fb1ef1633bf9678929b3          No finding        14    R11   \n",
       "1  21a10246a5ec7af151081d0cd6d65dc9          No finding        14     R7   \n",
       "2  9a5094b2563a1ef3ff50dc5c7ff71345        Cardiomegaly         3    R10   \n",
       "3  051132a778e61a86eb147c7c6f564dfe  Aortic enlargement         0    R10   \n",
       "4  063319de25ce7edb9b1c6b8881290140          No finding        14    R10   \n",
       "\n",
       "    x_min   y_min   x_max   y_max  label  \n",
       "0     NaN     NaN     NaN     NaN      0  \n",
       "1     NaN     NaN     NaN     NaN      0  \n",
       "2   691.0  1375.0  1653.0  1831.0      1  \n",
       "3  1264.0   743.0  1611.0  1019.0      1  \n",
       "4     NaN     NaN     NaN     NaN      0  "
      ]
     },
     "execution_count": 19,
     "metadata": {},
     "output_type": "execute_result"
    }
   ],
   "source": [
    "df.head()"
   ]
  },
  {
   "cell_type": "code",
   "execution_count": 20,
   "metadata": {
    "execution": {
     "iopub.execute_input": "2021-03-28T06:33:52.565021Z",
     "iopub.status.busy": "2021-03-28T06:33:52.559683Z",
     "iopub.status.idle": "2021-03-28T06:33:52.595402Z",
     "shell.execute_reply": "2021-03-28T06:33:52.594857Z"
    },
    "papermill": {
     "duration": 0.107567,
     "end_time": "2021-03-28T06:33:52.595588",
     "exception": false,
     "start_time": "2021-03-28T06:33:52.488021",
     "status": "completed"
    },
    "tags": []
   },
   "outputs": [],
   "source": [
    "df_with_labels = df.groupby('image_id')['label'].sum().reset_index()"
   ]
  },
  {
   "cell_type": "code",
   "execution_count": 21,
   "metadata": {
    "execution": {
     "iopub.execute_input": "2021-03-28T06:33:52.737623Z",
     "iopub.status.busy": "2021-03-28T06:33:52.737051Z",
     "iopub.status.idle": "2021-03-28T06:33:52.763936Z",
     "shell.execute_reply": "2021-03-28T06:33:52.763084Z"
    },
    "papermill": {
     "duration": 0.09708,
     "end_time": "2021-03-28T06:33:52.764057",
     "exception": false,
     "start_time": "2021-03-28T06:33:52.666977",
     "status": "completed"
    },
    "tags": []
   },
   "outputs": [],
   "source": [
    "df_with_labels.loc[df_with_labels.label>0,['label']] = 1"
   ]
  },
  {
   "cell_type": "code",
   "execution_count": 22,
   "metadata": {
    "execution": {
     "iopub.execute_input": "2021-03-28T06:33:52.905527Z",
     "iopub.status.busy": "2021-03-28T06:33:52.904794Z",
     "iopub.status.idle": "2021-03-28T06:33:52.910192Z",
     "shell.execute_reply": "2021-03-28T06:33:52.909786Z"
    },
    "papermill": {
     "duration": 0.079202,
     "end_time": "2021-03-28T06:33:52.910310",
     "exception": false,
     "start_time": "2021-03-28T06:33:52.831108",
     "status": "completed"
    },
    "tags": []
   },
   "outputs": [
    {
     "data": {
      "text/html": [
       "<div>\n",
       "<style scoped>\n",
       "    .dataframe tbody tr th:only-of-type {\n",
       "        vertical-align: middle;\n",
       "    }\n",
       "\n",
       "    .dataframe tbody tr th {\n",
       "        vertical-align: top;\n",
       "    }\n",
       "\n",
       "    .dataframe thead th {\n",
       "        text-align: right;\n",
       "    }\n",
       "</style>\n",
       "<table border=\"1\" class=\"dataframe\">\n",
       "  <thead>\n",
       "    <tr style=\"text-align: right;\">\n",
       "      <th></th>\n",
       "      <th>image_id</th>\n",
       "      <th>label</th>\n",
       "    </tr>\n",
       "  </thead>\n",
       "  <tbody>\n",
       "    <tr>\n",
       "      <th>0</th>\n",
       "      <td>000434271f63a053c4128a0ba6352c7f</td>\n",
       "      <td>0</td>\n",
       "    </tr>\n",
       "    <tr>\n",
       "      <th>1</th>\n",
       "      <td>00053190460d56c53cc3e57321387478</td>\n",
       "      <td>0</td>\n",
       "    </tr>\n",
       "    <tr>\n",
       "      <th>2</th>\n",
       "      <td>0005e8e3701dfb1dd93d53e2ff537b6e</td>\n",
       "      <td>1</td>\n",
       "    </tr>\n",
       "    <tr>\n",
       "      <th>3</th>\n",
       "      <td>0006e0a85696f6bb578e84fafa9a5607</td>\n",
       "      <td>0</td>\n",
       "    </tr>\n",
       "    <tr>\n",
       "      <th>4</th>\n",
       "      <td>0007d316f756b3fa0baea2ff514ce945</td>\n",
       "      <td>1</td>\n",
       "    </tr>\n",
       "  </tbody>\n",
       "</table>\n",
       "</div>"
      ],
      "text/plain": [
       "                           image_id  label\n",
       "0  000434271f63a053c4128a0ba6352c7f      0\n",
       "1  00053190460d56c53cc3e57321387478      0\n",
       "2  0005e8e3701dfb1dd93d53e2ff537b6e      1\n",
       "3  0006e0a85696f6bb578e84fafa9a5607      0\n",
       "4  0007d316f756b3fa0baea2ff514ce945      1"
      ]
     },
     "execution_count": 22,
     "metadata": {},
     "output_type": "execute_result"
    }
   ],
   "source": [
    "df_with_labels.head()"
   ]
  },
  {
   "cell_type": "code",
   "execution_count": 23,
   "metadata": {
    "execution": {
     "iopub.execute_input": "2021-03-28T06:33:53.047498Z",
     "iopub.status.busy": "2021-03-28T06:33:53.046911Z",
     "iopub.status.idle": "2021-03-28T06:33:53.052434Z",
     "shell.execute_reply": "2021-03-28T06:33:53.051988Z"
    },
    "papermill": {
     "duration": 0.077785,
     "end_time": "2021-03-28T06:33:53.052594",
     "exception": false,
     "start_time": "2021-03-28T06:33:52.974809",
     "status": "completed"
    },
    "tags": []
   },
   "outputs": [
    {
     "data": {
      "text/plain": [
       "15000"
      ]
     },
     "execution_count": 23,
     "metadata": {},
     "output_type": "execute_result"
    }
   ],
   "source": [
    "len(df_with_labels)"
   ]
  },
  {
   "cell_type": "code",
   "execution_count": 24,
   "metadata": {
    "execution": {
     "iopub.execute_input": "2021-03-28T06:33:53.198877Z",
     "iopub.status.busy": "2021-03-28T06:33:53.198237Z",
     "iopub.status.idle": "2021-03-28T06:33:53.435245Z",
     "shell.execute_reply": "2021-03-28T06:33:53.433886Z"
    },
    "papermill": {
     "duration": 0.314445,
     "end_time": "2021-03-28T06:33:53.435380",
     "exception": false,
     "start_time": "2021-03-28T06:33:53.120935",
     "status": "completed"
    },
    "tags": []
   },
   "outputs": [],
   "source": [
    "from sklearn.model_selection import StratifiedKFold\n",
    "skf = StratifiedKFold(n_splits=2)"
   ]
  },
  {
   "cell_type": "code",
   "execution_count": 25,
   "metadata": {
    "execution": {
     "iopub.execute_input": "2021-03-28T06:33:53.575387Z",
     "iopub.status.busy": "2021-03-28T06:33:53.574401Z",
     "iopub.status.idle": "2021-03-28T06:33:53.576171Z",
     "shell.execute_reply": "2021-03-28T06:33:53.576728Z"
    },
    "papermill": {
     "duration": 0.075712,
     "end_time": "2021-03-28T06:33:53.576891",
     "exception": false,
     "start_time": "2021-03-28T06:33:53.501179",
     "status": "completed"
    },
    "tags": []
   },
   "outputs": [],
   "source": [
    "import numpy as np"
   ]
  },
  {
   "cell_type": "code",
   "execution_count": 26,
   "metadata": {
    "execution": {
     "iopub.execute_input": "2021-03-28T06:33:53.720339Z",
     "iopub.status.busy": "2021-03-28T06:33:53.719489Z",
     "iopub.status.idle": "2021-03-28T06:33:53.727869Z",
     "shell.execute_reply": "2021-03-28T06:33:53.727412Z"
    },
    "papermill": {
     "duration": 0.082496,
     "end_time": "2021-03-28T06:33:53.727985",
     "exception": false,
     "start_time": "2021-03-28T06:33:53.645489",
     "status": "completed"
    },
    "tags": []
   },
   "outputs": [],
   "source": [
    "image_ids, labels = np.array(df_with_labels.image_id.tolist()), np.array(df_with_labels.label.tolist())"
   ]
  },
  {
   "cell_type": "code",
   "execution_count": 27,
   "metadata": {
    "execution": {
     "iopub.execute_input": "2021-03-28T06:33:53.866263Z",
     "iopub.status.busy": "2021-03-28T06:33:53.865722Z",
     "iopub.status.idle": "2021-03-28T06:33:53.874607Z",
     "shell.execute_reply": "2021-03-28T06:33:53.875085Z"
    },
    "papermill": {
     "duration": 0.081538,
     "end_time": "2021-03-28T06:33:53.875227",
     "exception": false,
     "start_time": "2021-03-28T06:33:53.793689",
     "status": "completed"
    },
    "tags": []
   },
   "outputs": [],
   "source": [
    "for train_index, test_index in skf.split(image_ids, labels):\n",
    "    X_train, X_test = image_ids[train_index], image_ids[test_index]\n",
    "    y_train, y_test = labels[train_index], labels[test_index]"
   ]
  },
  {
   "cell_type": "code",
   "execution_count": 28,
   "metadata": {
    "execution": {
     "iopub.execute_input": "2021-03-28T06:33:54.019460Z",
     "iopub.status.busy": "2021-03-28T06:33:54.018475Z",
     "iopub.status.idle": "2021-03-28T06:33:54.021583Z",
     "shell.execute_reply": "2021-03-28T06:33:54.021145Z"
    },
    "papermill": {
     "duration": 0.078952,
     "end_time": "2021-03-28T06:33:54.021706",
     "exception": false,
     "start_time": "2021-03-28T06:33:53.942754",
     "status": "completed"
    },
    "tags": []
   },
   "outputs": [],
   "source": [
    "train_df = pd.DataFrame({'id': X_train, 'y': y_train})\n",
    "val_df = pd.DataFrame({'id': X_test, 'y': y_test})"
   ]
  },
  {
   "cell_type": "code",
   "execution_count": 29,
   "metadata": {
    "execution": {
     "iopub.execute_input": "2021-03-28T06:33:54.166912Z",
     "iopub.status.busy": "2021-03-28T06:33:54.166369Z",
     "iopub.status.idle": "2021-03-28T06:33:54.181919Z",
     "shell.execute_reply": "2021-03-28T06:33:54.181405Z"
    },
    "papermill": {
     "duration": 0.093401,
     "end_time": "2021-03-28T06:33:54.182057",
     "exception": false,
     "start_time": "2021-03-28T06:33:54.088656",
     "status": "completed"
    },
    "tags": []
   },
   "outputs": [],
   "source": [
    "test_df = pd.read_csv(\"../../input/vinbigdata-1024-image-dataset/vinbigdata/test.csv\")"
   ]
  },
  {
   "cell_type": "code",
   "execution_count": 30,
   "metadata": {
    "execution": {
     "iopub.execute_input": "2021-03-28T06:33:54.323197Z",
     "iopub.status.busy": "2021-03-28T06:33:54.322336Z",
     "iopub.status.idle": "2021-03-28T06:33:54.325344Z",
     "shell.execute_reply": "2021-03-28T06:33:54.324943Z"
    },
    "papermill": {
     "duration": 0.076215,
     "end_time": "2021-03-28T06:33:54.325457",
     "exception": false,
     "start_time": "2021-03-28T06:33:54.249242",
     "status": "completed"
    },
    "tags": []
   },
   "outputs": [],
   "source": [
    "test_df['image_id']  = test_df['image_id']  + \".png\"\n",
    "test_df['label'] = 0"
   ]
  },
  {
   "cell_type": "code",
   "execution_count": 31,
   "metadata": {
    "execution": {
     "iopub.execute_input": "2021-03-28T06:33:54.467748Z",
     "iopub.status.busy": "2021-03-28T06:33:54.466909Z",
     "iopub.status.idle": "2021-03-28T06:33:54.470260Z",
     "shell.execute_reply": "2021-03-28T06:33:54.470640Z"
    },
    "papermill": {
     "duration": 0.079387,
     "end_time": "2021-03-28T06:33:54.470782",
     "exception": false,
     "start_time": "2021-03-28T06:33:54.391395",
     "status": "completed"
    },
    "tags": []
   },
   "outputs": [
    {
     "data": {
      "text/html": [
       "<div>\n",
       "<style scoped>\n",
       "    .dataframe tbody tr th:only-of-type {\n",
       "        vertical-align: middle;\n",
       "    }\n",
       "\n",
       "    .dataframe tbody tr th {\n",
       "        vertical-align: top;\n",
       "    }\n",
       "\n",
       "    .dataframe thead th {\n",
       "        text-align: right;\n",
       "    }\n",
       "</style>\n",
       "<table border=\"1\" class=\"dataframe\">\n",
       "  <thead>\n",
       "    <tr style=\"text-align: right;\">\n",
       "      <th></th>\n",
       "      <th>image_id</th>\n",
       "      <th>width</th>\n",
       "      <th>height</th>\n",
       "      <th>label</th>\n",
       "    </tr>\n",
       "  </thead>\n",
       "  <tbody>\n",
       "    <tr>\n",
       "      <th>0</th>\n",
       "      <td>83caa8a85e03606cf57e49147d7ac569.png</td>\n",
       "      <td>2304</td>\n",
       "      <td>2880</td>\n",
       "      <td>0</td>\n",
       "    </tr>\n",
       "    <tr>\n",
       "      <th>1</th>\n",
       "      <td>7550347fa2bb96c2354a3716dfa3a69c.png</td>\n",
       "      <td>2538</td>\n",
       "      <td>3095</td>\n",
       "      <td>0</td>\n",
       "    </tr>\n",
       "    <tr>\n",
       "      <th>2</th>\n",
       "      <td>74b23792db329cff5843e36efb8aa65a.png</td>\n",
       "      <td>2788</td>\n",
       "      <td>3120</td>\n",
       "      <td>0</td>\n",
       "    </tr>\n",
       "    <tr>\n",
       "      <th>3</th>\n",
       "      <td>94568a546be103177cb582d3e91cd2d8.png</td>\n",
       "      <td>1994</td>\n",
       "      <td>2430</td>\n",
       "      <td>0</td>\n",
       "    </tr>\n",
       "    <tr>\n",
       "      <th>4</th>\n",
       "      <td>6da36354fc904b63bc03eb3884e0c35c.png</td>\n",
       "      <td>2056</td>\n",
       "      <td>2376</td>\n",
       "      <td>0</td>\n",
       "    </tr>\n",
       "  </tbody>\n",
       "</table>\n",
       "</div>"
      ],
      "text/plain": [
       "                               image_id  width  height  label\n",
       "0  83caa8a85e03606cf57e49147d7ac569.png   2304    2880      0\n",
       "1  7550347fa2bb96c2354a3716dfa3a69c.png   2538    3095      0\n",
       "2  74b23792db329cff5843e36efb8aa65a.png   2788    3120      0\n",
       "3  94568a546be103177cb582d3e91cd2d8.png   1994    2430      0\n",
       "4  6da36354fc904b63bc03eb3884e0c35c.png   2056    2376      0"
      ]
     },
     "execution_count": 31,
     "metadata": {},
     "output_type": "execute_result"
    }
   ],
   "source": [
    "test_df.head()"
   ]
  },
  {
   "cell_type": "code",
   "execution_count": 32,
   "metadata": {
    "execution": {
     "iopub.execute_input": "2021-03-28T06:33:54.614812Z",
     "iopub.status.busy": "2021-03-28T06:33:54.614009Z",
     "iopub.status.idle": "2021-03-28T06:33:54.782516Z",
     "shell.execute_reply": "2021-03-28T06:33:54.783025Z"
    },
    "papermill": {
     "duration": 0.243149,
     "end_time": "2021-03-28T06:33:54.783222",
     "exception": false,
     "start_time": "2021-03-28T06:33:54.540073",
     "status": "completed"
    },
    "tags": []
   },
   "outputs": [],
   "source": [
    "test_df[['image_id', 'label']].to_csv('./test.txt', sep=' ', header=False, index=False)"
   ]
  },
  {
   "cell_type": "code",
   "execution_count": 33,
   "metadata": {
    "execution": {
     "iopub.execute_input": "2021-03-28T06:33:54.940351Z",
     "iopub.status.busy": "2021-03-28T06:33:54.939579Z",
     "iopub.status.idle": "2021-03-28T06:33:54.942925Z",
     "shell.execute_reply": "2021-03-28T06:33:54.943345Z"
    },
    "papermill": {
     "duration": 0.089332,
     "end_time": "2021-03-28T06:33:54.943486",
     "exception": false,
     "start_time": "2021-03-28T06:33:54.854154",
     "status": "completed"
    },
    "tags": []
   },
   "outputs": [
    {
     "data": {
      "text/html": [
       "<div>\n",
       "<style scoped>\n",
       "    .dataframe tbody tr th:only-of-type {\n",
       "        vertical-align: middle;\n",
       "    }\n",
       "\n",
       "    .dataframe tbody tr th {\n",
       "        vertical-align: top;\n",
       "    }\n",
       "\n",
       "    .dataframe thead th {\n",
       "        text-align: right;\n",
       "    }\n",
       "</style>\n",
       "<table border=\"1\" class=\"dataframe\">\n",
       "  <thead>\n",
       "    <tr style=\"text-align: right;\">\n",
       "      <th></th>\n",
       "      <th>id</th>\n",
       "      <th>y</th>\n",
       "    </tr>\n",
       "  </thead>\n",
       "  <tbody>\n",
       "    <tr>\n",
       "      <th>0</th>\n",
       "      <td>000434271f63a053c4128a0ba6352c7f</td>\n",
       "      <td>0</td>\n",
       "    </tr>\n",
       "    <tr>\n",
       "      <th>1</th>\n",
       "      <td>00053190460d56c53cc3e57321387478</td>\n",
       "      <td>0</td>\n",
       "    </tr>\n",
       "    <tr>\n",
       "      <th>2</th>\n",
       "      <td>0005e8e3701dfb1dd93d53e2ff537b6e</td>\n",
       "      <td>1</td>\n",
       "    </tr>\n",
       "    <tr>\n",
       "      <th>3</th>\n",
       "      <td>0006e0a85696f6bb578e84fafa9a5607</td>\n",
       "      <td>0</td>\n",
       "    </tr>\n",
       "    <tr>\n",
       "      <th>4</th>\n",
       "      <td>0007d316f756b3fa0baea2ff514ce945</td>\n",
       "      <td>1</td>\n",
       "    </tr>\n",
       "  </tbody>\n",
       "</table>\n",
       "</div>"
      ],
      "text/plain": [
       "                                 id  y\n",
       "0  000434271f63a053c4128a0ba6352c7f  0\n",
       "1  00053190460d56c53cc3e57321387478  0\n",
       "2  0005e8e3701dfb1dd93d53e2ff537b6e  1\n",
       "3  0006e0a85696f6bb578e84fafa9a5607  0\n",
       "4  0007d316f756b3fa0baea2ff514ce945  1"
      ]
     },
     "execution_count": 33,
     "metadata": {},
     "output_type": "execute_result"
    }
   ],
   "source": [
    "train_df.head()"
   ]
  },
  {
   "cell_type": "code",
   "execution_count": 34,
   "metadata": {
    "execution": {
     "iopub.execute_input": "2021-03-28T06:33:55.096043Z",
     "iopub.status.busy": "2021-03-28T06:33:55.095177Z",
     "iopub.status.idle": "2021-03-28T06:33:55.098278Z",
     "shell.execute_reply": "2021-03-28T06:33:55.097832Z"
    },
    "papermill": {
     "duration": 0.085038,
     "end_time": "2021-03-28T06:33:55.098410",
     "exception": false,
     "start_time": "2021-03-28T06:33:55.013372",
     "status": "completed"
    },
    "tags": []
   },
   "outputs": [],
   "source": [
    "train_df['id'] = train_df['id'] + \".png\"\n",
    "val_df['id'] = val_df['id'] + \".png\""
   ]
  },
  {
   "cell_type": "code",
   "execution_count": 35,
   "metadata": {
    "execution": {
     "iopub.execute_input": "2021-03-28T06:33:55.252114Z",
     "iopub.status.busy": "2021-03-28T06:33:55.244699Z",
     "iopub.status.idle": "2021-03-28T06:33:55.290576Z",
     "shell.execute_reply": "2021-03-28T06:33:55.290074Z"
    },
    "papermill": {
     "duration": 0.122683,
     "end_time": "2021-03-28T06:33:55.290735",
     "exception": false,
     "start_time": "2021-03-28T06:33:55.168052",
     "status": "completed"
    },
    "tags": []
   },
   "outputs": [],
   "source": [
    "train_df.to_csv(\"./train.txt\", sep=\" \", header=False, index=False)\n",
    "val_df.to_csv(\"./val.txt\", sep=\" \", header=False, index=False)"
   ]
  },
  {
   "cell_type": "code",
   "execution_count": 36,
   "metadata": {
    "execution": {
     "iopub.execute_input": "2021-03-28T06:33:55.439490Z",
     "iopub.status.busy": "2021-03-28T06:33:55.438569Z",
     "iopub.status.idle": "2021-03-28T06:33:55.441537Z",
     "shell.execute_reply": "2021-03-28T06:33:55.441080Z"
    },
    "papermill": {
     "duration": 0.080387,
     "end_time": "2021-03-28T06:33:55.441660",
     "exception": false,
     "start_time": "2021-03-28T06:33:55.361273",
     "status": "completed"
    },
    "tags": []
   },
   "outputs": [],
   "source": [
    "import mmcv\n",
    "import numpy as np\n",
    "\n",
    "from mmcls.datasets import DATASETS, BaseDataset\n",
    "\n",
    "\n",
    "# Regist model so that we can access the class through str in configs\n",
    "@DATASETS.register_module()\n",
    "class VinBigDataset(BaseDataset):\n",
    "\n",
    "    def load_annotations(self):\n",
    "        assert isinstance(self.ann_file, str)\n",
    "\n",
    "        data_infos = []\n",
    "        with open(self.ann_file) as f:\n",
    "            # The ann_file is the annotation files we generate above.\n",
    "            samples = [x.strip().split(' ') for x in f.readlines()]\n",
    "            for filename, gt_label in samples:\n",
    "                info = {'img_prefix': self.data_prefix}\n",
    "                info['img_info'] = {'filename': filename}\n",
    "                info['gt_label'] = np.array(gt_label, dtype=np.int64)\n",
    "                data_infos.append(info)\n",
    "            return data_infos"
   ]
  },
  {
   "cell_type": "code",
   "execution_count": 37,
   "metadata": {
    "execution": {
     "iopub.execute_input": "2021-03-28T06:33:55.581622Z",
     "iopub.status.busy": "2021-03-28T06:33:55.580862Z",
     "iopub.status.idle": "2021-03-28T06:33:55.593727Z",
     "shell.execute_reply": "2021-03-28T06:33:55.592350Z"
    },
    "papermill": {
     "duration": 0.085897,
     "end_time": "2021-03-28T06:33:55.593869",
     "exception": false,
     "start_time": "2021-03-28T06:33:55.507972",
     "status": "completed"
    },
    "tags": []
   },
   "outputs": [],
   "source": [
    "\n",
    "\n",
    "# Load the existing config file\n",
    "from mmcv import Config\n",
    "# cfg = Config.fromfile('configs/resnet/resnet50_b32x8_imagenet.py')\n",
    "cfg = Config.fromfile('configs/resnext/resnext101_32x4d_b32x8_imagenet.py')\n",
    "\n",
    "\n",
    "\n"
   ]
  },
  {
   "cell_type": "code",
   "execution_count": 38,
   "metadata": {
    "execution": {
     "iopub.execute_input": "2021-03-28T06:33:55.737470Z",
     "iopub.status.busy": "2021-03-28T06:33:55.736668Z",
     "iopub.status.idle": "2021-03-28T06:33:55.740208Z",
     "shell.execute_reply": "2021-03-28T06:33:55.739677Z"
    },
    "papermill": {
     "duration": 0.075809,
     "end_time": "2021-03-28T06:33:55.740334",
     "exception": false,
     "start_time": "2021-03-28T06:33:55.664525",
     "status": "completed"
    },
    "tags": []
   },
   "outputs": [],
   "source": [
    "import os.path as osp\n",
    "classes = ['normal', 'diseases']\n",
    "with open(osp.join('./', 'classes.txt'), 'w') as f:\n",
    "    f.writelines('\\n'.join(classes))"
   ]
  },
  {
   "cell_type": "code",
   "execution_count": 39,
   "metadata": {
    "execution": {
     "iopub.execute_input": "2021-03-28T06:33:55.888474Z",
     "iopub.status.busy": "2021-03-28T06:33:55.887494Z",
     "iopub.status.idle": "2021-03-28T06:33:55.890250Z",
     "shell.execute_reply": "2021-03-28T06:33:55.889805Z"
    },
    "papermill": {
     "duration": 0.079976,
     "end_time": "2021-03-28T06:33:55.890382",
     "exception": false,
     "start_time": "2021-03-28T06:33:55.810406",
     "status": "completed"
    },
    "tags": []
   },
   "outputs": [],
   "source": [
    "# Specify the new dataset class\n",
    "cfg.dataset_type = 'VinBigDataset'\n",
    "cfg.data.train.type = cfg.dataset_type\n",
    "cfg.data.val.type = cfg.dataset_type\n",
    "cfg.data.test.type = cfg.dataset_type\n",
    "\n",
    "# Specify the training annotations\n",
    "cfg.data.train.ann_file = './train.txt'\n",
    "\n",
    "# The followings are the same as above\n",
    "cfg.data.samples_per_gpu = 32\n",
    "cfg.data.workers_per_gpu=2\n",
    "\n",
    "cfg.img_norm_cfg = dict(\n",
    "    mean=[124.508, 116.050, 106.438], std=[58.577, 57.310, 57.437], to_rgb=True)\n",
    "\n",
    "cfg.data.train.data_prefix = '../../input/vinbigdata-1024-image-dataset/vinbigdata/train'\n",
    "cfg.data.train.classes = './classes.txt'\n",
    "\n",
    "cfg.data.val.data_prefix = '../../input/vinbigdata-1024-image-dataset/vinbigdata/train'\n",
    "cfg.data.val.ann_file = './val.txt'\n",
    "cfg.data.val.classes = './classes.txt'\n",
    "\n",
    "cfg.data.test.data_prefix = '../../input/vinbigdata-1024-image-dataset/vinbigdata/train'\n",
    "cfg.data.test.ann_file = './val.txt'\n",
    "cfg.data.test.classes = './classes.txt'\n",
    "# Modify the metric method\n",
    "cfg.evaluation['metric_options']={'topk': (1)}\n"
   ]
  },
  {
   "cell_type": "code",
   "execution_count": 40,
   "metadata": {
    "execution": {
     "iopub.execute_input": "2021-03-28T06:33:56.039050Z",
     "iopub.status.busy": "2021-03-28T06:33:56.038252Z",
     "iopub.status.idle": "2021-03-28T06:33:56.171788Z",
     "shell.execute_reply": "2021-03-28T06:33:56.171254Z"
    },
    "papermill": {
     "duration": 0.209514,
     "end_time": "2021-03-28T06:33:56.171928",
     "exception": false,
     "start_time": "2021-03-28T06:33:55.962414",
     "status": "completed"
    },
    "tags": []
   },
   "outputs": [
    {
     "name": "stdout",
     "output_type": "stream",
     "text": [
      "normal\r\n",
      "diseases"
     ]
    }
   ],
   "source": [
    "! cat \"classes.txt\""
   ]
  },
  {
   "cell_type": "code",
   "execution_count": 41,
   "metadata": {
    "execution": {
     "iopub.execute_input": "2021-03-28T06:33:56.317956Z",
     "iopub.status.busy": "2021-03-28T06:33:56.317396Z",
     "iopub.status.idle": "2021-03-28T06:33:57.320753Z",
     "shell.execute_reply": "2021-03-28T06:33:57.319585Z"
    },
    "papermill": {
     "duration": 1.079846,
     "end_time": "2021-03-28T06:33:57.320921",
     "exception": false,
     "start_time": "2021-03-28T06:33:56.241075",
     "status": "completed"
    },
    "tags": []
   },
   "outputs": [
    {
     "name": "stdout",
     "output_type": "stream",
     "text": [
      "Config:\n",
      "model = dict(\n",
      "    type='ImageClassifier',\n",
      "    backbone=dict(\n",
      "        type='ResNeXt',\n",
      "        depth=101,\n",
      "        num_stages=4,\n",
      "        out_indices=(3, ),\n",
      "        groups=32,\n",
      "        width_per_group=4,\n",
      "        style='pytorch'),\n",
      "    neck=dict(type='GlobalAveragePooling'),\n",
      "    head=dict(\n",
      "        type='LinearClsHead',\n",
      "        num_classes=2,\n",
      "        in_channels=2048,\n",
      "        loss=dict(type='CrossEntropyLoss', loss_weight=1.0),\n",
      "        topk=1))\n",
      "dataset_type = 'VinBigDataset'\n",
      "img_norm_cfg = dict(\n",
      "    mean=[124.508, 116.05, 106.438], std=[58.577, 57.31, 57.437], to_rgb=True)\n",
      "train_pipeline = [\n",
      "    dict(type='LoadImageFromFile'),\n",
      "    dict(type='RandomResizedCrop', size=224),\n",
      "    dict(type='RandomFlip', flip_prob=0.5, direction='horizontal'),\n",
      "    dict(\n",
      "        type='Normalize',\n",
      "        mean=[123.675, 116.28, 103.53],\n",
      "        std=[58.395, 57.12, 57.375],\n",
      "        to_rgb=True),\n",
      "    dict(type='ImageToTensor', keys=['img']),\n",
      "    dict(type='ToTensor', keys=['gt_label']),\n",
      "    dict(type='Collect', keys=['img', 'gt_label'])\n",
      "]\n",
      "test_pipeline = [\n",
      "    dict(type='LoadImageFromFile'),\n",
      "    dict(type='Resize', size=(256, -1)),\n",
      "    dict(type='CenterCrop', crop_size=224),\n",
      "    dict(\n",
      "        type='Normalize',\n",
      "        mean=[123.675, 116.28, 103.53],\n",
      "        std=[58.395, 57.12, 57.375],\n",
      "        to_rgb=True),\n",
      "    dict(type='ImageToTensor', keys=['img']),\n",
      "    dict(type='Collect', keys=['img'])\n",
      "]\n",
      "data = dict(\n",
      "    samples_per_gpu=32,\n",
      "    workers_per_gpu=2,\n",
      "    train=dict(\n",
      "        type='VinBigDataset',\n",
      "        data_prefix=\n",
      "        '../../input/vinbigdata-1024-image-dataset/vinbigdata/train',\n",
      "        pipeline=[\n",
      "            dict(type='LoadImageFromFile'),\n",
      "            dict(type='RandomResizedCrop', size=224),\n",
      "            dict(type='RandomFlip', flip_prob=0.5, direction='horizontal'),\n",
      "            dict(\n",
      "                type='Normalize',\n",
      "                mean=[123.675, 116.28, 103.53],\n",
      "                std=[58.395, 57.12, 57.375],\n",
      "                to_rgb=True),\n",
      "            dict(type='ImageToTensor', keys=['img']),\n",
      "            dict(type='ToTensor', keys=['gt_label']),\n",
      "            dict(type='Collect', keys=['img', 'gt_label'])\n",
      "        ],\n",
      "        ann_file='./train.txt',\n",
      "        classes='./classes.txt'),\n",
      "    val=dict(\n",
      "        type='VinBigDataset',\n",
      "        data_prefix=\n",
      "        '../../input/vinbigdata-1024-image-dataset/vinbigdata/train',\n",
      "        ann_file='./val.txt',\n",
      "        pipeline=[\n",
      "            dict(type='LoadImageFromFile'),\n",
      "            dict(type='Resize', size=(256, -1)),\n",
      "            dict(type='CenterCrop', crop_size=224),\n",
      "            dict(\n",
      "                type='Normalize',\n",
      "                mean=[123.675, 116.28, 103.53],\n",
      "                std=[58.395, 57.12, 57.375],\n",
      "                to_rgb=True),\n",
      "            dict(type='ImageToTensor', keys=['img']),\n",
      "            dict(type='Collect', keys=['img'])\n",
      "        ],\n",
      "        classes='./classes.txt'),\n",
      "    test=dict(\n",
      "        type='VinBigDataset',\n",
      "        data_prefix=\n",
      "        '../../input/vinbigdata-1024-image-dataset/vinbigdata/train',\n",
      "        ann_file='./val.txt',\n",
      "        pipeline=[\n",
      "            dict(type='LoadImageFromFile'),\n",
      "            dict(type='Resize', size=(256, -1)),\n",
      "            dict(type='CenterCrop', crop_size=224),\n",
      "            dict(\n",
      "                type='Normalize',\n",
      "                mean=[123.675, 116.28, 103.53],\n",
      "                std=[58.395, 57.12, 57.375],\n",
      "                to_rgb=True),\n",
      "            dict(type='ImageToTensor', keys=['img']),\n",
      "            dict(type='Collect', keys=['img'])\n",
      "        ],\n",
      "        classes='./classes.txt'))\n",
      "evaluation = dict(interval=1, metric='accuracy', metric_options=dict(topk=1))\n",
      "optimizer = dict(type='SGD', lr=0.01, momentum=0.9, weight_decay=0.0001)\n",
      "optimizer_config = dict(grad_clip=None)\n",
      "lr_config = dict(policy='step', step=[1])\n",
      "runner = dict(type='EpochBasedRunner', max_epochs=2)\n",
      "checkpoint_config = dict(interval=1)\n",
      "log_config = dict(interval=100, hooks=[dict(type='TextLoggerHook')])\n",
      "dist_params = dict(backend='nccl')\n",
      "log_level = 'INFO'\n",
      "load_from = 'checkpoints/resnext50_32x4d_batch256_imagenet_20200708-c07adbb7.pth'\n",
      "resume_from = None\n",
      "workflow = [('train', 1)]\n",
      "work_dir = './vin_work_dirs'\n",
      "seed = 0\n",
      "gpu_ids = range(0, 1)\n",
      "\n"
     ]
    }
   ],
   "source": [
    "# MODOL CONFIG\n",
    "# Modify num classes of the model in classification head\n",
    "cfg.model.head.num_classes = 2\n",
    "cfg.model.head.topk = (1)\n",
    "\n",
    "# SCHEDULE CONFIG\n",
    "# Optimizer\n",
    "cfg.optimizer = dict(type='SGD', lr=0.01, momentum=0.9, weight_decay=0.0001)\n",
    "cfg.optimizer_config = dict(grad_clip=None)\n",
    "# Learning policy\n",
    "cfg.lr_config = dict(policy='step', step=[1])\n",
    "cfg.runner = dict(type='EpochBasedRunner', max_epochs=2)\n",
    "\n",
    "# RUNTIME CONFIG\n",
    "# Load the pretrained weights\n",
    "# cfg.load_from = 'checkpoints/resnet50_batch256_imagenet_20200708-cfb998bf.pth'\n",
    "cfg.load_from = 'checkpoints/resnext50_32x4d_batch256_imagenet_20200708-c07adbb7.pth'\n",
    "# Set up working dir to save files and logs.\n",
    "cfg.work_dir = './vin_work_dirs'\n",
    "from mmcls.apis import set_random_seed\n",
    "# Set seed thus the results are more reproducible\n",
    "cfg.seed = 0\n",
    "set_random_seed(0, deterministic=False)\n",
    "cfg.gpu_ids = range(1)\n",
    "\n",
    "# Let's have a look at the final config used for training\n",
    "print(f'Config:\\n{cfg.pretty_text}')"
   ]
  },
  {
   "cell_type": "code",
   "execution_count": 42,
   "metadata": {
    "execution": {
     "iopub.execute_input": "2021-03-28T06:33:57.465696Z",
     "iopub.status.busy": "2021-03-28T06:33:57.464789Z",
     "iopub.status.idle": "2021-03-28T06:33:57.467361Z",
     "shell.execute_reply": "2021-03-28T06:33:57.467797Z"
    },
    "papermill": {
     "duration": 0.076948,
     "end_time": "2021-03-28T06:33:57.467936",
     "exception": false,
     "start_time": "2021-03-28T06:33:57.390988",
     "status": "completed"
    },
    "tags": []
   },
   "outputs": [],
   "source": [
    "cfg.runner.max_epochs = 20"
   ]
  },
  {
   "cell_type": "code",
   "execution_count": 43,
   "metadata": {
    "execution": {
     "iopub.execute_input": "2021-03-28T06:33:57.624449Z",
     "iopub.status.busy": "2021-03-28T06:33:57.614629Z",
     "iopub.status.idle": "2021-03-28T06:33:57.749365Z",
     "shell.execute_reply": "2021-03-28T06:33:57.748797Z"
    },
    "papermill": {
     "duration": 0.209771,
     "end_time": "2021-03-28T06:33:57.749509",
     "exception": false,
     "start_time": "2021-03-28T06:33:57.539738",
     "status": "completed"
    },
    "tags": []
   },
   "outputs": [
    {
     "name": "stdout",
     "output_type": "stream",
     "text": [
      "ls: cannot access './vin_work_dirs': No such file or directory\r\n"
     ]
    }
   ],
   "source": [
    "!ls ./vin_work_dirs"
   ]
  },
  {
   "cell_type": "code",
   "execution_count": 44,
   "metadata": {
    "execution": {
     "iopub.execute_input": "2021-03-28T06:33:57.905193Z",
     "iopub.status.busy": "2021-03-28T06:33:57.904274Z",
     "iopub.status.idle": "2021-03-28T08:09:56.428376Z",
     "shell.execute_reply": "2021-03-28T08:09:56.427549Z"
    },
    "papermill": {
     "duration": 5758.606949,
     "end_time": "2021-03-28T08:09:56.428550",
     "exception": false,
     "start_time": "2021-03-28T06:33:57.821601",
     "status": "completed"
    },
    "tags": []
   },
   "outputs": [
    {
     "name": "stderr",
     "output_type": "stream",
     "text": [
      "/kaggle/working/mmclassification/mmcls/core/evaluation/eval_hooks.py:18: UserWarning: DeprecationWarning: EvalHook and DistEvalHook in mmcls will be deprecated, please install mmcv through master branch.\n",
      "  'DeprecationWarning: EvalHook and DistEvalHook in mmcls will be '\n",
      "2021-03-28 06:34:04,670 - mmcls - INFO - load checkpoint from checkpoints/resnext50_32x4d_batch256_imagenet_20200708-c07adbb7.pth\n",
      "2021-03-28 06:34:04,671 - mmcls - INFO - Use load_from_local loader\n",
      "2021-03-28 06:34:04,779 - mmcls - WARNING - The model and loaded state dict do not match exactly\n",
      "\n",
      "size mismatch for head.fc.weight: copying a param with shape torch.Size([1000, 2048]) from checkpoint, the shape in current model is torch.Size([2, 2048]).\n",
      "size mismatch for head.fc.bias: copying a param with shape torch.Size([1000]) from checkpoint, the shape in current model is torch.Size([2]).\n",
      "missing keys in source state_dict: backbone.layer3.6.conv1.weight, backbone.layer3.6.bn1.weight, backbone.layer3.6.bn1.bias, backbone.layer3.6.bn1.running_mean, backbone.layer3.6.bn1.running_var, backbone.layer3.6.conv2.weight, backbone.layer3.6.bn2.weight, backbone.layer3.6.bn2.bias, backbone.layer3.6.bn2.running_mean, backbone.layer3.6.bn2.running_var, backbone.layer3.6.conv3.weight, backbone.layer3.6.bn3.weight, backbone.layer3.6.bn3.bias, backbone.layer3.6.bn3.running_mean, backbone.layer3.6.bn3.running_var, backbone.layer3.7.conv1.weight, backbone.layer3.7.bn1.weight, backbone.layer3.7.bn1.bias, backbone.layer3.7.bn1.running_mean, backbone.layer3.7.bn1.running_var, backbone.layer3.7.conv2.weight, backbone.layer3.7.bn2.weight, backbone.layer3.7.bn2.bias, backbone.layer3.7.bn2.running_mean, backbone.layer3.7.bn2.running_var, backbone.layer3.7.conv3.weight, backbone.layer3.7.bn3.weight, backbone.layer3.7.bn3.bias, backbone.layer3.7.bn3.running_mean, backbone.layer3.7.bn3.running_var, backbone.layer3.8.conv1.weight, backbone.layer3.8.bn1.weight, backbone.layer3.8.bn1.bias, backbone.layer3.8.bn1.running_mean, backbone.layer3.8.bn1.running_var, backbone.layer3.8.conv2.weight, backbone.layer3.8.bn2.weight, backbone.layer3.8.bn2.bias, backbone.layer3.8.bn2.running_mean, backbone.layer3.8.bn2.running_var, backbone.layer3.8.conv3.weight, backbone.layer3.8.bn3.weight, backbone.layer3.8.bn3.bias, backbone.layer3.8.bn3.running_mean, backbone.layer3.8.bn3.running_var, backbone.layer3.9.conv1.weight, backbone.layer3.9.bn1.weight, backbone.layer3.9.bn1.bias, backbone.layer3.9.bn1.running_mean, backbone.layer3.9.bn1.running_var, backbone.layer3.9.conv2.weight, backbone.layer3.9.bn2.weight, backbone.layer3.9.bn2.bias, backbone.layer3.9.bn2.running_mean, backbone.layer3.9.bn2.running_var, backbone.layer3.9.conv3.weight, backbone.layer3.9.bn3.weight, backbone.layer3.9.bn3.bias, backbone.layer3.9.bn3.running_mean, backbone.layer3.9.bn3.running_var, backbone.layer3.10.conv1.weight, backbone.layer3.10.bn1.weight, backbone.layer3.10.bn1.bias, backbone.layer3.10.bn1.running_mean, backbone.layer3.10.bn1.running_var, backbone.layer3.10.conv2.weight, backbone.layer3.10.bn2.weight, backbone.layer3.10.bn2.bias, backbone.layer3.10.bn2.running_mean, backbone.layer3.10.bn2.running_var, backbone.layer3.10.conv3.weight, backbone.layer3.10.bn3.weight, backbone.layer3.10.bn3.bias, backbone.layer3.10.bn3.running_mean, backbone.layer3.10.bn3.running_var, backbone.layer3.11.conv1.weight, backbone.layer3.11.bn1.weight, backbone.layer3.11.bn1.bias, backbone.layer3.11.bn1.running_mean, backbone.layer3.11.bn1.running_var, backbone.layer3.11.conv2.weight, backbone.layer3.11.bn2.weight, backbone.layer3.11.bn2.bias, backbone.layer3.11.bn2.running_mean, backbone.layer3.11.bn2.running_var, backbone.layer3.11.conv3.weight, backbone.layer3.11.bn3.weight, backbone.layer3.11.bn3.bias, backbone.layer3.11.bn3.running_mean, backbone.layer3.11.bn3.running_var, backbone.layer3.12.conv1.weight, backbone.layer3.12.bn1.weight, backbone.layer3.12.bn1.bias, backbone.layer3.12.bn1.running_mean, backbone.layer3.12.bn1.running_var, backbone.layer3.12.conv2.weight, backbone.layer3.12.bn2.weight, backbone.layer3.12.bn2.bias, backbone.layer3.12.bn2.running_mean, backbone.layer3.12.bn2.running_var, backbone.layer3.12.conv3.weight, backbone.layer3.12.bn3.weight, backbone.layer3.12.bn3.bias, backbone.layer3.12.bn3.running_mean, backbone.layer3.12.bn3.running_var, backbone.layer3.13.conv1.weight, backbone.layer3.13.bn1.weight, backbone.layer3.13.bn1.bias, backbone.layer3.13.bn1.running_mean, backbone.layer3.13.bn1.running_var, backbone.layer3.13.conv2.weight, backbone.layer3.13.bn2.weight, backbone.layer3.13.bn2.bias, backbone.layer3.13.bn2.running_mean, backbone.layer3.13.bn2.running_var, backbone.layer3.13.conv3.weight, backbone.layer3.13.bn3.weight, backbone.layer3.13.bn3.bias, backbone.layer3.13.bn3.running_mean, backbone.layer3.13.bn3.running_var, backbone.layer3.14.conv1.weight, backbone.layer3.14.bn1.weight, backbone.layer3.14.bn1.bias, backbone.layer3.14.bn1.running_mean, backbone.layer3.14.bn1.running_var, backbone.layer3.14.conv2.weight, backbone.layer3.14.bn2.weight, backbone.layer3.14.bn2.bias, backbone.layer3.14.bn2.running_mean, backbone.layer3.14.bn2.running_var, backbone.layer3.14.conv3.weight, backbone.layer3.14.bn3.weight, backbone.layer3.14.bn3.bias, backbone.layer3.14.bn3.running_mean, backbone.layer3.14.bn3.running_var, backbone.layer3.15.conv1.weight, backbone.layer3.15.bn1.weight, backbone.layer3.15.bn1.bias, backbone.layer3.15.bn1.running_mean, backbone.layer3.15.bn1.running_var, backbone.layer3.15.conv2.weight, backbone.layer3.15.bn2.weight, backbone.layer3.15.bn2.bias, backbone.layer3.15.bn2.running_mean, backbone.layer3.15.bn2.running_var, backbone.layer3.15.conv3.weight, backbone.layer3.15.bn3.weight, backbone.layer3.15.bn3.bias, backbone.layer3.15.bn3.running_mean, backbone.layer3.15.bn3.running_var, backbone.layer3.16.conv1.weight, backbone.layer3.16.bn1.weight, backbone.layer3.16.bn1.bias, backbone.layer3.16.bn1.running_mean, backbone.layer3.16.bn1.running_var, backbone.layer3.16.conv2.weight, backbone.layer3.16.bn2.weight, backbone.layer3.16.bn2.bias, backbone.layer3.16.bn2.running_mean, backbone.layer3.16.bn2.running_var, backbone.layer3.16.conv3.weight, backbone.layer3.16.bn3.weight, backbone.layer3.16.bn3.bias, backbone.layer3.16.bn3.running_mean, backbone.layer3.16.bn3.running_var, backbone.layer3.17.conv1.weight, backbone.layer3.17.bn1.weight, backbone.layer3.17.bn1.bias, backbone.layer3.17.bn1.running_mean, backbone.layer3.17.bn1.running_var, backbone.layer3.17.conv2.weight, backbone.layer3.17.bn2.weight, backbone.layer3.17.bn2.bias, backbone.layer3.17.bn2.running_mean, backbone.layer3.17.bn2.running_var, backbone.layer3.17.conv3.weight, backbone.layer3.17.bn3.weight, backbone.layer3.17.bn3.bias, backbone.layer3.17.bn3.running_mean, backbone.layer3.17.bn3.running_var, backbone.layer3.18.conv1.weight, backbone.layer3.18.bn1.weight, backbone.layer3.18.bn1.bias, backbone.layer3.18.bn1.running_mean, backbone.layer3.18.bn1.running_var, backbone.layer3.18.conv2.weight, backbone.layer3.18.bn2.weight, backbone.layer3.18.bn2.bias, backbone.layer3.18.bn2.running_mean, backbone.layer3.18.bn2.running_var, backbone.layer3.18.conv3.weight, backbone.layer3.18.bn3.weight, backbone.layer3.18.bn3.bias, backbone.layer3.18.bn3.running_mean, backbone.layer3.18.bn3.running_var, backbone.layer3.19.conv1.weight, backbone.layer3.19.bn1.weight, backbone.layer3.19.bn1.bias, backbone.layer3.19.bn1.running_mean, backbone.layer3.19.bn1.running_var, backbone.layer3.19.conv2.weight, backbone.layer3.19.bn2.weight, backbone.layer3.19.bn2.bias, backbone.layer3.19.bn2.running_mean, backbone.layer3.19.bn2.running_var, backbone.layer3.19.conv3.weight, backbone.layer3.19.bn3.weight, backbone.layer3.19.bn3.bias, backbone.layer3.19.bn3.running_mean, backbone.layer3.19.bn3.running_var, backbone.layer3.20.conv1.weight, backbone.layer3.20.bn1.weight, backbone.layer3.20.bn1.bias, backbone.layer3.20.bn1.running_mean, backbone.layer3.20.bn1.running_var, backbone.layer3.20.conv2.weight, backbone.layer3.20.bn2.weight, backbone.layer3.20.bn2.bias, backbone.layer3.20.bn2.running_mean, backbone.layer3.20.bn2.running_var, backbone.layer3.20.conv3.weight, backbone.layer3.20.bn3.weight, backbone.layer3.20.bn3.bias, backbone.layer3.20.bn3.running_mean, backbone.layer3.20.bn3.running_var, backbone.layer3.21.conv1.weight, backbone.layer3.21.bn1.weight, backbone.layer3.21.bn1.bias, backbone.layer3.21.bn1.running_mean, backbone.layer3.21.bn1.running_var, backbone.layer3.21.conv2.weight, backbone.layer3.21.bn2.weight, backbone.layer3.21.bn2.bias, backbone.layer3.21.bn2.running_mean, backbone.layer3.21.bn2.running_var, backbone.layer3.21.conv3.weight, backbone.layer3.21.bn3.weight, backbone.layer3.21.bn3.bias, backbone.layer3.21.bn3.running_mean, backbone.layer3.21.bn3.running_var, backbone.layer3.22.conv1.weight, backbone.layer3.22.bn1.weight, backbone.layer3.22.bn1.bias, backbone.layer3.22.bn1.running_mean, backbone.layer3.22.bn1.running_var, backbone.layer3.22.conv2.weight, backbone.layer3.22.bn2.weight, backbone.layer3.22.bn2.bias, backbone.layer3.22.bn2.running_mean, backbone.layer3.22.bn2.running_var, backbone.layer3.22.conv3.weight, backbone.layer3.22.bn3.weight, backbone.layer3.22.bn3.bias, backbone.layer3.22.bn3.running_mean, backbone.layer3.22.bn3.running_var\n",
      "\n",
      "2021-03-28 06:34:04,784 - mmcls - INFO - Start running, host: root@c3d6811f1bc6, work_dir: /kaggle/working/mmclassification/vin_work_dirs\n",
      "2021-03-28 06:34:04,785 - mmcls - INFO - workflow: [('train', 1)], max: 20 epochs\n",
      "2021-03-28 06:35:29,295 - mmcls - INFO - Epoch [1][100/235]\tlr: 1.000e-02, eta: 1:04:47, time: 0.845, data_time: 0.216, memory: 5626, loss: 0.5191, top-1: 75.6875\n",
      "2021-03-28 06:36:52,056 - mmcls - INFO - Epoch [1][200/235]\tlr: 1.000e-02, eta: 1:02:43, time: 0.828, data_time: 0.211, memory: 5626, loss: 0.3999, top-1: 81.1562\n",
      "2021-03-28 06:37:20,895 - mmcls - INFO - Saving checkpoint at 1 epochs\n"
     ]
    },
    {
     "name": "stdout",
     "output_type": "stream",
     "text": [
      "[>>>>>>>>>>>>>>>>>>>>>>>>>>] 7500/7500, 45.4 task/s, elapsed: 165s, ETA:     0s"
     ]
    },
    {
     "name": "stderr",
     "output_type": "stream",
     "text": [
      "2021-03-28 06:40:06,864 - mmcls - INFO - Epoch(val) [1][235]\taccuracy: 82.5333\n",
      "2021-03-28 06:41:13,915 - mmcls - INFO - Epoch [2][100/235]\tlr: 1.000e-03, eta: 0:50:52, time: 0.670, data_time: 0.039, memory: 5626, loss: 0.3050, top-1: 86.5625\n",
      "2021-03-28 06:42:18,591 - mmcls - INFO - Epoch [2][200/235]\tlr: 1.000e-03, eta: 0:48:51, time: 0.647, data_time: 0.012, memory: 5626, loss: 0.2556, top-1: 88.1875\n",
      "2021-03-28 06:42:40,615 - mmcls - INFO - Saving checkpoint at 2 epochs\n"
     ]
    },
    {
     "name": "stdout",
     "output_type": "stream",
     "text": [
      "[>>>>>>>>>>>>>>>>>>>>>>>>>>] 7500/7500, 62.9 task/s, elapsed: 119s, ETA:     0s"
     ]
    },
    {
     "name": "stderr",
     "output_type": "stream",
     "text": [
      "2021-03-28 06:44:40,867 - mmcls - INFO - Epoch(val) [2][235]\taccuracy: 91.8933\n",
      "2021-03-28 06:45:49,621 - mmcls - INFO - Epoch [3][100/235]\tlr: 1.000e-03, eta: 0:44:24, time: 0.687, data_time: 0.050, memory: 5626, loss: 0.2476, top-1: 88.6562\n",
      "2021-03-28 06:46:57,520 - mmcls - INFO - Epoch [3][200/235]\tlr: 1.000e-03, eta: 0:43:40, time: 0.679, data_time: 0.040, memory: 5626, loss: 0.2460, top-1: 89.2812\n",
      "2021-03-28 06:47:19,594 - mmcls - INFO - Saving checkpoint at 3 epochs\n"
     ]
    },
    {
     "name": "stdout",
     "output_type": "stream",
     "text": [
      "[>>>>>>>>>>>>>>>>>>>>>>>>>>] 7500/7500, 61.0 task/s, elapsed: 123s, ETA:     0s"
     ]
    },
    {
     "name": "stderr",
     "output_type": "stream",
     "text": [
      "2021-03-28 06:49:23,635 - mmcls - INFO - Epoch(val) [3][235]\taccuracy: 92.7467\n",
      "2021-03-28 06:50:31,155 - mmcls - INFO - Epoch [4][100/235]\tlr: 1.000e-03, eta: 0:40:34, time: 0.675, data_time: 0.039, memory: 5626, loss: 0.2287, top-1: 90.2500\n",
      "2021-03-28 06:51:38,268 - mmcls - INFO - Epoch [4][200/235]\tlr: 1.000e-03, eta: 0:39:51, time: 0.671, data_time: 0.027, memory: 5626, loss: 0.2346, top-1: 89.2812\n",
      "2021-03-28 06:52:00,625 - mmcls - INFO - Saving checkpoint at 4 epochs\n"
     ]
    },
    {
     "name": "stdout",
     "output_type": "stream",
     "text": [
      "[>>>>>>>>>>>>>>>>>>>>>>>>>>] 7500/7500, 61.8 task/s, elapsed: 121s, ETA:     0s"
     ]
    },
    {
     "name": "stderr",
     "output_type": "stream",
     "text": [
      "2021-03-28 06:54:02,809 - mmcls - INFO - Epoch(val) [4][235]\taccuracy: 91.1867\n",
      "2021-03-28 06:55:10,097 - mmcls - INFO - Epoch [5][100/235]\tlr: 1.000e-03, eta: 0:37:23, time: 0.673, data_time: 0.037, memory: 5626, loss: 0.2238, top-1: 90.2812\n",
      "2021-03-28 06:56:14,738 - mmcls - INFO - Epoch [5][200/235]\tlr: 1.000e-03, eta: 0:36:32, time: 0.646, data_time: 0.009, memory: 5626, loss: 0.2168, top-1: 91.1562\n",
      "2021-03-28 06:56:40,300 - mmcls - INFO - Saving checkpoint at 5 epochs\n"
     ]
    },
    {
     "name": "stdout",
     "output_type": "stream",
     "text": [
      "[>>>>>>>>>>>>>>>>>>>>>>>>>>] 7500/7500, 64.6 task/s, elapsed: 116s, ETA:     0s"
     ]
    },
    {
     "name": "stderr",
     "output_type": "stream",
     "text": [
      "2021-03-28 06:58:37,120 - mmcls - INFO - Epoch(val) [5][235]\taccuracy: 92.4533\n",
      "2021-03-28 06:59:44,231 - mmcls - INFO - Epoch [6][100/235]\tlr: 1.000e-03, eta: 0:34:26, time: 0.671, data_time: 0.038, memory: 5626, loss: 0.2127, top-1: 91.0000\n",
      "2021-03-28 07:00:52,871 - mmcls - INFO - Epoch [6][200/235]\tlr: 1.000e-03, eta: 0:33:46, time: 0.686, data_time: 0.040, memory: 5626, loss: 0.2056, top-1: 90.9062\n",
      "2021-03-28 07:01:14,977 - mmcls - INFO - Saving checkpoint at 6 epochs\n"
     ]
    },
    {
     "name": "stdout",
     "output_type": "stream",
     "text": [
      "[>>>>>>>>>>>>>>>>>>>>>>>>>>] 7500/7500, 65.4 task/s, elapsed: 115s, ETA:     0s"
     ]
    },
    {
     "name": "stderr",
     "output_type": "stream",
     "text": [
      "2021-03-28 07:03:10,498 - mmcls - INFO - Epoch(val) [6][235]\taccuracy: 93.0133\n",
      "2021-03-28 07:04:17,546 - mmcls - INFO - Epoch [7][100/235]\tlr: 1.000e-03, eta: 0:31:51, time: 0.670, data_time: 0.040, memory: 5626, loss: 0.2136, top-1: 90.6562\n",
      "2021-03-28 07:05:21,913 - mmcls - INFO - Epoch [7][200/235]\tlr: 1.000e-03, eta: 0:31:00, time: 0.644, data_time: 0.010, memory: 5626, loss: 0.2019, top-1: 91.8125\n",
      "2021-03-28 07:05:46,982 - mmcls - INFO - Saving checkpoint at 7 epochs\n"
     ]
    },
    {
     "name": "stdout",
     "output_type": "stream",
     "text": [
      "[>>>>>>>>>>>>>>>>>>>>>>>>>>] 7500/7500, 62.6 task/s, elapsed: 120s, ETA:     0s"
     ]
    },
    {
     "name": "stderr",
     "output_type": "stream",
     "text": [
      "2021-03-28 07:07:47,954 - mmcls - INFO - Epoch(val) [7][235]\taccuracy: 93.0000\n",
      "2021-03-28 07:08:54,939 - mmcls - INFO - Epoch [8][100/235]\tlr: 1.000e-03, eta: 0:29:14, time: 0.670, data_time: 0.038, memory: 5626, loss: 0.2081, top-1: 91.4688\n",
      "2021-03-28 07:09:58,925 - mmcls - INFO - Epoch [8][200/235]\tlr: 1.000e-03, eta: 0:28:22, time: 0.640, data_time: 0.010, memory: 5626, loss: 0.1991, top-1: 91.7188\n",
      "2021-03-28 07:10:24,023 - mmcls - INFO - Saving checkpoint at 8 epochs\n"
     ]
    },
    {
     "name": "stdout",
     "output_type": "stream",
     "text": [
      "[>>>>>>>>>>>>>>>>>>>>>>>>>>] 7500/7500, 62.8 task/s, elapsed: 119s, ETA:     0s"
     ]
    },
    {
     "name": "stderr",
     "output_type": "stream",
     "text": [
      "2021-03-28 07:12:24,535 - mmcls - INFO - Epoch(val) [8][235]\taccuracy: 93.2800\n",
      "2021-03-28 07:13:31,926 - mmcls - INFO - Epoch [9][100/235]\tlr: 1.000e-03, eta: 0:26:44, time: 0.674, data_time: 0.041, memory: 5626, loss: 0.1858, top-1: 92.0938\n",
      "2021-03-28 07:14:36,192 - mmcls - INFO - Epoch [9][200/235]\tlr: 1.000e-03, eta: 0:25:51, time: 0.643, data_time: 0.010, memory: 5626, loss: 0.2019, top-1: 91.1875\n",
      "2021-03-28 07:14:58,187 - mmcls - INFO - Saving checkpoint at 9 epochs\n"
     ]
    },
    {
     "name": "stdout",
     "output_type": "stream",
     "text": [
      "[>>>>>>>>>>>>>>>>>>>>>>>>>>] 7500/7500, 58.7 task/s, elapsed: 128s, ETA:     0s"
     ]
    },
    {
     "name": "stderr",
     "output_type": "stream",
     "text": [
      "2021-03-28 07:17:07,074 - mmcls - INFO - Epoch(val) [9][235]\taccuracy: 92.6000\n",
      "2021-03-28 07:18:14,251 - mmcls - INFO - Epoch [10][100/235]\tlr: 1.000e-03, eta: 0:24:17, time: 0.672, data_time: 0.039, memory: 5626, loss: 0.1835, top-1: 92.5312\n",
      "2021-03-28 07:19:18,388 - mmcls - INFO - Epoch [10][200/235]\tlr: 1.000e-03, eta: 0:23:24, time: 0.641, data_time: 0.011, memory: 5626, loss: 0.1978, top-1: 92.0625\n",
      "2021-03-28 07:19:40,562 - mmcls - INFO - Saving checkpoint at 10 epochs\n"
     ]
    },
    {
     "name": "stdout",
     "output_type": "stream",
     "text": [
      "[>>>>>>>>>>>>>>>>>>>>>>>>>>] 7500/7500, 58.1 task/s, elapsed: 129s, ETA:     0s"
     ]
    },
    {
     "name": "stderr",
     "output_type": "stream",
     "text": [
      "2021-03-28 07:21:50,733 - mmcls - INFO - Epoch(val) [10][235]\taccuracy: 92.2800\n",
      "2021-03-28 07:22:57,727 - mmcls - INFO - Epoch [11][100/235]\tlr: 1.000e-03, eta: 0:21:53, time: 0.670, data_time: 0.038, memory: 5626, loss: 0.1842, top-1: 92.4375\n",
      "2021-03-28 07:24:01,908 - mmcls - INFO - Epoch [11][200/235]\tlr: 1.000e-03, eta: 0:20:59, time: 0.642, data_time: 0.009, memory: 5626, loss: 0.1886, top-1: 91.2812\n",
      "2021-03-28 07:24:23,898 - mmcls - INFO - Saving checkpoint at 11 epochs\n"
     ]
    },
    {
     "name": "stdout",
     "output_type": "stream",
     "text": [
      "[>>>>>>>>>>>>>>>>>>>>>>>>>>] 7500/7500, 57.2 task/s, elapsed: 131s, ETA:     0s"
     ]
    },
    {
     "name": "stderr",
     "output_type": "stream",
     "text": [
      "2021-03-28 07:26:35,929 - mmcls - INFO - Epoch(val) [11][235]\taccuracy: 93.3467\n",
      "2021-03-28 07:27:43,634 - mmcls - INFO - Epoch [12][100/235]\tlr: 1.000e-03, eta: 0:19:32, time: 0.677, data_time: 0.043, memory: 5626, loss: 0.1710, top-1: 92.9688\n",
      "2021-03-28 07:28:48,695 - mmcls - INFO - Epoch [12][200/235]\tlr: 1.000e-03, eta: 0:18:38, time: 0.651, data_time: 0.018, memory: 5626, loss: 0.1815, top-1: 92.1562\n",
      "2021-03-28 07:29:10,645 - mmcls - INFO - Saving checkpoint at 12 epochs\n"
     ]
    },
    {
     "name": "stdout",
     "output_type": "stream",
     "text": [
      "[>>>>>>>>>>>>>>>>>>>>>>>>>>] 7500/7500, 54.0 task/s, elapsed: 139s, ETA:     0s"
     ]
    },
    {
     "name": "stderr",
     "output_type": "stream",
     "text": [
      "2021-03-28 07:31:30,374 - mmcls - INFO - Epoch(val) [12][235]\taccuracy: 93.3867\n",
      "2021-03-28 07:32:38,921 - mmcls - INFO - Epoch [13][100/235]\tlr: 1.000e-03, eta: 0:17:13, time: 0.685, data_time: 0.056, memory: 5626, loss: 0.1828, top-1: 92.2188\n",
      "2021-03-28 07:33:43,281 - mmcls - INFO - Epoch [13][200/235]\tlr: 1.000e-03, eta: 0:16:19, time: 0.644, data_time: 0.014, memory: 5626, loss: 0.1877, top-1: 92.2188\n",
      "2021-03-28 07:34:05,252 - mmcls - INFO - Saving checkpoint at 13 epochs\n"
     ]
    },
    {
     "name": "stdout",
     "output_type": "stream",
     "text": [
      "[>>>>>>>>>>>>>>>>>>>>>>>>>>] 7500/7500, 54.4 task/s, elapsed: 138s, ETA:     0s"
     ]
    },
    {
     "name": "stderr",
     "output_type": "stream",
     "text": [
      "2021-03-28 07:36:24,146 - mmcls - INFO - Epoch(val) [13][235]\taccuracy: 93.3600\n",
      "2021-03-28 07:37:31,893 - mmcls - INFO - Epoch [14][100/235]\tlr: 1.000e-03, eta: 0:14:55, time: 0.677, data_time: 0.042, memory: 5626, loss: 0.1621, top-1: 93.1562\n",
      "2021-03-28 07:38:37,132 - mmcls - INFO - Epoch [14][200/235]\tlr: 1.000e-03, eta: 0:14:00, time: 0.652, data_time: 0.011, memory: 5626, loss: 0.1713, top-1: 92.5625\n",
      "2021-03-28 07:38:59,905 - mmcls - INFO - Saving checkpoint at 14 epochs\n"
     ]
    },
    {
     "name": "stdout",
     "output_type": "stream",
     "text": [
      "[>>>>>>>>>>>>>>>>>>>>>>>>>>] 7500/7500, 62.2 task/s, elapsed: 121s, ETA:     0s"
     ]
    },
    {
     "name": "stderr",
     "output_type": "stream",
     "text": [
      "2021-03-28 07:41:01,251 - mmcls - INFO - Epoch(val) [14][235]\taccuracy: 93.8800\n",
      "2021-03-28 07:42:10,145 - mmcls - INFO - Epoch [15][100/235]\tlr: 1.000e-03, eta: 0:12:38, time: 0.689, data_time: 0.047, memory: 5626, loss: 0.1671, top-1: 92.5938\n",
      "2021-03-28 07:43:15,592 - mmcls - INFO - Epoch [15][200/235]\tlr: 1.000e-03, eta: 0:11:42, time: 0.654, data_time: 0.013, memory: 5626, loss: 0.1569, top-1: 92.9375\n",
      "2021-03-28 07:43:38,022 - mmcls - INFO - Saving checkpoint at 15 epochs\n"
     ]
    },
    {
     "name": "stdout",
     "output_type": "stream",
     "text": [
      "[>>>>>>>>>>>>>>>>>>>>>>>>>>] 7500/7500, 52.8 task/s, elapsed: 142s, ETA:     0s"
     ]
    },
    {
     "name": "stderr",
     "output_type": "stream",
     "text": [
      "2021-03-28 07:46:01,105 - mmcls - INFO - Epoch(val) [15][235]\taccuracy: 93.8267\n",
      "2021-03-28 07:47:10,110 - mmcls - INFO - Epoch [16][100/235]\tlr: 1.000e-03, eta: 0:10:21, time: 0.690, data_time: 0.040, memory: 5626, loss: 0.1675, top-1: 93.0625\n",
      "2021-03-28 07:48:15,628 - mmcls - INFO - Epoch [16][200/235]\tlr: 1.000e-03, eta: 0:09:25, time: 0.655, data_time: 0.011, memory: 5626, loss: 0.1651, top-1: 93.3125\n",
      "2021-03-28 07:48:38,005 - mmcls - INFO - Saving checkpoint at 16 epochs\n"
     ]
    },
    {
     "name": "stdout",
     "output_type": "stream",
     "text": [
      "[>>>>>>>>>>>>>>>>>>>>>>>>>>] 7500/7500, 63.0 task/s, elapsed: 119s, ETA:     0s"
     ]
    },
    {
     "name": "stderr",
     "output_type": "stream",
     "text": [
      "2021-03-28 07:50:37,998 - mmcls - INFO - Epoch(val) [16][235]\taccuracy: 93.8133\n",
      "2021-03-28 07:51:46,334 - mmcls - INFO - Epoch [17][100/235]\tlr: 1.000e-03, eta: 0:08:05, time: 0.683, data_time: 0.042, memory: 5626, loss: 0.1576, top-1: 93.0312\n",
      "2021-03-28 07:52:52,031 - mmcls - INFO - Epoch [17][200/235]\tlr: 1.000e-03, eta: 0:07:09, time: 0.657, data_time: 0.016, memory: 5626, loss: 0.1687, top-1: 93.0000\n",
      "2021-03-28 07:53:18,165 - mmcls - INFO - Saving checkpoint at 17 epochs\n"
     ]
    },
    {
     "name": "stdout",
     "output_type": "stream",
     "text": [
      "[>>>>>>>>>>>>>>>>>>>>>>>>>>] 7500/7500, 53.6 task/s, elapsed: 140s, ETA:     0s"
     ]
    },
    {
     "name": "stderr",
     "output_type": "stream",
     "text": [
      "2021-03-28 07:55:39,193 - mmcls - INFO - Epoch(val) [17][235]\taccuracy: 93.2800\n",
      "2021-03-28 07:56:47,607 - mmcls - INFO - Epoch [18][100/235]\tlr: 1.000e-03, eta: 0:05:49, time: 0.684, data_time: 0.040, memory: 5626, loss: 0.1613, top-1: 92.7812\n",
      "2021-03-28 07:57:53,020 - mmcls - INFO - Epoch [18][200/235]\tlr: 1.000e-03, eta: 0:04:52, time: 0.654, data_time: 0.012, memory: 5626, loss: 0.1603, top-1: 93.3438\n",
      "2021-03-28 07:58:15,525 - mmcls - INFO - Saving checkpoint at 18 epochs\n"
     ]
    },
    {
     "name": "stdout",
     "output_type": "stream",
     "text": [
      "[>>>>>>>>>>>>>>>>>>>>>>>>>>] 7500/7500, 63.4 task/s, elapsed: 118s, ETA:     0s"
     ]
    },
    {
     "name": "stderr",
     "output_type": "stream",
     "text": [
      "2021-03-28 08:00:14,899 - mmcls - INFO - Epoch(val) [18][235]\taccuracy: 93.5200\n",
      "2021-03-28 08:01:23,047 - mmcls - INFO - Epoch [19][100/235]\tlr: 1.000e-03, eta: 0:03:33, time: 0.681, data_time: 0.039, memory: 5626, loss: 0.1619, top-1: 93.2188\n",
      "2021-03-28 08:02:28,431 - mmcls - INFO - Epoch [19][200/235]\tlr: 1.000e-03, eta: 0:02:36, time: 0.654, data_time: 0.011, memory: 5626, loss: 0.1518, top-1: 93.1562\n",
      "2021-03-28 08:02:54,265 - mmcls - INFO - Saving checkpoint at 19 epochs\n"
     ]
    },
    {
     "name": "stdout",
     "output_type": "stream",
     "text": [
      "[>>>>>>>>>>>>>>>>>>>>>>>>>>] 7500/7500, 52.6 task/s, elapsed: 143s, ETA:     0s"
     ]
    },
    {
     "name": "stderr",
     "output_type": "stream",
     "text": [
      "2021-03-28 08:05:17,958 - mmcls - INFO - Epoch(val) [19][235]\taccuracy: 93.8133\n",
      "2021-03-28 08:06:26,414 - mmcls - INFO - Epoch [20][100/235]\tlr: 1.000e-03, eta: 0:01:17, time: 0.684, data_time: 0.039, memory: 5626, loss: 0.1521, top-1: 93.9062\n",
      "2021-03-28 08:07:31,937 - mmcls - INFO - Epoch [20][200/235]\tlr: 1.000e-03, eta: 0:00:20, time: 0.655, data_time: 0.011, memory: 5626, loss: 0.1629, top-1: 92.8125\n",
      "2021-03-28 08:07:54,355 - mmcls - INFO - Saving checkpoint at 20 epochs\n"
     ]
    },
    {
     "name": "stdout",
     "output_type": "stream",
     "text": [
      "[>>>>>>>>>>>>>>>>>>>>>>>>>>] 7500/7500, 62.4 task/s, elapsed: 120s, ETA:     0s"
     ]
    },
    {
     "name": "stderr",
     "output_type": "stream",
     "text": [
      "2021-03-28 08:09:55,409 - mmcls - INFO - Epoch(val) [20][235]\taccuracy: 93.8933\n"
     ]
    }
   ],
   "source": [
    "import time\n",
    "\n",
    "from mmcls.datasets import build_dataset\n",
    "from mmcls.models import build_classifier\n",
    "from mmcls.apis import train_model\n",
    "\n",
    "# Create work_dir\n",
    "mmcv.mkdir_or_exist(osp.abspath(cfg.work_dir))\n",
    "# Build the classifier\n",
    "model = build_classifier(cfg.model)\n",
    "# Build the dataset\n",
    "datasets = [build_dataset(cfg.data.train)]\n",
    "# Add an attribute for visualization convenience\n",
    "model.CLASSES = datasets[0].CLASSES\n",
    "# Begin finetuning\n",
    "train_model(\n",
    "    model,\n",
    "    datasets,\n",
    "    cfg,\n",
    "    distributed=False,\n",
    "    validate=True,\n",
    "    timestamp=time.strftime('%Y%m%d_%H%M%S', time.localtime()),\n",
    "    meta=dict())"
   ]
  },
  {
   "cell_type": "code",
   "execution_count": 45,
   "metadata": {
    "execution": {
     "iopub.execute_input": "2021-03-28T08:11:24.321651Z",
     "iopub.status.busy": "2021-03-28T08:11:24.320705Z",
     "iopub.status.idle": "2021-03-28T08:11:24.322734Z",
     "shell.execute_reply": "2021-03-28T08:11:24.323232Z"
    },
    "papermill": {
     "duration": 43.878679,
     "end_time": "2021-03-28T08:11:24.323390",
     "exception": false,
     "start_time": "2021-03-28T08:10:40.444711",
     "status": "completed"
    },
    "tags": []
   },
   "outputs": [],
   "source": [
    "import matplotlib.pyplot as plt"
   ]
  },
  {
   "cell_type": "code",
   "execution_count": 46,
   "metadata": {
    "execution": {
     "iopub.execute_input": "2021-03-28T08:12:51.468154Z",
     "iopub.status.busy": "2021-03-28T08:12:51.467448Z",
     "iopub.status.idle": "2021-03-28T08:12:52.196840Z",
     "shell.execute_reply": "2021-03-28T08:12:52.197359Z"
    },
    "papermill": {
     "duration": 44.402561,
     "end_time": "2021-03-28T08:12:52.197554",
     "exception": false,
     "start_time": "2021-03-28T08:12:07.794993",
     "status": "completed"
    },
    "tags": []
   },
   "outputs": [
    {
     "name": "stderr",
     "output_type": "stream",
     "text": [
      "/kaggle/working/mmclassification/mmcls/models/classifiers/base.py:226: UserWarning: show==False and out_file is not specified, only result image will be returned\n",
      "  warnings.warn('show==False and out_file is not specified, only '\n"
     ]
    },
    {
     "data": {
      "text/plain": [
       "<Figure size 576x432 with 0 Axes>"
      ]
     },
     "metadata": {},
     "output_type": "display_data"
    },
    {
     "data": {
      "image/png": "[encoded data removed]",
      "text/plain": [
       "<Figure size 1080x720 with 1 Axes>"
      ]
     },
     "metadata": {
      "needs_background": "light"
     },
     "output_type": "display_data"
    }
   ],
   "source": [
    "img = mmcv.imread('../../input/vinbigdata-1024-image-dataset/vinbigdata/test/002a34c58c5b758217ed1f584ccbcfe9.png')\n",
    "\n",
    "model.cfg = cfg\n",
    "result = inference_model(model, img)\n",
    "plt.figure(figsize=(8, 6))\n",
    "show_result_pyplot(model, img, result)"
   ]
  },
  {
   "cell_type": "code",
   "execution_count": 47,
   "metadata": {
    "execution": {
     "iopub.execute_input": "2021-03-28T08:14:19.412402Z",
     "iopub.status.busy": "2021-03-28T08:14:19.411679Z",
     "iopub.status.idle": "2021-03-28T08:14:19.414954Z",
     "shell.execute_reply": "2021-03-28T08:14:19.415652Z"
    },
    "papermill": {
     "duration": 43.537213,
     "end_time": "2021-03-28T08:14:19.415864",
     "exception": false,
     "start_time": "2021-03-28T08:13:35.878651",
     "status": "completed"
    },
    "tags": []
   },
   "outputs": [
    {
     "name": "stdout",
     "output_type": "stream",
     "text": [
      "classes='./classes.txt' data.train.data_prefix='../../input/vinbigdata-1024-image-dataset/vinbigdata/train/' data.train.classes='./classes.txt' data.train.ann_file='./train.txt' data.val.data_prefix='../../input/vinbigdata-1024-image-dataset/vinbigdata/test/' data.val.classes='./classes.txt' data.val.ann_file='./val.txt' data.test.data_prefix='../../input/vinbigdata-1024-image-dataset/vinbigdata/test/' data.test.classes='./classes.txt' data.test.ann_file='./test.txt' evaluation.metric_options.topk='1' data.samples_per_gpu='32' data.workers_per_gpu='2' model.head.num_classes='2' model.head.topk='1' optimizer.type='SGD' optimizer.lr='0.01' optimizer.momentum='0.9' optimizer.weight_decay='0.0001' optimizer_config.grad_clip='None' lr_config.policy='step' lr_config.step='1' runner.type='EpochBasedRunner' runner.max_epochs='20' load_from='checkpoints/resnext50_32x4d_batch256_imagenet_20200708-c07adbb7.pth' work_dir='./vin_work_dirs_val' img_norm_cfg.to_rgb='True' \n"
     ]
    }
   ],
   "source": [
    "# \"img_norm_cfg\":\"dict(mean=[124.508, 116.050, 106.438], std=[58.577, 57.310, 57.437], to_rgb=True)\"\n",
    "# \"evaluation.metric_options\": '''dict('topk' : '(1)')''',\n",
    "# \"optimizer\" :  '''dict('type'='SGD', 'lr'='0.01', 'momentum'='0.9', 'weight_decay'='0.0001')''',\n",
    "# \"lr_config\" : '''dict('policy'='step', 'step'='[1]')''',\n",
    "# \"runner\" : '''dict('type'='EpochBasedRunner', 'max_epochs'='2')''',\n",
    "\n",
    "# \"data.train.type\":'VinBigDataset',\n",
    "#     \"data.val.type\" : 'VinBigDataset',\n",
    "#         \"data.test.type\": 'VinBigDataset',   \n",
    "_cfg_options = {\n",
    "\"classes\" : './classes.txt',\n",
    "\"data.train.data_prefix\" : '../../input/vinbigdata-1024-image-dataset/vinbigdata/train/',\n",
    "\"data.train.classes\" : './classes.txt',\n",
    "\"data.train.ann_file\" : './train.txt',\n",
    "             \n",
    "\"data.val.data_prefix\" : '../../input/vinbigdata-1024-image-dataset/vinbigdata/test/',\n",
    "\"data.val.classes\" : './classes.txt',\n",
    "\"data.val.ann_file\" : './val.txt',\n",
    "\n",
    "\"data.test.data_prefix\" :  '../../input/vinbigdata-1024-image-dataset/vinbigdata/test/',\n",
    "\"data.test.classes\" :  './classes.txt',\n",
    "\"data.test.ann_file\" :  './test.txt',\n",
    "'evaluation.metric_options.topk' : '1',\n",
    "\"data.samples_per_gpu\":'32',\n",
    "\"data.workers_per_gpu\" :'2',\n",
    "\"model.head.num_classes\":'2',\n",
    "\"model.head.topk\":\"1\",\n",
    "\"optimizer.type\" : 'SGD',\n",
    "\"optimizer.lr\" : '0.01',\n",
    "\"optimizer.momentum\" : '0.9',\n",
    "\"optimizer.weight_decay\" : '0.0001',\n",
    "\"optimizer_config.grad_clip\" : \"None\",\n",
    "\"lr_config.policy\": 'step',\n",
    "\"lr_config.step\": '1',\n",
    "\"runner.type\": \"EpochBasedRunner\",\n",
    "\"runner.max_epochs\": \"2\",\n",
    "    \n",
    "\"load_from\" : 'checkpoints/resnext50_32x4d_batch256_imagenet_20200708-c07adbb7.pth',\n",
    "\"work_dir\" : './vin_work_dirs_val',\n",
    "\n",
    "\"runner.max_epochs\" : \"20\",\n",
    "   \n",
    "\"img_norm_cfg.to_rgb\" : 'True'\n",
    "}\n",
    "# \"load_from\" : 'checkpoints/resnet50_batch256_imagenet_20200708-cfb998bf.pth',\n",
    "# \"gpu_ids\" : \"range(0, 1)\",\n",
    "# \"img_norm_cfg.mean\" : \"[124.508, 116.050, 106.438]\",\n",
    "# \"img_norm_cfg.std\" : \"[58.577, 57.310, 57.437]\",  \n",
    "cfg_op = \"\"\n",
    "for k, v in _cfg_options.items():\n",
    "    cfg_op+=f\"{k}='{v}' \"\n",
    "print(cfg_op)"
   ]
  },
  {
   "cell_type": "markdown",
   "metadata": {
    "papermill": {
     "duration": 42.829249,
     "end_time": "2021-03-28T08:15:46.155603",
     "exception": false,
     "start_time": "2021-03-28T08:15:03.326354",
     "status": "completed"
    },
    "tags": []
   },
   "source": []
  },
  {
   "cell_type": "code",
   "execution_count": 48,
   "metadata": {
    "execution": {
     "iopub.execute_input": "2021-03-28T08:17:13.086303Z",
     "iopub.status.busy": "2021-03-28T08:17:13.085473Z",
     "iopub.status.idle": "2021-03-28T08:18:25.613122Z",
     "shell.execute_reply": "2021-03-28T08:18:25.612623Z"
    },
    "papermill": {
     "duration": 116.25997,
     "end_time": "2021-03-28T08:18:25.613262",
     "exception": false,
     "start_time": "2021-03-28T08:16:29.353292",
     "status": "completed"
    },
    "tags": []
   },
   "outputs": [
    {
     "name": "stdout",
     "output_type": "stream",
     "text": [
      "/kaggle/working/mmclassification/mmcls/apis/train.py:17: UserWarning: DeprecationWarning: EvalHook and DistEvalHook from mmcls will be deprecated.Please install mmcv through master branch.\r\n",
      "  warnings.warn('DeprecationWarning: EvalHook and DistEvalHook from mmcls '\r\n",
      "Use load_from_local loader\r\n",
      "[>>>>>>>>>>>>>>>>>>>>>>>>>>>] 3000/3000, 49.5 task/s, elapsed: 61s, ETA:     0stools/test.py:145: UserWarning: Evaluation metrics are not specified.\r\n",
      "  warnings.warn('Evaluation metrics are not specified.')\r\n",
      "\r\n",
      "writing results to results_resnext_20_epoch.json\r\n"
     ]
    }
   ],
   "source": [
    "!python tools/test.py configs/resnext/resnext101_32x4d_b32x8_imagenet.py ./vin_work_dirs/latest.pth --out=results_resnext_20_epoch.json --options classes='./classes.txt' data.train.data_prefix='../../input/vinbigdata-1024-image-dataset/vinbigdata/train/' data.train.classes='./classes.txt' data.train.ann_file='./train.txt' data.val.data_prefix='../../input/vinbigdata-1024-image-dataset/vinbigdata/test/' data.val.classes='./classes.txt' data.val.ann_file='./val.txt' data.test.data_prefix='../../input/vinbigdata-1024-image-dataset/vinbigdata/test/' data.test.classes='./classes.txt' data.test.ann_file='./test.txt' evaluation.metric_options.topk='1' data.samples_per_gpu='32' data.workers_per_gpu='2' model.head.num_classes='2' model.head.topk='1' optimizer.type='SGD' optimizer.lr='0.01' optimizer.momentum='0.9' optimizer.weight_decay='0.0001' optimizer_config.grad_clip='None' lr_config.policy='step' lr_config.step='1' runner.type='EpochBasedRunner' runner.max_epochs='20' load_from='checkpoints/resnext50_32x4d_batch256_imagenet_20200708-c07adbb7.pth' work_dir='./vin_work_dirs_val' img_norm_cfg.to_rgb='True'"
   ]
  },
  {
   "cell_type": "code",
   "execution_count": 49,
   "metadata": {
    "execution": {
     "iopub.execute_input": "2021-03-28T08:19:52.324482Z",
     "iopub.status.busy": "2021-03-28T08:19:52.323668Z",
     "iopub.status.idle": "2021-03-28T08:19:52.326761Z",
     "shell.execute_reply": "2021-03-28T08:19:52.326312Z"
    },
    "papermill": {
     "duration": 43.458242,
     "end_time": "2021-03-28T08:19:52.326883",
     "exception": false,
     "start_time": "2021-03-28T08:19:08.868641",
     "status": "completed"
    },
    "tags": []
   },
   "outputs": [],
   "source": [
    "# test_df"
   ]
  }
 ],
 "metadata": {
  "kernelspec": {
   "display_name": "Python 3",
   "language": "python",
   "name": "python3"
  },
  "language_info": {
   "codemirror_mode": {
    "name": "ipython",
    "version": 3
   },
   "file_extension": ".py",
   "mimetype": "text/x-python",
   "name": "python",
   "nbconvert_exporter": "python",
   "pygments_lexer": "ipython3",
   "version": "3.7.9"
  },
  "papermill": {
   "default_parameters": {},
   "duration": 7020.238734,
   "end_time": "2021-03-28T08:20:37.010572",
   "environment_variables": {},
   "exception": null,
   "input_path": "__notebook__.ipynb",
   "output_path": "__notebook__.ipynb",
   "parameters": {},
   "start_time": "2021-03-28T06:23:36.771838",
   "version": "2.2.2"
  }
 },
 "nbformat": 4,
 "nbformat_minor": 4
}
